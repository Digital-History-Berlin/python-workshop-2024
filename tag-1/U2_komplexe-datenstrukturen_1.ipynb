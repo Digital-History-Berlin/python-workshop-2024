{
 "cells": [
  {
   "cell_type": "markdown",
   "metadata": {},
   "source": [
    "# 📝 Übungen Komplexe Datenstrukturen (1)"
   ]
  },
  {
   "cell_type": "markdown",
   "metadata": {},
   "source": [
    "## Aufgabe 1:\n",
    "\n",
    "- Legen Sie eine Liste mit mindestens 5 ganzen Zahlen an \n",
    "- Fügen Sie der Liste mit den bekannten Funktionen zwei weitere Integerwerte hinzu\n",
    "- Sortieren Sie die Liste in aufsteigender Reihenfolge\n",
    "- Berechnen Sie die Summe aller Zahlen in der Liste und geben Sie das Ergebnis aus.\n",
    "\n",
    "⏳ 5 Minuten"
   ]
  },
  {
   "cell_type": "code",
   "execution_count": null,
   "metadata": {},
   "outputs": [],
   "source": [
    "# Ihre Lösung"
   ]
  },
  {
   "cell_type": "markdown",
   "metadata": {},
   "source": [
    "## Aufgabe 2: \n",
    "\n",
    "Erstellen Sie eine Liste, die als Elemente einen String, zwei Integer, drei floats und eine Liste mit vier Integer enthält.\n",
    "\n",
    "Geben Sie die Anzahl der Elemente der Liste aus.\n",
    "\n",
    "Geben Sie den dritten Wert der Liste aus, der in der Liste enthalten ist.\n",
    "\n",
    "⏳ 5 Minuten"
   ]
  },
  {
   "cell_type": "code",
   "execution_count": null,
   "metadata": {},
   "outputs": [],
   "source": [
    "# Ihre Lösung"
   ]
  },
  {
   "cell_type": "markdown",
   "metadata": {},
   "source": [
    "## **Optional/Zusatzaufgabe:** Aufgabe 3\n",
    "\n",
    "Schreiben Sie ein kleines Skript, das durch die Liste `books` navigiert, die sowohl einfache Buchtitel (Strings) als auch eine Liste von Buchtiteln enthält. Das Skript soll für einen vom Nutzenden eingegebenen Buchtitel die Position dieses Titels in der Struktur finden und ausgeben. Die Ausgabe soll differenzieren, ob das Buch auf der obersten Ebene der Liste oder innerhalb der verschachtelten Liste gefunden wurde.\n",
    "\n",
    "Hilfreich können hierbei die folgenden Funktionen sein:\n",
    "- `input()`\n",
    "- `enumerate()`\n",
    "- `type()`\n",
    "- `index()`\n",
    "\n",
    "Außerdem sollten Sie mit bedingten Anweisungen und einer For-Schleife arbeiten.\n",
    "\n",
    "⏳ 20 Minuten\n",
    "\n",
    "*Hinweis: Diese Aufgabe ist deutlich komplexer als die anderen Aufgaben dieser Einheit. Versuchen Sie es einfach mal. :)*"
   ]
  },
  {
   "cell_type": "code",
   "execution_count": null,
   "metadata": {},
   "outputs": [],
   "source": [
    "# bitte ausführen\n",
    "\n",
    "books = [\"Die Verwandlung\", \n",
    "        \"Die Pest\", \n",
    "        \"Eine Geschichte aus zwei Städten\", \n",
    "        \"Digital Humanities. Eine Einführung\", \n",
    "        [\"Harry Potter und der Stein der Weisen\", \n",
    "        \"Harry Potter und die Kammer des Schreckens\", \n",
    "        \"Harry Potter und der Gefangene von Askaban\", \n",
    "        \"...\"]]"
   ]
  },
  {
   "cell_type": "code",
   "execution_count": null,
   "metadata": {},
   "outputs": [],
   "source": [
    "# Ihre Lösung"
   ]
  },
  {
   "cell_type": "markdown",
   "metadata": {},
   "source": [
    "## Aufgabe 4:\n",
    "\n",
    "- Fügen Sie der Liste, die Sie in Aufgabe 2 definiert haben, ein weitere Liste mit vier Integer-Werten hinzu.\n",
    "\n",
    "- Erstellen Sie aus der Liste ein Set und geben dieses aus. Was passiert? (Googlen Sie gerne die Fehlermeldung und machen Sie mit dem nächsten Schritt weiter)\n",
    "\n",
    "- Entfernen Sie die beiden Listen, die in der Liste enthalten sind, und erstellen erneut ein Set.\n",
    "\n",
    "⏳ 10 Minuten"
   ]
  },
  {
   "cell_type": "code",
   "execution_count": null,
   "metadata": {},
   "outputs": [],
   "source": [
    "# Ihre Lösung"
   ]
  }
 ],
 "metadata": {
  "kernelspec": {
   "display_name": "Python 3.9.7",
   "language": "python",
   "name": "python3"
  },
  "language_info": {
   "codemirror_mode": {
    "name": "ipython",
    "version": 3
   },
   "file_extension": ".py",
   "mimetype": "text/x-python",
   "name": "python",
   "nbconvert_exporter": "python",
   "pygments_lexer": "ipython3",
   "version": "3.9.7"
  },
  "orig_nbformat": 4,
  "vscode": {
   "interpreter": {
    "hash": "4cab2e3c59f82d31ef33573b56569893ba7388f3e17b6676d60d91498ea89ea5"
   }
  }
 },
 "nbformat": 4,
 "nbformat_minor": 2
}
