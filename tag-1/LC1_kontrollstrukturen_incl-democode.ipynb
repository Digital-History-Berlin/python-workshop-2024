{
 "cells": [
  {
   "cell_type": "markdown",
   "metadata": {},
   "source": [
    "# 💻 Programmabläufe strukturieren\n",
    "\n",
    "## Bedingte Anweisungen\n",
    "\n",
    "### Dazu essenziell: Boolesche Werte\n"
   ]
  },
  {
   "cell_type": "code",
   "execution_count": null,
   "metadata": {},
   "outputs": [],
   "source": [
    "x = True\n",
    "print(x)"
   ]
  },
  {
   "cell_type": "code",
   "execution_count": null,
   "metadata": {},
   "outputs": [],
   "source": [
    "y = False\n",
    "print(y)"
   ]
  },
  {
   "cell_type": "markdown",
   "metadata": {},
   "source": [
    "- gehören zu den numerischen Datentypen, da sie als 1 (=True) bzw. 0 (=False) repräsentiert werden können"
   ]
  },
  {
   "cell_type": "code",
   "execution_count": null,
   "metadata": {},
   "outputs": [],
   "source": [
    "True == 1                           # Prüfung der Identität mit \"==\" (siehe unten)"
   ]
  },
  {
   "cell_type": "code",
   "execution_count": null,
   "metadata": {},
   "outputs": [],
   "source": [
    "False == 0                          # Prüfung der Identität mit \"==\" (siehe unten)"
   ]
  },
  {
   "cell_type": "markdown",
   "metadata": {},
   "source": [
    "#### Boolescher Operator `not`"
   ]
  },
  {
   "cell_type": "code",
   "execution_count": null,
   "metadata": {},
   "outputs": [],
   "source": [
    "not True"
   ]
  },
  {
   "cell_type": "code",
   "execution_count": null,
   "metadata": {},
   "outputs": [],
   "source": [
    "not False"
   ]
  },
  {
   "cell_type": "markdown",
   "metadata": {},
   "source": [
    "#### Boolescher Operator `and`"
   ]
  },
  {
   "cell_type": "code",
   "execution_count": null,
   "metadata": {},
   "outputs": [],
   "source": [
    "True and False"
   ]
  },
  {
   "cell_type": "code",
   "execution_count": null,
   "metadata": {},
   "outputs": [],
   "source": [
    "True and True"
   ]
  },
  {
   "cell_type": "code",
   "execution_count": null,
   "metadata": {},
   "outputs": [],
   "source": [
    "False and False"
   ]
  },
  {
   "cell_type": "code",
   "execution_count": null,
   "metadata": {},
   "outputs": [],
   "source": [
    "not False and not False"
   ]
  },
  {
   "cell_type": "markdown",
   "metadata": {},
   "source": [
    "#### Boolescher Operator `or`\n",
    "- inklusives Oder"
   ]
  },
  {
   "cell_type": "code",
   "execution_count": null,
   "metadata": {},
   "outputs": [],
   "source": [
    "True or False"
   ]
  },
  {
   "cell_type": "code",
   "execution_count": null,
   "metadata": {},
   "outputs": [],
   "source": [
    "True or True"
   ]
  },
  {
   "cell_type": "code",
   "execution_count": null,
   "metadata": {},
   "outputs": [],
   "source": [
    "False or False"
   ]
  },
  {
   "cell_type": "markdown",
   "metadata": {},
   "source": [
    "#### Vergleichsoperator `in`"
   ]
  },
  {
   "cell_type": "code",
   "execution_count": null,
   "metadata": {},
   "outputs": [],
   "source": [
    "\"Hello\" in \"Hello World!\""
   ]
  },
  {
   "cell_type": "code",
   "execution_count": null,
   "metadata": {},
   "outputs": [],
   "source": [
    "\"Hallo\" in \"Hello World!\""
   ]
  },
  {
   "cell_type": "code",
   "execution_count": null,
   "metadata": {},
   "outputs": [],
   "source": [
    "\"lo\" not in \"Hello World!\""
   ]
  },
  {
   "cell_type": "markdown",
   "metadata": {},
   "source": [
    "#### Vergleichsoperator `is`"
   ]
  },
  {
   "cell_type": "code",
   "execution_count": null,
   "metadata": {},
   "outputs": [],
   "source": [
    "x = \"apple\"\n",
    "y = \"apple\"\n",
    "\n",
    "x is y"
   ]
  },
  {
   "cell_type": "code",
   "execution_count": null,
   "metadata": {},
   "outputs": [],
   "source": [
    "x is not y"
   ]
  },
  {
   "cell_type": "markdown",
   "metadata": {},
   "source": [
    "#### Weitere Vergleichsoperatoren (Metazeichen)"
   ]
  },
  {
   "cell_type": "code",
   "execution_count": null,
   "metadata": {},
   "outputs": [],
   "source": [
    "\"Hallo\" == \"Hallo\""
   ]
  },
  {
   "cell_type": "code",
   "execution_count": null,
   "metadata": {},
   "outputs": [],
   "source": [
    "\"Hello\" == \"Hallo\""
   ]
  },
  {
   "cell_type": "code",
   "execution_count": null,
   "metadata": {},
   "outputs": [],
   "source": [
    "\"42\" == 42"
   ]
  },
  {
   "cell_type": "code",
   "execution_count": null,
   "metadata": {},
   "outputs": [],
   "source": [
    "5 != 10"
   ]
  },
  {
   "cell_type": "code",
   "execution_count": null,
   "metadata": {},
   "outputs": [],
   "source": [
    "5 < 10"
   ]
  },
  {
   "cell_type": "code",
   "execution_count": null,
   "metadata": {},
   "outputs": [],
   "source": [
    "5 > 10"
   ]
  },
  {
   "cell_type": "code",
   "execution_count": null,
   "metadata": {},
   "outputs": [],
   "source": [
    "10 > 10"
   ]
  },
  {
   "cell_type": "code",
   "execution_count": null,
   "metadata": {},
   "outputs": [],
   "source": [
    "10 >= 10"
   ]
  },
  {
   "cell_type": "markdown",
   "metadata": {},
   "source": [
    "---"
   ]
  },
  {
   "cell_type": "markdown",
   "metadata": {},
   "source": [
    "### Kontrollstruktur #1: Bedingte Anweisungen\n",
    "\n",
    "Schlüsselwörter:\n",
    "- `if` \n",
    "- `elif`\n",
    "- `else`"
   ]
  },
  {
   "cell_type": "code",
   "execution_count": null,
   "metadata": {},
   "outputs": [],
   "source": [
    "# einfache Wenn-Dann-Abfrage\n",
    "\n",
    "greeting = \"Hello World!\"\n",
    "sub_string = \"Hello\"\n",
    "\n",
    "if sub_string in greeting:\n",
    "    print(\"Die Zeichenkette ist enthalten.\")\n",
    "else:\n",
    "    print(\"Leider ist die Zeichenkette nicht enthalten.\")\n",
    "\n",
    "print(\"Abfrage beendet.\")"
   ]
  },
  {
   "cell_type": "code",
   "execution_count": null,
   "metadata": {},
   "outputs": [],
   "source": [
    "# wenn, oder wenn, dann\n",
    "\n",
    "sub_string_2 = greeting\n",
    "\n",
    "if sub_string_2 in greeting:\n",
    "    print(\"Die Zeichenkette ist enthalten.\")\n",
    "\n",
    "elif sub_string_2 == greeting:\n",
    "    print(\"Die Zeichenkette ist mit der Grußformel identisch.\")\n",
    "\n",
    "else:\n",
    "    print(\"Leider ist die Zeichenkette nicht enthalten.\")\n",
    "\n",
    "print(\"Abfrage beendet.\")"
   ]
  },
  {
   "cell_type": "markdown",
   "metadata": {},
   "source": [
    "### 📝 **Jetzt:** Aufgabe 1 aus dem Notebook `U1_kontrollstrukturen.ipynb`\n",
    "\n",
    "Definieren Sie die folgenden Variablen\n",
    "```python\n",
    "jahr_x = 1648\n",
    "jahr_y = 1789\n",
    "jahr_z = 1914\n",
    "```\n",
    "Prüfen Sie für jede Variable mit einem if-else-Statement, ob in diesem Jahr die Französische Revolution stattgefunden hat. Nutzen Sie `print`-Statements für die Ausgabe der Prüfung.\n",
    "\n",
    "⏳ 10 Minuten"
   ]
  },
  {
   "cell_type": "markdown",
   "metadata": {},
   "source": [
    "---"
   ]
  },
  {
   "cell_type": "markdown",
   "metadata": {},
   "source": [
    "## Kontrollstruktur #2: Schleifen\n",
    "\n",
    "### Option 1: For-Schleifen"
   ]
  },
  {
   "cell_type": "code",
   "execution_count": null,
   "metadata": {},
   "outputs": [],
   "source": [
    "# Demonstration der Funktionsweise einer For-Schleife\n",
    "\n",
    "for x in \"Hello World!\":\n",
    "    print(x)"
   ]
  },
  {
   "cell_type": "code",
   "execution_count": null,
   "metadata": {},
   "outputs": [],
   "source": [
    "for x in \"Hello World!\":        # x ist die Laufvariable\n",
    "    print(x, end='')            # Print-Ausgabe endet typischerweise mit Newline end=\"\\n\", kann nach eigenem Bedarf angepasst werden"
   ]
  },
  {
   "cell_type": "code",
   "execution_count": null,
   "metadata": {},
   "outputs": [],
   "source": [
    "# For-Schleife mit einem Range-Objekt\n",
    "\n",
    "for x in range(0, 11):\n",
    "    print(x)"
   ]
  },
  {
   "cell_type": "code",
   "execution_count": null,
   "metadata": {},
   "outputs": [],
   "source": [
    "# For-Schleife beenden, wenn eine bestimmte Bedingung erfüllt ist\n",
    "# 1. Durchlauf ohne Break\n",
    "# 2. Durchlauf mit Break\n",
    "\n",
    "for i in range(5):\n",
    "    print(f\"Aktueller loop {i}.\")\n",
    "    if i == 3:\n",
    "        print(\"Bedingung erfüllt.\")\n",
    "        #break\n",
    "    else:\n",
    "        print(\"Bedingung nicht erfüllt.\")"
   ]
  },
  {
   "cell_type": "code",
   "execution_count": null,
   "metadata": {},
   "outputs": [],
   "source": [
    "# Nützliche Funktion: Auf Indexposition und Element gleichzeitig in Schleife zugreifen\n",
    "\n",
    "for i, c in enumerate(\"Hello World!\"): \n",
    "    print(f\"Index => {i}, \\tZeichen => {c}\")"
   ]
  },
  {
   "cell_type": "markdown",
   "metadata": {},
   "source": [
    "### 📝 **Jetzt:** Aufgabe 2 aus dem Notebook `U1_kontrollstrukturen.ipynb`\n",
    "\n",
    "Optimieren Sie Ihre Lösung aus Aufgabe 1 indem Sie von den Funktionalitäten der `for`-Schleife Gebrauch machen.\n",
    "\n",
    "⏳ 10 Minuten"
   ]
  },
  {
   "cell_type": "markdown",
   "metadata": {},
   "source": [
    "---"
   ]
  },
  {
   "cell_type": "markdown",
   "metadata": {},
   "source": [
    "### Option 2: While-Schleifen"
   ]
  },
  {
   "cell_type": "code",
   "execution_count": null,
   "metadata": {},
   "outputs": [],
   "source": [
    "# while-Schleife\n",
    "\n",
    "y = 0\n",
    "while y < 10:\n",
    "    print(y)\n",
    "    y += 1"
   ]
  },
  {
   "cell_type": "code",
   "execution_count": null,
   "metadata": {},
   "outputs": [],
   "source": [
    "eingabe = input(\"Geben Sie etwas ein oder beenden Sie die Schleife durch Eingabe von 'fertig': \")\n",
    "\n",
    "while eingabe != \"fertig\":\n",
    "    print(eingabe)\n",
    "    eingabe = input(\"Geben Sie etwas ein oder beenden Sie die Schleife durch Eingabe von 'fertig': \")\n",
    "\n",
    "print(\"Das Programm ist beendet.\")"
   ]
  },
  {
   "cell_type": "markdown",
   "metadata": {},
   "source": [
    "**Wichtiger Hinweis:** While-Schleifen sollten immer terminieren. Gefahr von Endlos-Schleifen!"
   ]
  },
  {
   "cell_type": "markdown",
   "metadata": {},
   "source": [
    "---"
   ]
  },
  {
   "cell_type": "markdown",
   "metadata": {},
   "source": [
    "### 📝 **Optional:** Aufgabe 3 aus dem Notebook `U1_kontrollstrukturen.ipynb`\n",
    "\n",
    "Erstellen Sie eine Liste `obstkorb`, die als Elemente Strings mit den Bezeichnungen von fünf Früchten enthält. \n",
    "\n",
    "Nutzen Sie eine `for`-Schleife, um die Früchte auszugeben, die mit einem 'e' enden.\n",
    "\n",
    "⏳ 5 Minuten"
   ]
  },
  {
   "cell_type": "markdown",
   "metadata": {},
   "source": [
    "### 📝 **Optional:** Aufgabe 4 aus dem Notebook `U1_kontrollstrukturen.ipynb`\n",
    "\n",
    "Weisen Sie einer Variablen einen kurzen Satz zu. \n",
    "\n",
    "Prüfen Sie, ob die Buchstaben, die in dem Satz vorkommen, Vokale sind. Wenn ja, sollen die Vokale einer zuvor definierten leeren Liste `vowels` hinzugefügt werden. \n",
    "\n",
    "Geben Sie am Ende die Anzahl der in dem Satz enthaltenen Vokale aus.\n",
    "\n",
    "⏳ 10 Minuten"
   ]
  }
 ],
 "metadata": {
  "kernelspec": {
   "display_name": "python-workshop",
   "language": "python",
   "name": "python3"
  },
  "language_info": {
   "codemirror_mode": {
    "name": "ipython",
    "version": 3
   },
   "file_extension": ".py",
   "mimetype": "text/x-python",
   "name": "python",
   "nbconvert_exporter": "python",
   "pygments_lexer": "ipython3",
   "version": "3.11.7"
  }
 },
 "nbformat": 4,
 "nbformat_minor": 2
}
