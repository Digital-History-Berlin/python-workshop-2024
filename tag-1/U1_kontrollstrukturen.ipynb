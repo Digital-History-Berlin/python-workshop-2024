{
 "cells": [
  {
   "cell_type": "markdown",
   "metadata": {},
   "source": [
    "# 📝 Übungen zu Kontrollstrukturen und Schleifen\n",
    "\n",
    "## Aufgabe 1:\n",
    "\n",
    "Definieren Sie die folgenden Variablen\n",
    "```python\n",
    "jahr_x = 1648\n",
    "jahr_y = 1789\n",
    "jahr_z = 1914\n",
    "```\n",
    "Prüfen Sie für jede Variable mit einem if-else-Statement, ob in diesem Jahr die Französische Revolution stattgefunden hat. Nutzen Sie `print`-Statements für die Ausgabe der Prüfung.\n",
    "\n",
    "⏳ 10 Minuten"
   ]
  },
  {
   "cell_type": "code",
   "execution_count": null,
   "metadata": {},
   "outputs": [],
   "source": [
    "# Ihre Lösung"
   ]
  },
  {
   "cell_type": "markdown",
   "metadata": {},
   "source": [
    "## Aufgabe 2:\n",
    "Optimieren Sie Ihre Lösung aus Aufgabe 1 indem Sie von den Funktionalitäten der `for`-Schleife Gebrauch machen.\n",
    "\n",
    "⏳ 10 Minuten"
   ]
  },
  {
   "cell_type": "code",
   "execution_count": null,
   "metadata": {},
   "outputs": [],
   "source": [
    "# Ihre Lösung"
   ]
  },
  {
   "cell_type": "markdown",
   "metadata": {},
   "source": [
    "## Aufgabe 3:\n",
    "\n",
    "Erstellen Sie eine Liste `obstkorb`, die als Elemente Strings mit den Bezeichnungen von fünf Früchten enthält. \n",
    "\n",
    "Nutzen Sie eine `for`-Schleife, um die Früchte auszugeben, die mit einem 'e' enden.\n",
    "\n",
    "⏳ 5 Minuten"
   ]
  },
  {
   "cell_type": "code",
   "execution_count": null,
   "metadata": {},
   "outputs": [],
   "source": [
    "# Ihre Lösung"
   ]
  },
  {
   "cell_type": "markdown",
   "metadata": {},
   "source": [
    "## Aufgabe 4:\n",
    "\n",
    "Weisen Sie einer Variablen einen kurzen Satz zu. \n",
    "\n",
    "Prüfen Sie, ob die Buchstaben, die in dem Satz vorkommen, Vokale sind. Wenn ja, sollen die Vokale einer zuvor definierten leeren Liste `vowels` hinzugefügt werden. \n",
    "\n",
    "Geben Sie am Ende die Anzahl der in dem Satz enthaltenen Vokale aus.\n",
    "\n",
    "⏳ 10 Minuten"
   ]
  },
  {
   "cell_type": "code",
   "execution_count": null,
   "metadata": {},
   "outputs": [],
   "source": [
    "# Ihre Lösung"
   ]
  }
 ],
 "metadata": {
  "kernelspec": {
   "display_name": "python-workshop",
   "language": "python",
   "name": "python3"
  },
  "language_info": {
   "name": "python",
   "version": "3.11.7"
  }
 },
 "nbformat": 4,
 "nbformat_minor": 2
}
