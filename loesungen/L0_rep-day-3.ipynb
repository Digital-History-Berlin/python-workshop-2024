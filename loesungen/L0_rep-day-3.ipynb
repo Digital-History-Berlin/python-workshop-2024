{
 "cells": [
  {
   "cell_type": "markdown",
   "metadata": {},
   "source": [
    "# 📝 Übungen zur Wiederholung\n",
    "\n",
    "Konsultieren Sie gerne die Materialien der ersten Workshoptage oder das JupyterBook [Python für Historiker:innen](https://digital-history-berlin.github.io/Python-fuer-Historiker-innen/ch01-atomare-datentypen/07-aufgabe-taschenrechner.html) sowie die [Python-Dokumentation](https://docs.python.org/3/) oder auch [Stack Overflow](https://stackoverflow.com/) und tauschen Sie sich untereinander aus.\n",
    "\n",
    "⏳ Insgesamt 30 Minuten, in Dreierteams!\n",
    "\n",
    "## Aufgabe: Einfache Datenerfassung und -analyse \n",
    "\n",
    "Mit dieser Aufgabe wollen wir eine kleine Datenerfassung und -analyse simulieren.\n",
    "\n",
    "Entwickeln Sie dazu in Dreierteams ein Python-Skript, das eine einfache Buchdatenbank in Form einer JSON-Datei erstellt und im Ordner `daten/output` speichert. Die Datei soll mindestens drei Buchtitel enthalten (als Schlüssel) und basierend auf von Ihnen getätigten Benutzer:inneneingaben zu den Buchtiteln mehrere Bewertungen (Skala: 1-5) verzeichnen (die bspw. als Liste zu den jeweiligen Titeln gespeichert werden können).\n",
    "\n",
    "Anschließend soll das Skript die Daten wieder aus dem Ordner `daten/output` einlesen und die Durchschnittsbewertung für jedes Buch berechnen und ausgeben. Dazu ist eine kleine mathematische Berechnung notwendig. :)\n",
    "\n",
    "Zur Bearbeitung dieser Aufgabe werden Sie verschiedene Inhalte der ersten Workshoptage benötigen.\n",
    "\n",
    "Erstellen Sie gerne bedarfsweise zunächst einen Pseudocode und überlegen Sie sich, welche Schritte notwendig sind und wie der Code aufgebaut sein muss.\n"
   ]
  },
  {
   "cell_type": "code",
   "execution_count": null,
   "metadata": {},
   "outputs": [],
   "source": [
    "import json\n",
    "\n",
    "# Schritt 1: Daten sammeln\n",
    "buchdatenbank = {}\n",
    "\n",
    "buchtitel = input(\"Bitte geben Sie einen Buchtitel ein (oder 'fertig' zum Beenden des Programms).\")\n",
    "\n",
    "while buchtitel.lower() != \"fertig\":\n",
    "    wertung = int(input(f\"Bewertung für '{buchtitel} (1-5): \"))\n",
    "    if buchtitel in buchdatenbank:\n",
    "        buchdatenbank[buchtitel].append(wertung)\n",
    "    else:\n",
    "        buchdatenbank[buchtitel] = [wertung]\n",
    "    \n",
    "    buchtitel = input(\"Geben Sie den nächsten Buchtitel ein oder beenden Sie das Programm durch die Eingabe 'fertig'.\")\n",
    "\n",
    "\n",
    "with open(\"../daten/output/buchdatenbank.json\", \"w\", encoding=\"utf-8\") as file:\n",
    "    json.dump(buchdatenbank, file, indent=4, ensure_ascii=False)"
   ]
  },
  {
   "cell_type": "code",
   "execution_count": null,
   "metadata": {},
   "outputs": [],
   "source": [
    "# Schritt 2: Daten auswerten\n",
    "\n",
    "with open(\"../daten/output/buchdatenbank.json\", \"r\", encoding=\"utf-8\") as file:\n",
    "    daten = json.load(file)\n",
    "\n",
    "for titel, bewertung in daten.items():\n",
    "    mean = sum(bewertung) / len(bewertung)\n",
    "    print(f\"Der Titel '{titel}' wurde durchschnitt mit '{mean}' von 5 bewertet.\")"
   ]
  },
  {
   "cell_type": "code",
   "execution_count": null,
   "metadata": {},
   "outputs": [],
   "source": []
  }
 ],
 "metadata": {
  "kernelspec": {
   "display_name": "mininghistoriansweb",
   "language": "python",
   "name": "python3"
  },
  "language_info": {
   "codemirror_mode": {
    "name": "ipython",
    "version": 3
   },
   "file_extension": ".py",
   "mimetype": "text/x-python",
   "name": "python",
   "nbconvert_exporter": "python",
   "pygments_lexer": "ipython3",
   "version": "3.11.7"
  }
 },
 "nbformat": 4,
 "nbformat_minor": 2
}
