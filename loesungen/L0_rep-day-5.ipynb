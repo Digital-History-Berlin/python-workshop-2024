{
 "cells": [
  {
   "cell_type": "markdown",
   "metadata": {},
   "source": [
    "# 📝 Übungen zur Wiederholung\n",
    "\n",
    "Konsultieren Sie gerne die Materialien der ersten drei Workshoptage oder das JupyterBook [Python für Historiker:innen](https://digital-history-berlin.github.io/Python-fuer-Historiker-innen/ch01-atomare-datentypen/07-aufgabe-taschenrechner.html) sowie die [Python-Dokumentation](https://docs.python.org/3/) und die [RE-Dokumentation](https://docs.python.org/3/library/re.html) oder auch [Stack Overflow](https://stackoverflow.com/) und tauschen Sie sich untereinander aus.\n",
    "\n",
    "⏳ Insgesamt 30 Minuten\n",
    "\n",
    "\n",
    "## Aufgabe: Franz Kafkas \"Die Verwandlung\" mit Regulären Ausdrücken verwandeln\n",
    "\n",
    "Lesen Sie den Text von Franz Kafkas \"Die Verwandlung\" ein und führen Sie die folgenden Bearbeitungen mithilfe von Regulären Ausdrücken aus:\n",
    "\n",
    "- Entfernen Sie alle Seitenangaben nach dem Muster \"[1177/0001]\" und weisen Sie den Text einer neuen Variablen zu.\n",
    "- Entfernen Sie alle Whitespaces und weisen Sie den Text einer neuen Variablen zu.\n",
    "- Extrahieren Sie alle Vorkommen von wörtlicher Rede. Welche Zeichen können Sie sich dafür zunutze machen?\n",
    "- Extrahieren Sie alle Vorkommen, die auf das Wort \"Verwandlung\" bzw. \"verwandeln\" verweisen (dies umfasst verschiedene Konjugationen und Deklinationen)\n",
    "- **Zusatzaufgabe:** Extrahieren Sie alle Sätze, in denen \"Gregor\" vorkommt.\n"
   ]
  },
  {
   "cell_type": "code",
   "execution_count": null,
   "metadata": {},
   "outputs": [],
   "source": [
    "import re\n",
    "\n",
    "# Daten einlesen\n",
    "with open(\"../daten/kafka_verwandlung_1915.txt\") as f:\n",
    "    text = f.read()\n",
    "\n",
    "print(text)"
   ]
  },
  {
   "cell_type": "code",
   "execution_count": null,
   "metadata": {},
   "outputs": [],
   "source": [
    "# Entfernen aller Seitenangaben nach dem Muster [1177/0001]\n",
    "changed_text = re.sub(r\"\\[\\d+/\\d+\\]\", \"\", text)\n",
    "print(changed_text)"
   ]
  },
  {
   "cell_type": "code",
   "execution_count": null,
   "metadata": {},
   "outputs": [],
   "source": [
    "# Entfernen aller Whitespaces\n",
    "\n",
    "changed_text = re.sub(r\"\\s{2}\", \" \", changed_text)\n",
    "print(changed_text)"
   ]
  },
  {
   "cell_type": "code",
   "execution_count": null,
   "metadata": {},
   "outputs": [],
   "source": [
    "# Alle Vorkommen von wörtlicher Rede über eckige Klammern extrahieren\n",
    "marks = re.findall(r\"[»](.*?)[«]\", changed_text)\n",
    "print(len(marks))\n",
    "\n",
    "for mark in marks:\n",
    "    print(mark)"
   ]
  },
  {
   "cell_type": "code",
   "execution_count": null,
   "metadata": {},
   "outputs": [],
   "source": [
    "# Vorkommen von Wörtern wie Verwandlung, verwandeln, etc.\n",
    "\n",
    "metamorphosis = re.findall(r\"\\bverwand[e|l]\\w*\", changed_text, re.IGNORECASE)\n",
    "for each in metamorphosis:\n",
    "    print(each)"
   ]
  },
  {
   "cell_type": "code",
   "execution_count": null,
   "metadata": {},
   "outputs": [],
   "source": [
    "# [^.]*     - eine beliebige Folge von Zeichen, die keinen Punkt enthält\n",
    "# Gregor    - Literal, das gesucht wird\n",
    "# [^.]*     - eine beliebige Folge von Zeichen, die keinen Punkt enthält\n",
    "# \\.        - Abschluss des Regulären Ausdrucks ist der Satzbegrenzer \".\"\n",
    "\n",
    "gregor_sents = re.findall(r\"[^.]*Gregor[^.]*\\.\", changed_text)\n",
    "print(f\"Anzahl der Sätze, die das Wort 'Gregor' enthalten: {len(gregor_sents)}.\\n\")\n",
    "\n",
    "for each in gregor_sents:\n",
    "    print(each.strip())\n",
    "    print(\"----\")"
   ]
  }
 ],
 "metadata": {
  "kernelspec": {
   "display_name": "python-workshop",
   "language": "python",
   "name": "python3"
  },
  "language_info": {
   "codemirror_mode": {
    "name": "ipython",
    "version": 3
   },
   "file_extension": ".py",
   "mimetype": "text/x-python",
   "name": "python",
   "nbconvert_exporter": "python",
   "pygments_lexer": "ipython3",
   "version": "3.11.7"
  }
 },
 "nbformat": 4,
 "nbformat_minor": 2
}
