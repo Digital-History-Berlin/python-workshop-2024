{
 "cells": [
  {
   "cell_type": "markdown",
   "metadata": {},
   "source": [
    "# 📝 Übungen zur Wiederholung\n",
    "\n",
    "Konsultieren Sie gerne die Materialien der ersten drei Workshoptage oder das JupyterBook [Python für Historiker:innen](https://digital-history-berlin.github.io/Python-fuer-Historiker-innen/ch01-atomare-datentypen/07-aufgabe-taschenrechner.html) sowie die [Python-Dokumentation](https://docs.python.org/3/) oder auch [Stack Overflow](https://stackoverflow.com/) und tauschen Sie sich untereinander aus.\n",
    "\n",
    "⏳ Insgesamt 30 Minuten\n",
    "\n",
    "\n",
    "## Aufgabe: Eigene Datenabfrage gestalten\n",
    "\n",
    "Überlegen Sie sich für das Korpus der Reden von Angehörigen der Bundesregierung eine eigene inhaltlich-thematische Datenabfrage, die von booleschen Masken Gebrauch macht und visualisieren Sie das Abfrageergebnis im Verhältnis zur Zeit mit Matplotlib und Seaborn. Orientieren Sie sich dazu an den Notebooks `LC5_pandas-basics.ipynb` und `LC6_pandas-plotting.ipynb`. Visualisieren Sie nicht nur die absoluten Häufigkeiten, sondern auch die relativen Häufigkeiten."
   ]
  },
  {
   "cell_type": "code",
   "execution_count": null,
   "metadata": {},
   "outputs": [],
   "source": [
    "import pandas as pd\n",
    "import matplotlib.pyplot as plt\n",
    "import seaborn as sns\n",
    "\n",
    "# Seaborn-Stil anstelle von Matplotlib\n",
    "sns.set_theme(style=\"whitegrid\")\n",
    "\n",
    "# Anweisung speziell für Jupyter Notebooks: \n",
    "# Anzeige der Matplotlib-Grafiken direkt im Notebook statt in einem neuen Fenster\n",
    "%matplotlib inline  \n",
    "\n",
    "# Daten einlesen\n",
    "df = pd.read_json(\"../daten/output/speeches-bundesregierung_bearbeitet.json\")"
   ]
  },
  {
   "cell_type": "code",
   "execution_count": null,
   "metadata": {},
   "outputs": [],
   "source": [
    "# Ihre Lösung"
   ]
  },
  {
   "cell_type": "code",
   "execution_count": null,
   "metadata": {},
   "outputs": [],
   "source": [
    "# Beispielabfrage zur Orientierung\n",
    "mask = (df.loc[:, \"text\"].str.contains(\"Ukraine\")) \\\n",
    "      & (df.loc[:, \"text\"].str.contains(\"Russland\")) \\\n",
    "      & (df.loc[:, \"person\"] == \"Angela Merkel\")        \n",
    "\n",
    "df_uk_ru = df.loc[mask,:]\n",
    "df_uk_ru.shape"
   ]
  },
  {
   "cell_type": "markdown",
   "metadata": {},
   "source": [
    "### Visualisierung der absoluten Häufigkeiten"
   ]
  },
  {
   "cell_type": "code",
   "execution_count": null,
   "metadata": {},
   "outputs": [],
   "source": [
    "count = df_uk_ru.groupby(df_uk_ru.loc[: ,\"date\"].dt.year).size()\n",
    "count "
   ]
  },
  {
   "cell_type": "code",
   "execution_count": null,
   "metadata": {},
   "outputs": [],
   "source": [
    "# Basisvisualisierung\n",
    "plt.figure(figsize=(10, 7), dpi=300)\n",
    "\n",
    "# Plotten der Daten\n",
    "count.plot.bar(color=sns.color_palette(\"husl\", len(count)))\n",
    "\n",
    "# Styling des Layouts\n",
    "plt.title(\"Anzahl der Reden, die das gesuchte Thema beinhalten.\", fontweight=\"semibold\", fontsize=14)\n",
    "plt.xlabel(\"Jahr\", fontsize=12)\n",
    "plt.ylabel(\"Anzahl\", fontsize=12)\n",
    "plt.xticks(rotation=45)  \n",
    "plt.grid(False) \n",
    "plt.grid(True, axis=\"y\") \n",
    "\n",
    "plt.tight_layout(pad=0)\n",
    "# plt.savefig(\"../daten/output/FILENAME.png\")\n",
    "plt.show()"
   ]
  },
  {
   "cell_type": "markdown",
   "metadata": {},
   "source": [
    "### Visualisierung der relativen Häufigkeiten"
   ]
  },
  {
   "cell_type": "code",
   "execution_count": null,
   "metadata": {},
   "outputs": [],
   "source": [
    "# Ermittlung der Gesamtanzahl der Reden von Angela Merkel im Datensatz \n",
    "\n",
    "merkel_mask = df.loc[:, \"person\"] == \"Angela Merkel\"\n",
    "df_merkel = df.loc[merkel_mask, :]\n",
    "year_counts_merkel = df_merkel.groupby(df_merkel.loc[:, \"date\"].dt.year).size()\n",
    "year_counts_merkel"
   ]
  },
  {
   "cell_type": "code",
   "execution_count": null,
   "metadata": {},
   "outputs": [],
   "source": [
    "# Ermittlung der relativen Häufigkeit\n",
    "\n",
    "ratio_counts_to_total = count.divide(year_counts_merkel, fill_value=0)    # divide teilt Anzahl der Reden mit \"digital\" durch Gesamtanzahl der Reden, fill_value=0 sorgt dafür, dass Jahre, in denen keine Reden mit \"digital\" gehalten wurden, im Ergebnis als \"0\" berücksichtigt werden\n",
    "ratio_counts_to_total"
   ]
  },
  {
   "cell_type": "code",
   "execution_count": null,
   "metadata": {},
   "outputs": [],
   "source": [
    "# Basisvisualisierung\n",
    "plt.figure(figsize=(10, 7), dpi=300)\n",
    "\n",
    "# Plotten der Daten\n",
    "ratio_counts_to_total.plot.bar(color=sns.color_palette(\"husl\", len(ratio_counts_to_total)))\n",
    "\n",
    "# Styling des Layouts\n",
    "plt.title(\"Relative Häufigkeit der Reden, die das gesuchte Thema beinhalten.\", fontweight=\"semibold\", fontsize=14)\n",
    "plt.xlabel(\"Jahr\", fontsize=12)\n",
    "plt.ylabel(\"Anzahl\", fontsize=12)\n",
    "plt.xticks(rotation=45)  \n",
    "plt.grid(False) \n",
    "plt.grid(True, axis=\"y\") \n",
    "\n",
    "plt.tight_layout(pad=0)\n",
    "# plt.savefig(\"../daten/output/FILENAME.png\")\n",
    "plt.show()"
   ]
  }
 ],
 "metadata": {
  "kernelspec": {
   "display_name": "python-workshop",
   "language": "python",
   "name": "python3"
  },
  "language_info": {
   "codemirror_mode": {
    "name": "ipython",
    "version": 3
   },
   "file_extension": ".py",
   "mimetype": "text/x-python",
   "name": "python",
   "nbconvert_exporter": "python",
   "pygments_lexer": "ipython3",
   "version": "3.11.7"
  }
 },
 "nbformat": 4,
 "nbformat_minor": 2
}
