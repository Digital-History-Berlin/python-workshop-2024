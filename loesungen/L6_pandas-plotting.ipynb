{
 "cells": [
  {
   "cell_type": "markdown",
   "metadata": {},
   "source": [
    "# 📝 Übung zur Datenvisualisierung mit Pandas und Matplotlib\n",
    "\n",
    "## Aufgabe 1: Mit Datenvisualisierungen vertraut machen\n",
    "\n",
    "Experimentieren Sie mit verschiedenen Gestaltungsmöglichkeiten einer Balkendiagramm-Visualisierung in Matplotlib und Seaborn, um ein besseres Verständnis für die Anpassung und Konfiguration von Diagrammen zu entwickeln.\n",
    "\n",
    "**1. Farbpalette ändern:** Konsultieren Sie die Dokumentation von [Seaborns Farbpaletten](https://seaborn.pydata.org/tutorial/color_palettes.html) und wählen Sie eine andere Palette aus. Wenden Sie diese auf Ihr Balkendiagramm an.\n",
    "\n",
    "**2. Kontext und Skalierung anpassen:** Spielen Sie mit unterschiedlichen [Kontexten](https://seaborn.pydata.org/generated/seaborn.set_context.html) wie `notebook`, `talk` und `poster` herum. Ändern Sie auch die Skalierung der Schriftgröße, um die Auswirkungen auf die Visualisierung zu beobachten.\n",
    "\n",
    "**3. Titel und Achsenbeschriftungen:** Ändern Sie den Titel des Diagramms und die Beschriftungen der Achsen. Probieren Sie verschiedene Schriftgrößen aus.\n",
    "\n",
    "**4. Achsenkonfiguration:** Modifizieren Sie die [`plt.xticks`](https://matplotlib.org/stable/api/_as_gen/matplotlib.pyplot.xticks.html) und [`plt.yticks`](https://matplotlib.org/stable/api/_as_gen/matplotlib.pyplot.yticks.html) Anweisungen, um andere Schriftgrößen und Drehwinkel zu testen. Setzen Sie verschiedene Wertebereiche für die Y-Achse mit [`plt.ylim`](https://matplotlib.org/stable/api/_as_gen/matplotlib.pyplot.ylim.html), um zu sehen, wie sich dies auf die Darstellung der Daten auswirkt.\n",
    "\n",
    "**5. Rasterlinien (Grid):** Schalten Sie das Raster ein und aus und fügen Sie es spezifisch für die X- oder Y-Achse hinzu. Passen Sie die Stil- und Farboptionen des Rasters an (siehe dazu die [Matplotlib-Dokumentation](https://matplotlib.org/stable/api/_as_gen/matplotlib.pyplot.grid.html)). Für die Konfiguration der Farbe, werden in der Regel HTML-Codes verwendet, nutzen Sie entsprechend gerne einen [HTML Color Picker](https://www.w3schools.com/colors/colors_picker.asp).\n",
    "\n",
    "Nützliche Ressourcen (neben den Verlinkungen):\n",
    "- [Matplotlib User Guide](https://matplotlib.org/stable/users/index.html)\n",
    "- [Seaborn User guide and tutorial](https://seaborn.pydata.org/tutorial.html)\n",
    "\n",
    "⏳ 20 Minuten\n",
    "\n"
   ]
  },
  {
   "cell_type": "code",
   "execution_count": null,
   "metadata": {},
   "outputs": [],
   "source": [
    "import pandas as pd\n",
    "import matplotlib.pyplot as plt\n",
    "import seaborn as sns\n",
    "\n",
    "# Seaborn-Stil anstelle von Matplotlib\n",
    "sns.set_theme(style=\"whitegrid\")\n",
    "\n",
    "# Anweisung speziell für Jupyter Notebooks: \n",
    "# Anzeige der Matplotlib-Grafiken direkt im Notebook statt in einem neuen Fenster\n",
    "%matplotlib inline  "
   ]
  },
  {
   "cell_type": "code",
   "execution_count": null,
   "metadata": {},
   "outputs": [],
   "source": [
    "# Erzeugung von Beispieldaten: Wahl zum 1. Deutschen Bundestag am 14. August 1949\n",
    "\n",
    "votes = {\"Parteien\":[\"SPD\", \"CDU\", \"FDP\", \"CSU\", \n",
    "                        \"KPD\", \"Parteilose\", \"BP\", \"DP\", \n",
    "                        \"Zentrum\", \"Sonstige\"],\n",
    "            \"Stimmen\":[6934975, 5978636, 2829920, 1380448,\n",
    "                      1361706, 1141647, 986478, 939934, \n",
    "                       727505, 1451149],\n",
    "            \"Prozent\": [29.2, 25.2, 11.9, 5.8,\n",
    "                       5.7, 4.8, 4.2, 4.0, \n",
    "                        3.1, 6.1]}\n",
    "\n",
    "vote_frame = pd.DataFrame(votes, #\n",
    "                          columns=[\"Stimmen\", \"Prozent\"], #\n",
    "                          index=votes[\"Parteien\"]) # \n",
    "print(vote_frame)"
   ]
  },
  {
   "cell_type": "markdown",
   "metadata": {},
   "source": [
    "Der zu modifizierende Code:"
   ]
  },
  {
   "cell_type": "code",
   "execution_count": null,
   "metadata": {},
   "outputs": [],
   "source": [
    "# Diesen Code gerne beliebig anpassen oder in eine andere Codezelle kopieren\n",
    "\n",
    "plt.figure(figsize=(10, 7), dpi=300)                                   \n",
    "colors = sns.color_palette(\"YlOrBr\", 12) \n",
    "sns.set_context(\"paper\", font_scale=1.5, rc={\"lines.linewidth\": 2.5})   \n",
    "\n",
    "vote_frame[\"Prozent\"].plot.bar(color=colors)                     \n",
    "\n",
    "\n",
    "# Beschriftung des Plots\n",
    "plt.title(\"Wahlen zum 1. Deutschen Bundestag\")      \n",
    "plt.xlabel(\"Partei\")                                \n",
    "plt.ylabel(\"Prozent\")                               \n",
    "\n",
    "# Konfiguration der Achsen\n",
    "plt.xticks(fontsize=18, fontweight=\"heavy\", rotation=60)    \n",
    "plt.yticks(fontsize=18, fontweight=\"heavy\")                 \n",
    "plt.ylim(ymin=0, ymax=30)                                   \n",
    "\n",
    "plt.grid(False)                                     \n",
    "plt.grid(True, axis=\"y\")                            \n",
    "plt.tight_layout(pad = 0)                           \n",
    "\n",
    "plt.show()"
   ]
  },
  {
   "cell_type": "code",
   "execution_count": null,
   "metadata": {},
   "outputs": [],
   "source": [
    "# weitere Codezellen nach Bedarf einfügen"
   ]
  },
  {
   "cell_type": "markdown",
   "metadata": {},
   "source": [
    "## Aufgabe 2: Visualisierung der häufigsten Redner:innen\n",
    "\n",
    "Erstellen Sie analog zur Visualisierung der Reden pro Jahr ein Balkendiagramm, das die Anzahl der Reden der 15 häufigsten Redner:innen visualisiert. Sie können den Code weitestgehend übernehmen und an den Stellen anpassen, wo es nötig ist. Überlegen Sie aber, was Sie tun müssen, um nur die 15 Redner:innen mit den meisten Reden zu visualisieren.\n",
    "\n",
    "⏳ 10 Minuten"
   ]
  },
  {
   "cell_type": "code",
   "execution_count": null,
   "metadata": {},
   "outputs": [],
   "source": [
    "df = pd.read_json(\"../daten/output/speeches-bundesregierung_bearbeitet.json\")"
   ]
  },
  {
   "cell_type": "code",
   "execution_count": null,
   "metadata": {},
   "outputs": [],
   "source": [
    "# Gruppieren der Daten nach Jahr und Zählen der Einträge mit der groupby()-Funktion\n",
    "\n",
    "person_counts = df.groupby(df.loc[:, \"person\"]).size()\n",
    "person_counts"
   ]
  },
  {
   "cell_type": "code",
   "execution_count": null,
   "metadata": {},
   "outputs": [],
   "source": [
    "# Sortierung\n",
    "person_counts = person_counts.sort_values(ascending=False)\n",
    "person_counts"
   ]
  },
  {
   "cell_type": "code",
   "execution_count": null,
   "metadata": {},
   "outputs": [],
   "source": [
    "# Basisvisualisierung\n",
    "plt.figure(figsize=(10, 7), dpi=300)\n",
    "\n",
    "# Plotten der Daten\n",
    "person_counts[:15].plot.bar(color=sns.color_palette(\"husl\", 15))\n",
    "\n",
    "# Styling des Layouts\n",
    "plt.title(\"Anzahl der Reden pro Person\", fontweight=\"semibold\", fontsize=14)\n",
    "plt.xlabel(\"Jahr\", fontsize=12)\n",
    "plt.ylabel(\"Anzahl der Reden pro Person\", fontsize=12)\n",
    "plt.xticks(rotation=45)\n",
    "plt.grid(False) \n",
    "plt.grid(True, axis=\"y\")  \n",
    "\n",
    "plt.tight_layout(pad=0)\n",
    "# plt.savefig(\"../daten/output/FILENAME.png\")\n",
    "plt.show()"
   ]
  },
  {
   "cell_type": "markdown",
   "metadata": {},
   "source": [
    "## Aufgabe 3: Ergebnis von Datenabfragen visualisieren\n",
    "\n",
    "Visualisieren Sie die *absoluten* und *relativen* Häufigkeiten des Ergebnisses der im Notebook `LC5_pandas-basics.ipynb` gestellten Aufgabe 3.4:\n",
    "\n",
    "*Suchen Sie nach Reden, ~~die zwischen 2000 und 2010 gehalten wurden,~~ die sich auf Umweltthemen beziehen. In Frage kommen hierfür Begriffe wie \"Umwelt\", \"Klima\", \"Nachhaltigkeit\" oder ähnliches. Formulieren Sie eine Abfrage, die mehrere dieser Begriffe berücksichtigt. Achten Sie ggf. darauf, wie die Bedingungen mit runden Klammern gruppiert werden müssen.*\n",
    "\n",
    "Die Einschränkung auf den Zeitraum 2000-2010 fällt für diese Aufgabenstellung weg. Was fällt Ihnen bei der Visualisierung der relativen Häufigkeiten auf?\n",
    "\n",
    "⏳ 15 Minuten\n"
   ]
  },
  {
   "cell_type": "code",
   "execution_count": null,
   "metadata": {},
   "outputs": [],
   "source": [
    "mask = (df.loc[:, \"text\"].str.contains(\"Umwelt\", case=False)) \\\n",
    "        | (df.loc[:, \"text\"].str.contains(\"Klima\", case=False)) \\\n",
    "        | (df.loc[:, \"text\"].str.contains(\"Nachhaltigkeit\", case=False))\n",
    "\n",
    "df_umwelt = df.loc[mask, :]\n",
    "print(df_umwelt.shape)\n",
    "df_umwelt.head()"
   ]
  },
  {
   "cell_type": "code",
   "execution_count": null,
   "metadata": {},
   "outputs": [],
   "source": [
    "umwelt_counts = df_umwelt.groupby(df_umwelt.loc[: ,\"date\"].dt.year).size()\n",
    "umwelt_counts"
   ]
  },
  {
   "cell_type": "code",
   "execution_count": null,
   "metadata": {},
   "outputs": [],
   "source": [
    "# Basisvisualisierung\n",
    "plt.figure(figsize=(10, 7), dpi=300)\n",
    "\n",
    "# Plotten der Daten\n",
    "umwelt_counts.plot.bar(color=sns.color_palette(\"husl\", len(umwelt_counts)))\n",
    "\n",
    "# Styling des Layouts\n",
    "plt.title(\"Anzahl der Reden, die das Thema 'Umwelt' thematisieren.\", fontweight=\"semibold\", fontsize=14)\n",
    "plt.xlabel(\"Jahr\", fontsize=12)\n",
    "plt.ylabel(\"Anzahl\", fontsize=12)\n",
    "plt.xticks(rotation=45)  \n",
    "plt.grid(False) \n",
    "plt.grid(True, axis=\"y\") \n",
    "\n",
    "plt.tight_layout(pad=0)\n",
    "# plt.savefig(\"../daten/output/FILENAME.png\")\n",
    "plt.show()"
   ]
  },
  {
   "cell_type": "code",
   "execution_count": null,
   "metadata": {},
   "outputs": [],
   "source": [
    "# Gruppieren der Daten nach Jahr und Zählen der Einträge mit der groupby()-Funktion\n",
    "\n",
    "year_counts = df.groupby(df.loc[:, \"date\"].dt.year).size()\n",
    "year_counts"
   ]
  },
  {
   "cell_type": "code",
   "execution_count": null,
   "metadata": {},
   "outputs": [],
   "source": [
    "ratio_umwelt_to_total = umwelt_counts.divide(year_counts, fill_value=0)\n",
    "ratio_umwelt_to_total"
   ]
  },
  {
   "cell_type": "code",
   "execution_count": null,
   "metadata": {},
   "outputs": [],
   "source": [
    "# Basisvisualisierung\n",
    "plt.figure(figsize=(10, 7), dpi=300)\n",
    "\n",
    "# Plotten der Daten\n",
    "ratio_umwelt_to_total.plot.bar(color=sns.color_palette(\"husl\", len(ratio_umwelt_to_total)))\n",
    "\n",
    "# Styling des Layouts\n",
    "plt.title(\"Relative Häufigkeit der Reden, die das Thema 'Umwelt' thematisieren.\", fontweight=\"semibold\", fontsize=14)\n",
    "plt.xlabel(\"Jahr\", fontsize=12)\n",
    "plt.ylabel(\"Relative Häufigkeit\", fontsize=12)\n",
    "plt.xticks(rotation=45)  \n",
    "plt.grid(False)  \n",
    "plt.grid(True, axis=\"y\")\n",
    "\n",
    "plt.tight_layout(pad=0)\n",
    "# plt.savefig(\"../daten/output/FILENAME.png\")\n",
    "plt.show()"
   ]
  },
  {
   "cell_type": "markdown",
   "metadata": {},
   "source": [
    "## **Optionale Zusatzaufgabe:** Aufgabe 4 - Funktion für Visualisierung erstellen\n",
    "\n",
    "Wie Sie sicherlich festgestellt haben, konnte der Code zur Visualisierung der Auswertungen im zweiten Teil dieses Notebook mit kleineren Anpassungen immer wieder verwendet werden, da die Art der zu visualisierenden Daten sich sehr ähneln. Das heißt, statt immer wieder den Code zu kopieren, könnte eigentlich, wie wir es gelernt haben, eine Funktion erstellt werden, die mit verschiedenen Parametern dann in unterschiedlichen Kontexten aufgerufen werden kann. \n",
    "\n",
    "Probieren Sie gerne einmal aus, wie der Code zur Visualisierung verallgemeinert werden müsste, damit er für die verschiedenen Aufgaben in diesem Notebook verwendet werden kann.\n",
    "\n",
    "⏳ 20 Minuten"
   ]
  },
  {
   "cell_type": "code",
   "execution_count": null,
   "metadata": {},
   "outputs": [],
   "source": [
    "def visualize_as_bar(series_object, label_y, label_x, title):\n",
    "    \"\"\"Erstellt ein Balkendiagramm aus einem Pandas Series-Objekt\n",
    "\n",
    "    Diese Funktion nimmt ein Pandas Series-Objekt und visualisiert es als Balkendiagramm \n",
    "    mit der Möglichkeit, die Beschriftungen der x- und y-Achse sowie den Titel des Diagramms anzupassen.\n",
    "    Die Farben der Balken werden automatisch anhand der \"husl\"-Farbpalette von Seaborn generiert, \n",
    "    basierend auf der Anzahl der Elemente im Series-Objekt. Das kann auch noch über Parameter flexibler \n",
    "    gestaltet werden.\n",
    "\n",
    "    Parameters:\n",
    "    - series_object: Pandas Series-Objekt. Die Daten, die als Balkendiagramm visualisiert werden sollen\n",
    "    - label_y (str): Die Beschriftung für die y-Achse des Diagramms\n",
    "    - label_x (str): Die Beschriftung für die x-Achse des Diagramms\n",
    "    - title (str): Der Titel des Diagramms\n",
    "\n",
    "    Returns:\n",
    "    - Ein Balkendiagramm, das die Daten im series_object visualisiert. Die Funktion gibt nichts zurück, \n",
    "      ruft aber plt.show() auf, um das Diagramm anzuzeigen.\"\"\"\n",
    "\n",
    "\n",
    "    plt.figure(figsize=(10, 7), dpi=300)\n",
    "\n",
    "    # Plotten der Daten\n",
    "    series_object.plot.bar(color=sns.color_palette(\"husl\", len(series_object)))\n",
    "\n",
    "    # Styling des Layouts\n",
    "    plt.title(f\"{title}\", fontweight=\"semibold\", fontsize=14)\n",
    "    plt.xlabel(f\"{label_x}\", fontsize=12)\n",
    "    plt.ylabel(f\"{label_y}\", fontsize=12)\n",
    "    plt.xticks(rotation=45)  \n",
    "    plt.grid(False)  \n",
    "    plt.grid(True, axis=\"y\")  \n",
    "\n",
    "    plt.tight_layout(pad=0)\n",
    "    return plt.show()"
   ]
  },
  {
   "cell_type": "code",
   "execution_count": null,
   "metadata": {},
   "outputs": [],
   "source": [
    "# test function #1\n",
    "visualize_as_bar(person_counts[:15], \"Anzahl\", \"Person\", \"Anzahl der Reden pro Person\")"
   ]
  },
  {
   "cell_type": "code",
   "execution_count": null,
   "metadata": {},
   "outputs": [],
   "source": [
    "# test function #2\n",
    "visualize_as_bar(ratio_umwelt_to_total, \"Relative Häufigkeit\", \"Jahr\", \"Relative Häufigkeit der Reden pro Jahr, die 'Umwelt' thematisieren\")"
   ]
  }
 ],
 "metadata": {
  "kernelspec": {
   "display_name": "python-workshop",
   "language": "python",
   "name": "python3"
  },
  "language_info": {
   "codemirror_mode": {
    "name": "ipython",
    "version": 3
   },
   "file_extension": ".py",
   "mimetype": "text/x-python",
   "name": "python",
   "nbconvert_exporter": "python",
   "pygments_lexer": "ipython3",
   "version": "3.11.7"
  }
 },
 "nbformat": 4,
 "nbformat_minor": 2
}
