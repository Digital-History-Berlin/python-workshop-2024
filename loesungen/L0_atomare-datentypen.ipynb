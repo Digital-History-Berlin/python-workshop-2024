{
 "cells": [
  {
   "cell_type": "markdown",
   "metadata": {},
   "source": [
    "# 📝 Initialer Selbsttest: Atomare Datentypen\n",
    "\n",
    "In Vorbereitung auf den Workshop wurden Sie gebeten, das Kapitel *Atomare Datentypen* aus dem JupyterBook [Python für Historiker:innen](https://digital-history-berlin.github.io/Python-fuer-Historiker-innen/ch01-atomare-datentypen/07-aufgabe-taschenrechner.html) durchzuarbeiten. Mit den nachfolgenden Aufgaben können Sie Ihr Wissen über die grundlegenden Datentypen `integer` und `string` testen.\n",
    "\n",
    "Konsultieren Sie gerne für die Bearbeitung der Aufgaben unterstütztend das JupyterBook.\n",
    "\n",
    "⏳ 30 Minuten"
   ]
  },
  {
   "cell_type": "markdown",
   "metadata": {},
   "source": [
    "## Numerische Datentypen\n",
    "\n",
    "### Aufgabe 1\n",
    "\n",
    "1. Erstellen Sie zwei Variablen. Nutzen Sie sprechende Variablennamen. Einer Variable weisen Sie den Wert Ihrer Hausnummer zu. Die zweite Variable soll Ihre Postleitzahl enthalten.\n",
    "\n",
    "2. Geben Sie Hausnummer und Postleitzahl mit dem `print()`-Befehl aus. Nutzen Sie dabei gerne den f-String zur Formatierung der Ausgabe.\n",
    "\n"
   ]
  },
  {
   "cell_type": "code",
   "execution_count": null,
   "metadata": {},
   "outputs": [],
   "source": [
    "hausnummer = 14\n",
    "plz = 13599\n",
    "\n",
    "print(f\"Meine Hausnummer ist {hausnummer} und meine PLZ {plz}\")"
   ]
  },
  {
   "cell_type": "markdown",
   "metadata": {},
   "source": [
    "3. Prüfen Sie den Datentyp der beiden Variablen mit `type()`."
   ]
  },
  {
   "cell_type": "code",
   "execution_count": null,
   "metadata": {},
   "outputs": [],
   "source": [
    "print(type(hausnummer))\n",
    "print(type(plz))"
   ]
  },
  {
   "cell_type": "markdown",
   "metadata": {},
   "source": [
    "### Aufgabe 2\n",
    "\n",
    "Erstellen Sie drei Variablen und weisen diesen Integer-Werte zu. Nutzen Sie die Variablen, um verschiedene arithmetische Operationen durchzuführen:\n",
    "* Addition\n",
    "* Substraktion\n",
    "* Multiplikation\n",
    "* Division\n",
    "* Exponenten"
   ]
  },
  {
   "cell_type": "code",
   "execution_count": null,
   "metadata": {},
   "outputs": [],
   "source": [
    "# Zuweisung\n",
    "\n",
    "books = 23\n",
    "articles = 254\n",
    "reviews = 57"
   ]
  },
  {
   "cell_type": "code",
   "execution_count": null,
   "metadata": {},
   "outputs": [],
   "source": [
    "# Addition \n",
    "\n",
    "books + articles"
   ]
  },
  {
   "cell_type": "code",
   "execution_count": null,
   "metadata": {},
   "outputs": [],
   "source": [
    "# Substraktion\n",
    "\n",
    "reviews - books"
   ]
  },
  {
   "cell_type": "code",
   "execution_count": null,
   "metadata": {},
   "outputs": [],
   "source": [
    "# Multiplikation\n",
    "\n",
    "books + books"
   ]
  },
  {
   "cell_type": "code",
   "execution_count": null,
   "metadata": {},
   "outputs": [],
   "source": [
    "# Division\n",
    "\n",
    "articles / reviews"
   ]
  },
  {
   "cell_type": "code",
   "execution_count": null,
   "metadata": {},
   "outputs": [],
   "source": [
    "# Exponenten\n",
    "\n",
    "books ** reviews"
   ]
  },
  {
   "cell_type": "markdown",
   "metadata": {},
   "source": [
    "## Strings\n",
    "\n",
    "### Aufgabe 3\n",
    "Die folgenden Arbeitsschritte sollen aufeinander aufbauen, achten Sie also auf die korrekten Variablenzuweisungen:\n",
    "\n",
    "Legen Sie die Variable `zeichenkette` an und speichern Sie darin den String `Brautkleid bleibt Brautkleid und Blaukraut bleibt Blaukraut.`\n",
    "\n",
    "Speichern Sie den String mit Hilfe von `lower()` in Kleinbuchstaben in der Variablen `zeichenkette_lower`. \n",
    "\n",
    "Zählen Sie mit `count()` wie oft der Substring 'au' vorkommt.\n",
    "\n",
    "Ersetzen Sie mit `replace()` 'Blaukraut' durch 'Rotkohl'.\n",
    "\n",
    "Tokenisieren Sie den String anhand von Whitespaces mit der Funktion `split()`.\n",
    "\n",
    "Geben Sie das Ergebnis mit der `print`-Funktion aus."
   ]
  },
  {
   "cell_type": "code",
   "execution_count": null,
   "metadata": {},
   "outputs": [],
   "source": [
    "zeichenkette = \"Brautkleid bleibt Brautkleid und Blaukraut bleibt Blaukraut.\"\n",
    "\n",
    "zeichenkette_lower = zeichenkette.lower()\n",
    "\n",
    "count = zeichenkette_lower.count(\"au\")\n",
    "\n",
    "print(f\"Die Zeichenfolge 'au' kommt {count} Mal im Text vor.\")\n",
    "\n",
    "zeichenkette_replaced = zeichenkette_lower.replace(\"blaukraut\", \"rotkohl\")\n",
    "\n",
    "zeichenkette_tokenized = zeichenkette_replaced.split()\n",
    "\n",
    "print(zeichenkette_tokenized)"
   ]
  },
  {
   "cell_type": "markdown",
   "metadata": {},
   "source": [
    "### Aufgabe 4\n",
    "\n",
    "Erstellen Sie eine Variable `first_name` und weisen Sie Ihren Vornamen zu. Erstellen Sie ferner eine Variable `last_name`, die Ihren Nachnamen enthält. Zusätzlich erstellen Sie eine Variable `house_number` in der Sie Ihre Hausnummer als Integer abspeichern.\n",
    "\n",
    "Konkatenieren Sie die beiden Variablen und weisen das Ergebnis der Variablen `full_name` zu.\n",
    "\n",
    "Geben Sie die Variable `first_name` dreimal hintereinander in Großbuchstaben aus.\n",
    "\n",
    "Bilden Sie einen Satz, in dem Sie sich kurz vorstellen und Auskunft über Ihre Hausnummer geben. (Sie können dazu auch f-Strings nutzen.)"
   ]
  },
  {
   "cell_type": "code",
   "execution_count": null,
   "metadata": {},
   "outputs": [],
   "source": [
    "first_name = \"Melanie\"\n",
    "last_name = \"Althage\"\n",
    "house_number = 14\n",
    "\n",
    "full_name = first_name + \" \"+ last_name\n",
    "print(full_name)\n",
    "\n",
    "print(first_name.upper() * 3)"
   ]
  },
  {
   "cell_type": "code",
   "execution_count": null,
   "metadata": {},
   "outputs": [],
   "source": [
    "print(f\"Mein Name ist {full_name} und ich wohne im Haus mit der Nummer {house_number}.\")"
   ]
  },
  {
   "cell_type": "markdown",
   "metadata": {},
   "source": [
    "### Aufgabe 5: Indexierung und Slicing\n",
    "\n",
    "Führen Sie die erste nachfolgende Codezelle aus, um den Beispielsatz einer Variablen zuzuweisen. Führen Sie dann folgende Operationen aus:\n",
    "\n",
    "- Geben Sie das Zeichen an der ersten Indexposition aus. \n",
    "\n",
    "- Geben Sie das Zeichen an der letzten Indexposition aus.\n",
    "\n",
    "- Geben Sie die letzten 7 Zeichen aus.\n",
    "\n",
    "- Geben Sie alle Zeichen nach der Indexposition 19 aus.\n",
    "\n",
    "- Geben Sie jedes zweite Zeichen aus."
   ]
  },
  {
   "cell_type": "code",
   "execution_count": null,
   "metadata": {},
   "outputs": [],
   "source": [
    "# Beispielsatz\n",
    "first_sentence_prozess = '''Jemand musste Josef K. verleumdet haben, \n",
    "denn ohne dass er etwas Böses getan hätte, \n",
    "wurde er eines Morgens verhaftet.'''"
   ]
  },
  {
   "cell_type": "code",
   "execution_count": null,
   "metadata": {},
   "outputs": [],
   "source": [
    "print(first_sentence_prozess[0])"
   ]
  },
  {
   "cell_type": "code",
   "execution_count": null,
   "metadata": {},
   "outputs": [],
   "source": [
    "print(first_sentence_prozess[-1])"
   ]
  },
  {
   "cell_type": "code",
   "execution_count": null,
   "metadata": {},
   "outputs": [],
   "source": [
    "print(first_sentence_prozess[-7:])"
   ]
  },
  {
   "cell_type": "code",
   "execution_count": null,
   "metadata": {},
   "outputs": [],
   "source": [
    "print(first_sentence_prozess[19:])"
   ]
  },
  {
   "cell_type": "code",
   "execution_count": null,
   "metadata": {},
   "outputs": [],
   "source": [
    "print(first_sentence_prozess[1::2])"
   ]
  }
 ],
 "metadata": {
  "kernelspec": {
   "display_name": "python-workshop",
   "language": "python",
   "name": "python3"
  },
  "language_info": {
   "codemirror_mode": {
    "name": "ipython",
    "version": 3
   },
   "file_extension": ".py",
   "mimetype": "text/x-python",
   "name": "python",
   "nbconvert_exporter": "python",
   "pygments_lexer": "ipython3",
   "version": "3.11.7"
  }
 },
 "nbformat": 4,
 "nbformat_minor": 2
}
