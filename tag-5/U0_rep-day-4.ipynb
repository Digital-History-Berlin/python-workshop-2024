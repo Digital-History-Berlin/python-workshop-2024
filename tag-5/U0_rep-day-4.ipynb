{
 "cells": [
  {
   "cell_type": "markdown",
   "metadata": {},
   "source": [
    "# 📝 Übungen zur Wiederholung\n",
    "\n",
    "Konsultieren Sie gerne die Materialien der ersten drei Workshoptage oder das JupyterBook [Python für Historiker:innen](https://digital-history-berlin.github.io/Python-fuer-Historiker-innen/ch01-atomare-datentypen/07-aufgabe-taschenrechner.html) sowie die [Python-Dokumentation](https://docs.python.org/3/) und die [RE-Dokumentation](https://docs.python.org/3/library/re.html) oder auch [Stack Overflow](https://stackoverflow.com/) und tauschen Sie sich untereinander aus.\n",
    "\n",
    "⏳ Insgesamt 30 Minuten\n",
    "\n",
    "\n",
    "## Aufgabe: Franz Kafkas \"Die Verwandlung\" mit Regulären Ausdrücken verwandeln\n",
    "\n",
    "Lesen Sie den Text von Franz Kafkas \"Die Verwandlung\" ein und führen Sie die folgenden Bearbeitungen mithilfe von Regulären Ausdrücken aus:\n",
    "\n",
    "- Entfernen Sie alle Seitenangaben nach dem Muster \"[1177/0001]\" und weisen Sie den Text einer neuen Variablen zu.\n",
    "- Entfernen Sie alle Whitespaces und weisen Sie den Text einer neuen Variablen zu.\n",
    "- Extrahieren Sie alle Vorkommen von wörtlicher Rede. Welche Zeichen können Sie sich dafür zunutze machen?\n",
    "- Extrahieren Sie alle Vorkommen, die auf das Wort \"Verwandlung\" bzw. \"verwandeln\" verweisen (dies umfasst verschiedene Konjugationen und Deklinationen)\n",
    "- **Zusatzaufgabe:** Extrahieren Sie alle Sätze, in denen \"Gregor\" vorkommt.\n"
   ]
  },
  {
   "cell_type": "code",
   "execution_count": null,
   "metadata": {},
   "outputs": [],
   "source": [
    "import re\n",
    "\n",
    "# Daten einlesen\n",
    "with open(\"../daten/kafka_verwandlung_1915.txt\") as f:\n",
    "    text = f.read()\n",
    "\n",
    "print(text)"
   ]
  },
  {
   "cell_type": "code",
   "execution_count": null,
   "metadata": {},
   "outputs": [],
   "source": [
    "# Ihre Lösung"
   ]
  }
 ],
 "metadata": {
  "kernelspec": {
   "display_name": "python-workshop",
   "language": "python",
   "name": "python3"
  },
  "language_info": {
   "codemirror_mode": {
    "name": "ipython",
    "version": 3
   },
   "file_extension": ".py",
   "mimetype": "text/x-python",
   "name": "python",
   "nbconvert_exporter": "python",
   "pygments_lexer": "ipython3",
   "version": "3.11.7"
  }
 },
 "nbformat": 4,
 "nbformat_minor": 2
}
