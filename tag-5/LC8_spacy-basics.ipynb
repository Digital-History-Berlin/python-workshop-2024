{
 "cells": [
  {
   "cell_type": "markdown",
   "id": "c0ce7041-55e4-4c10-b894-2979ae08c7da",
   "metadata": {
    "slideshow": {
     "slide_type": "slide"
    },
    "tags": []
   },
   "source": [
    "# 💻 spaCy Basics: Eine Einführung in die Grundlagen des NLP-Frameworks\n",
    "\n",
    "Über das Notebook hinausgehende grundlegende Ressourcen zu [spaCy](https://spacy.io/) sind über folgende Links zu erreichen:\n",
    "\n",
    "- Dokumentation und Tutorials: https://spacy.io/usage\n",
    "- Übersicht zu den Sprachmodellen: https://spacy.io/models bzw. https://spacy.io/models/de\n",
    "- API: https://spacy.io/api\n",
    "- Kurs - Modernes NLP mit spaCy: https://course.spacy.io/de\n",
    "- Video Tutorials: https://www.youtube.com/c/ExplosionAI\n",
    "- Sammlung von weiteren Ressourcen zu spaCy: https://spacy.io/universe, https://explosion.ai/software"
   ]
  },
  {
   "cell_type": "markdown",
   "id": "49d17088-4ccc-4c09-bb64-b63400e6c39c",
   "metadata": {
    "slideshow": {
     "slide_type": "subslide"
    },
    "tags": []
   },
   "source": [
    "## Download der deutschen Sprachmodelle\n",
    "\n",
    "SpaCy stellt zahlreiche Sprachmodelle in verschiedenen Sprachen und Größen zur Verfügung. Hier eine Übersicht zu den aktuell verfügbaren deutschen Sprachmodellen:\n",
    "\n",
    "| Typ | Name | Größe | Link |\n",
    "|-------|------| ------|------|\n",
    "| small | de_core_news_sm | 13 MB | https://spacy.io/models/de#de_core_news_sm |\n",
    "| medium | de_core_news_md | 42 MB | https://spacy.io/models/de#de_core_news_md |\n",
    "| large | de_core_news_lg | 541 MB | https://spacy.io/models/de#de_core_news_lg |\n",
    "| transformer-based | de_dep_news_trf | 391 MB | https://spacy.io/models/de#de_dep_news_trf |\n",
    "\n",
    "Der Download im Notebook erfolgt durch den nachfolgenden Befehl; hier wird das deutsche Small-Modell heruntergeladen. In angewandten Kontexten im Nachgang des Workshops ist die Arbeit mit den größeren Sprachmodellen zu empfehlen."
   ]
  },
  {
   "cell_type": "code",
   "execution_count": null,
   "id": "cc48ddd5-5b57-4e15-b594-066fa49c3fce",
   "metadata": {},
   "outputs": [],
   "source": [
    "# Bitte diese Codezelle ausführen und das Medium-Sprachmodell herunterladen\n",
    "!python -m spacy download de_core_news_sm"
   ]
  },
  {
   "cell_type": "markdown",
   "id": "37b55d1f-371d-42a5-896f-bed5250debc3",
   "metadata": {
    "slideshow": {
     "slide_type": "subslide"
    },
    "tags": []
   },
   "source": [
    "## Import\n",
    "\n",
    "Nach dem Import der Bibliothek wird die Version gecheckt: Die spaCy-Version der Bibliothek muss mit der Versionsnummer des Sprachmodells übereinstimmen."
   ]
  },
  {
   "cell_type": "code",
   "execution_count": null,
   "id": "1f03bc33-1447-4e77-a1e8-e753abdc845b",
   "metadata": {},
   "outputs": [],
   "source": [
    "import spacy"
   ]
  },
  {
   "cell_type": "code",
   "execution_count": null,
   "id": "a03912ad-03a1-40d9-adca-fdcfe3f4d7bd",
   "metadata": {},
   "outputs": [],
   "source": [
    "# check version\n",
    "print(spacy.__version__)"
   ]
  },
  {
   "cell_type": "markdown",
   "id": "89c21d64-8c1c-4820-a75d-42f2f43ab003",
   "metadata": {
    "slideshow": {
     "slide_type": "subslide"
    },
    "tags": []
   },
   "source": [
    "## Informationen zum Sprachmodell\n",
    "\n",
    "### Laden des Sprachmodells\n",
    "\n",
    "Nach Konvention wird die Variable `nlp` genannt, die das geladene Sprachmodell enthält. Einzelne Komponenten können über den Parameter `disable` vom Laden ausgeschlossen werden."
   ]
  },
  {
   "cell_type": "code",
   "execution_count": null,
   "id": "288afd5e-2aac-4024-9e14-92c08519d720",
   "metadata": {},
   "outputs": [],
   "source": [
    "nlp = spacy.load('de_core_news_sm') \n",
    "\n",
    "# Zum Ausschalten einzelner Komponenten\n",
    "# nlp = spacy.load('de_core_news_md', disable=['parser', 'tagger'])"
   ]
  },
  {
   "cell_type": "markdown",
   "id": "fc8d9510",
   "metadata": {},
   "source": [
    "### Metadaten zum Sprachmodell\n",
    "\n",
    "Mit den folgenden Befehlen lassen sich Informationen zu den Metadaten des Sprachmodells ausgeben."
   ]
  },
  {
   "cell_type": "code",
   "execution_count": null,
   "id": "17e867a4",
   "metadata": {},
   "outputs": [],
   "source": [
    "# Pfad, in dem das Sprachmodell liegt\n",
    "nlp.path"
   ]
  },
  {
   "cell_type": "code",
   "execution_count": null,
   "id": "e530ed3c",
   "metadata": {},
   "outputs": [],
   "source": [
    "# Metadaten zum Sprachmodell\n",
    "nlp.meta"
   ]
  },
  {
   "cell_type": "code",
   "execution_count": null,
   "id": "4c93123b",
   "metadata": {},
   "outputs": [],
   "source": [
    "# Informationen zum Sprachmodell\n",
    "print(nlp.meta[\"name\"])\n",
    "print(nlp.meta[\"lang\"])\n",
    "print(nlp.meta[\"version\"])"
   ]
  },
  {
   "cell_type": "code",
   "execution_count": null,
   "id": "5a25c88a",
   "metadata": {},
   "outputs": [],
   "source": [
    "# Beschreibung der Pipeline\n",
    "nlp.meta[\"description\"]"
   ]
  },
  {
   "cell_type": "code",
   "execution_count": null,
   "id": "8922d4ca",
   "metadata": {},
   "outputs": [],
   "source": [
    "# Anzeigen der verfügbaren NER-Labels\n",
    "nlp.meta[\"labels\"][\"ner\"]"
   ]
  },
  {
   "cell_type": "markdown",
   "id": "b906e412",
   "metadata": {},
   "source": [
    "Mit `spacy.explain()` lassen sich einzelne Bezeichnungen, die von spaCy genutzt werden, näher erläutern."
   ]
  },
  {
   "cell_type": "code",
   "execution_count": null,
   "id": "3dd71e5f",
   "metadata": {},
   "outputs": [],
   "source": [
    "# spacy explain\n",
    "spacy.explain(\"ORG\")"
   ]
  },
  {
   "cell_type": "code",
   "execution_count": null,
   "id": "36125b0b",
   "metadata": {},
   "outputs": [],
   "source": [
    "for ent in nlp.meta[\"labels\"][\"ner\"]:\n",
    "    print(f\"{ent}: {spacy.explain(ent)}\")"
   ]
  },
  {
   "cell_type": "markdown",
   "id": "377d818f-b0d1-4c6b-90db-58cc611523c8",
   "metadata": {},
   "source": [
    "## spaCy im Einsatz: Einstieg in Named Entity Recognition als ein Beispiel\n",
    "\n",
    "### Textdaten einlesen"
   ]
  },
  {
   "cell_type": "markdown",
   "id": "f71dae96-0027-4923-b745-0ec668a2c916",
   "metadata": {},
   "source": [
    "Der Text aus der Datei `kafka_verwandlung_1915.txt` ist entnommen von: \n",
    "\n",
    "> Kafka, Franz: Die Verwandlung. Leipzig, 1915. In: Deutsches Textarchiv <https://www.deutschestextarchiv.de/kafka_verwandlung_1915/1>, abgerufen am 19.02.2024."
   ]
  },
  {
   "cell_type": "code",
   "execution_count": null,
   "id": "4a9e983e",
   "metadata": {},
   "outputs": [],
   "source": [
    "with open(\"../daten/kafka_verwandlung_1915.txt\") as f:\n",
    "    text = f.read()"
   ]
  },
  {
   "cell_type": "code",
   "execution_count": null,
   "id": "95a4dbd3-2245-418a-af71-d3a10abccf03",
   "metadata": {},
   "outputs": [],
   "source": [
    "print(text[:300])"
   ]
  },
  {
   "cell_type": "markdown",
   "id": "f18a78bb-c4a9-4e3b-a606-603af6543c1e",
   "metadata": {
    "slideshow": {
     "slide_type": "subslide"
    },
    "tags": []
   },
   "source": [
    "### Doc-Objekt erstellen\n",
    "\n",
    "Wenn wir das Sprachmodell auf den Text anwenden, dann erhalten wir ein `Doc-Objekt`. Dieses stellt uns nun  alle Informationen bereit, die über spaCys Pipeline-Komponenten dem Text hinzugefügt wurden."
   ]
  },
  {
   "cell_type": "code",
   "execution_count": null,
   "id": "5bc52de7-d8f0-436c-9577-694b902dfc27",
   "metadata": {},
   "outputs": [],
   "source": [
    "# This is were the magic happens!\n",
    "doc = nlp(text)"
   ]
  },
  {
   "cell_type": "markdown",
   "id": "e50f756e-7692-4084-84a1-670809b7d380",
   "metadata": {},
   "source": [
    "### Informationen im Token-Objekt\n",
    "\n",
    "Neben dem `Doc-Objekt` sind auch die `Token-Objekte` ein wichtiger Baustein in der Architektur von spaCy. Alle verfügbaren Attribute, die sich beim `Token-Objekt` abrufen lassen finden sich hier: https://spacy.io/api/token#attributes . Nachfolgend eine kleine Übersicht zu den Attributen mit einer Erläuterung mittels `spacy.explain()`."
   ]
  },
  {
   "cell_type": "code",
   "execution_count": null,
   "id": "00b466fb-24eb-49be-8655-ad628a819e73",
   "metadata": {
    "collapsed": true,
    "jupyter": {
     "outputs_hidden": true
    },
    "tags": []
   },
   "outputs": [],
   "source": [
    "for token in doc[:20]:\n",
    "    print(f\"\"\"Token: {token}  \n",
    "              Lemmata: {token.lemma_} \n",
    "              POS: {token.pos_}\n",
    "              explain POS: {spacy.explain(token.pos_)}\n",
    "              TAG: {token.tag_}\n",
    "              explain TAG: {spacy.explain(token.tag_)}\n",
    "              Dependency: {token.dep_}\n",
    "              explain Dependency: {spacy.explain(token.dep_)}\n",
    "              Entity: {token.ent_type_}\"\"\")"
   ]
  },
  {
   "cell_type": "markdown",
   "id": "1ef8306b-e898-444a-93e7-ad3a9848edd1",
   "metadata": {
    "slideshow": {
     "slide_type": "subslide"
    },
    "tags": []
   },
   "source": [
    "### Informationen im Doc-Objekt\n",
    "\n",
    "Auch über das `Doc-Objekt` können wir auf verschiedene hilfreiche Informationen zugreifen. Näheres hierzu unter: https://spacy.io/api/doc"
   ]
  },
  {
   "cell_type": "code",
   "execution_count": null,
   "id": "39380514-28b4-4a30-969f-2e85e90b7682",
   "metadata": {},
   "outputs": [],
   "source": [
    "# Datentyp\n",
    "type(doc)"
   ]
  },
  {
   "cell_type": "code",
   "execution_count": null,
   "id": "29bbb8a8-0dbc-44e2-bfc2-f99bc8948ab7",
   "metadata": {},
   "outputs": [],
   "source": [
    "# Sprache des verwendeten Sprachmodells\n",
    "doc.lang_"
   ]
  },
  {
   "cell_type": "code",
   "execution_count": null,
   "id": "4da0aff1",
   "metadata": {},
   "outputs": [],
   "source": [
    "# Anzahl der Token im Doc-Objekt\n",
    "print(doc.__len__())"
   ]
  },
  {
   "cell_type": "markdown",
   "id": "39c2563d",
   "metadata": {},
   "source": [
    "#### Sätze extrahieren"
   ]
  },
  {
   "cell_type": "code",
   "execution_count": null,
   "id": "062a607d",
   "metadata": {
    "collapsed": true,
    "jupyter": {
     "outputs_hidden": true
    }
   },
   "outputs": [],
   "source": [
    "# Ausgabe der Sätze\n",
    "for sent in doc.sents:\n",
    "    print(sent)\n",
    "    print(\"-----\")"
   ]
  },
  {
   "cell_type": "markdown",
   "id": "0b7980d5-f44c-4cdf-9d74-037e3d6ecdae",
   "metadata": {
    "slideshow": {
     "slide_type": "subslide"
    },
    "tags": []
   },
   "source": [
    "#### [Named Entities](https://spacy.io/api/entityrecognizer) identifizieren (out-of-the-box)\n",
    "\n",
    "Es gibt verschiedene Möglichkeiten, auf die im Text erkannten Entitäten zuzugreifen.\n",
    "\n",
    "##### `doc.ents`\n",
    "\n",
    "Die Entitäten sind hier als Datentyp `span` in einem Tupel angelegt. Die Span kann über den entsprechenden Text und das Label repräsentiert werden."
   ]
  },
  {
   "cell_type": "code",
   "execution_count": null,
   "id": "840398b6-2874-459d-b8eb-c6b751029040",
   "metadata": {},
   "outputs": [],
   "source": [
    "print(type(doc.ents))           # Datentyp des .ents-Attributs\n",
    "print(len(doc.ents))            # Anzahl der erkannten NEs\n",
    "print(doc.ents)                 # Ausgabe des Tupels der erkannten Entitäten"
   ]
  },
  {
   "cell_type": "code",
   "execution_count": null,
   "id": "78becec6",
   "metadata": {},
   "outputs": [],
   "source": [
    "# Ausgabe der erkannten Entitäten mit den entsprechenden Indexpositionen (auf Token-Ebene)\n",
    "\n",
    "for ent in doc.ents:\n",
    "    print(ent.text, ent.start, ent.end)"
   ]
  },
  {
   "cell_type": "code",
   "execution_count": null,
   "id": "42964ec6",
   "metadata": {},
   "outputs": [],
   "source": [
    "for ent in doc.ents:\n",
    "    print(ent.text, ent.start_char, ent.end_char)"
   ]
  },
  {
   "cell_type": "code",
   "execution_count": null,
   "id": "6c3443fa",
   "metadata": {},
   "outputs": [],
   "source": [
    "# Ausgabe der erkannten Entitäten mit dem zugehörigen Entity-Label\n",
    "\n",
    "for ent in doc.ents:\n",
    "    print(ent.text, ent.label_)"
   ]
  },
  {
   "cell_type": "markdown",
   "id": "7730ede4",
   "metadata": {},
   "source": [
    "Über das Attribut `.label_` können z.B. einzelne Kategorien von Named Entities mit Hilfe einer for-Schleife angezeigt werden."
   ]
  },
  {
   "cell_type": "code",
   "execution_count": null,
   "id": "122716f1-fc33-44cd-ba2e-dc8561e3d054",
   "metadata": {},
   "outputs": [],
   "source": [
    "# Nur Entitäten anzeigen, die als ORG gelabelt wurden\n",
    "\n",
    "for ent in doc.ents:\n",
    "    if ent.label_ == 'ORG':\n",
    "        print(ent.text, ent.label_, )"
   ]
  },
  {
   "cell_type": "markdown",
   "id": "aaece8ec",
   "metadata": {},
   "source": [
    "##### Zugriff auf Entitäten über `Token-Objekt` \n",
    "\n",
    "Auf der Token-Ebene lassen sich über weitere Attribute etwa die Info zur Position im IOB-Format mit `.ent_iob_` abrufen.\n",
    "\n",
    "IOB ist ein etabliertes Annotationsschema für die Auszeichnung von NEs. Es steht für *Inside*, *Outside*, *Beginning*:\n",
    "- **I (Inside):** Das Token ist Teil einer Entität, aber nicht das erste Token dieser Entität.\n",
    "- **O (Outside):** Das Token ist nicht Teil einer benannten Entität.\n",
    "- **B (Beginning):** Das Token ist der Anfang einer Entität.\n"
   ]
  },
  {
   "cell_type": "code",
   "execution_count": null,
   "id": "d49cb59a-c9c6-4038-8aec-c673f98b6a3f",
   "metadata": {
    "slideshow": {
     "slide_type": "subslide"
    },
    "tags": []
   },
   "outputs": [],
   "source": [
    "# Prüfen der IOB-Label für PER-Entitäten\n",
    "\n",
    "for token in doc:\n",
    "    if token.ent_type_ == \"PER\":\n",
    "        print(f\"Token: {token}, \\n\\tEntity: {token.ent_type_}, IOB-Positon: {token.ent_iob_}\\n\")"
   ]
  },
  {
   "cell_type": "code",
   "execution_count": null,
   "id": "fced8619",
   "metadata": {},
   "outputs": [],
   "source": [
    "# Zum Vergleich für alle im Text erkannten Token \n",
    "\n",
    "for token in doc:\n",
    "    print(f\"Token: {token}, \\n\\tEntity: {token.ent_type_}, IOB-Positon: {token.ent_iob_}\\n\")"
   ]
  },
  {
   "cell_type": "markdown",
   "id": "c726c1d4",
   "metadata": {},
   "source": [
    "Um eine Übersicht der in dem Text einmal vorkommenden Named Entities einer Kategorie zu erhalten, kann man mit Sets arbeiten."
   ]
  },
  {
   "cell_type": "code",
   "execution_count": null,
   "id": "96c289be",
   "metadata": {},
   "outputs": [],
   "source": [
    "# Anzahl der unique PER-Entities ermitteln\n",
    "\n",
    "persons = set()\n",
    "\n",
    "for ent in doc.ents:\n",
    "    if ent.label_ == \"PER\":\n",
    "        persons.add(ent.text)\n",
    "\n",
    "print(len(persons))\n",
    "print(persons)"
   ]
  },
  {
   "cell_type": "code",
   "execution_count": null,
   "id": "80be4b0e",
   "metadata": {},
   "outputs": [],
   "source": [
    "# Anzahl der unique Entitäten-Typen ermitteln\n",
    "\n",
    "for entity in [\"PER\", \"ORG\", \"LOC\", \"MISC\"]:\n",
    "    print(entity)\n",
    "    print(len({ ent.text for ent in doc.ents if ent.label_ == entity }))               # hier wird eine Set-Comprehension verwendet, damit können wir den Code aus der vorherigen Codezelle in einer Zeile schreiben; für den Anfang ist es empfehlenswert, alles auszuschreiben\n",
    "    print(sorted(list({ ent.text for ent in doc.ents if ent.label_ == entity })))      # Das per Set-Comprehension generierte Set wird in eine Liste umgewandelt und sortiert\n",
    "    print('\\n')"
   ]
  },
  {
   "cell_type": "markdown",
   "id": "5f0b6dcf-5959-451e-87ec-22199972275d",
   "metadata": {
    "slideshow": {
     "slide_type": "subslide"
    },
    "tags": []
   },
   "source": [
    "## Visualisieren der Entities\n",
    "\n",
    "SpaCy ermöglicht es, mit einem einfachen Befehl, die Named Entities in dem Text zu visualisieren. Erfolgt die Darstellung in einem JupyterNotebook, dann muss der Parameter `jupyter=True` gesetzt werden. Die Visualisierung des Textes lässt sich zudem als html-Datei speichern."
   ]
  },
  {
   "cell_type": "code",
   "execution_count": null,
   "id": "6de0596d-eb6a-4786-bada-69522913771c",
   "metadata": {},
   "outputs": [],
   "source": [
    "from spacy import displacy"
   ]
  },
  {
   "cell_type": "code",
   "execution_count": null,
   "id": "a54f0561-9327-49ce-9d21-416a5e7dc094",
   "metadata": {
    "slideshow": {
     "slide_type": "subslide"
    },
    "tags": []
   },
   "outputs": [],
   "source": [
    "displacy.render(doc, style=\"ent\", jupyter=True)"
   ]
  },
  {
   "cell_type": "markdown",
   "id": "89015ede-53ac-49b3-abe2-7afe4eaa3c2f",
   "metadata": {},
   "source": [
    "### Speichern der Visualisierung in html"
   ]
  },
  {
   "cell_type": "code",
   "execution_count": null,
   "id": "9666a7f7-13f9-4988-a345-c3fcc50f88fd",
   "metadata": {},
   "outputs": [],
   "source": [
    "html = displacy.render(doc, style=\"ent\", page=True, jupyter=False)\n",
    "with open(\"../daten/output/visu-example-kafka_verwandlung_1915.html\", \"w\", encoding=\"utf-8\") as f:\n",
    "    f.write(html)"
   ]
  },
  {
   "cell_type": "markdown",
   "id": "9c1b89eb",
   "metadata": {},
   "source": [
    "---"
   ]
  },
  {
   "cell_type": "markdown",
   "id": "73309a38",
   "metadata": {},
   "source": [
    "### 📝 **Jetzt:** Aufgabe 1 - Sprachmodelle vergleichen\n",
    "\n",
    "- Laden Sie das Sprachmodell `de_core_news_md` herunter und erzeugen Sie für \"Die Verwandlung\" mit dem Medium-Sprachmodell ein neues Doc-Objekt.\n",
    "- Visualisieren Sie erneut die Entitäten für den Text und speichern Sie die Visualisierung als HTML-Datei.\n",
    "- Vergleichen Sie die NER-Ergebnisse des kleinen und mittleren Sprachmodells.\n",
    "\n",
    "*Hinweis: In den nachfolgenden beiden Aufgaben werden dieselben Arbeitsschritte noch mal auf andere Texte angewendet.* \n",
    "\n",
    "⏳ 15 Minuten"
   ]
  },
  {
   "cell_type": "code",
   "execution_count": null,
   "id": "8fa64954",
   "metadata": {},
   "outputs": [],
   "source": [
    "# Bitte diese Codezelle ausführen und das Medium-Sprachmodell herunterladen\n",
    "!python -m spacy download de_core_news_md"
   ]
  },
  {
   "cell_type": "code",
   "execution_count": null,
   "id": "dd55f909",
   "metadata": {},
   "outputs": [],
   "source": [
    "# Ihre Lösung"
   ]
  },
  {
   "cell_type": "markdown",
   "id": "33cf461c",
   "metadata": {},
   "source": [
    "---"
   ]
  },
  {
   "cell_type": "markdown",
   "id": "da132e1b",
   "metadata": {},
   "source": [
    "### 📝 **Jetzt:** Aufgabe 2 - NER auf einen Tagungsbericht anwenden\n",
    "\n",
    "- Wenden Sie das Sprachmodell `de_core_news_md` auf den Tagungsbericht an, mit dem wir bereits in der vorherigen Einheit zu Regulären Ausdrücken gearbeitet haben.\n",
    "- Visualisieren Sie erneut die Entitäten für den Text und speichern Sie die Visualisierung als HTML-Datei.\n",
    "- Vergleichen Sie die NER-Ergebnisse für die unterschiedlichen Textarten.\n",
    "\n",
    "⏳ 10 Minuten"
   ]
  },
  {
   "cell_type": "code",
   "execution_count": 58,
   "id": "a624f91e",
   "metadata": {},
   "outputs": [],
   "source": [
    "example_text = \"\"\"Der Arbeitskreis „Digital Humanities Munich“ (dhmuc) widmete seinen ersten Workshop 2016 dem Thema „Digitale Daten in den Geisteswissenschaften. Interdisziplinäre Perspektiven für semantische und strukturelle Analysen“. Insgesamt 14 Vorträge erörterten aktuelle Forschungen und Infrastrukturen im Bereich der maschinellen Textanalyse.\n",
    "Folgende Institutionen zeichneten für die Organisation des Workshops verantwortlich: dhmuc – Arbeitskreis “Digital Humanities Munich”, das Institut für Computerlinguistik Universität Zürich , das Historische Seminar der Ludwig-Maximilians-Universität München , die IT-Gruppe Geisteswissenschaften (ITG) der Ludwig-Maximilians-Universität München sowie die Bayerische Akademie der Wissenschaften .\n",
    "\n",
    "Einführung\n",
    "ECKHART ARNOLD (München), MARK HENGERER (München), NOAH BUBENHOFER (Zürich) und CHRISTIAN RIEPL (München) machten klar, dass das Vorhandensein grosser Mengen an digitalen Textkorpora den Geisteswissenschaften neue Zukunftsperspektiven eröffnet, gleichzeitig aber auch neue Herausforderungen an die Disziplinen stellt. Der Brückenschlag zwischen Philologie und Informationstechnologie erfordert von den Forschenden ein hohes Mass an Technikaffinität. Das Verständnis von Text als Daten und dessen interaktive graphische Visualisierung verändert die hermeneutischen Herangehensweisen und Methoden.\n",
    "\n",
    "Panel 1: Korpora\n",
    "Im Eröffnungsreferat stellte PETER MAKAROV (Zürich) sein PhD Projekt zum Thema „Towards automated content event analysis: Mining for protest events“ vor. Es ist Teil des POLCON Projekts unter Professor Hanspeter Kriesi. Das Projekt bewegt sich zwischen Politikwissenschaft und Computerlinguistik. Ziel ist, herauszufinden, inwiefern moderne Natural Language Processing Technik die thematische Extraktion von Daten aus dem Internet unterstützen kann. Konkret geht es in der Studie um die Extraktion von News-Texten im Zusammenhang mit Öffentlichen Protesten.\n",
    "Methodisch setzt das Projekt auf Machine-Learning-Verfahren. Hierzu müssen geeignete Klassifizierungsmodelle erstellt und Entwicklungszyklen implementiert werden, mit deren Hilfe Trainings-Korpora erstellt werden können. In einem iterativen Prozess werden diese Trainingsdaten annotiert und verbessert. Dabei hat sich gezeigt, dass linguistische Standardmodelle zur Annotation nicht geeignet waren, um die Identifikation von Textstellen, die Protest indizierten, zu verbessern. Daher werden vereinfachte, besser auf die konkrete Fragestellung zugeschnittene Annotationssysteme entwickelt.\n",
    "DANIEL KNUCHEL (Zürich) referierte unter dem Titel „HIV/AIDS diskurslinguistisch – ein multimediales Korpus“ über sein Promotionsprojekt. In diesem analysiert er, welches Wissen heute zum Thema HIV/AIDS in der Öffentlichkeit zirkuliert. Dazu baute der Referent ein Korpus aus unterschiedlichen Quellen (Massenmedien, Selbsthilfe-Blogs, Social Media) auf. Er wies darauf hin, dass bei solchen Vorhaben nebst den konzeptuellen und technischen Fragen die rechtlichen Bedingungen zur Datennutzung frühzeitig geklärt werden müssen. Wichtig sei zudem, dass von Anfang an auf Nachhaltigkeit geachtet werde, um spätere Nutzungen der Daten zu ermöglichen.\n",
    "MAX HADERSBECK (München) berichtete in seinem Vortrag über die Erfahrungen mit der FinderApp “WittFind“. Die webbasierte Applikation steht Forschenden nun seit vier Jahren zur Verfügung, um den Open Access zugänglichen Teil des Nachlasses von Ludwig Wittgenstein nach Wörtern, Phrasen, Sätzen und semantischen Begriffen zu durchsuchen. Sie setzt dazu regelbasierte computerlinguistische Verfahren ein. WittFind zeichnet sich dadurch aus, dass die gefundenen Textstellen zusammen mit dem Faksimileextrakt dargestellt werden und eine Überprüfung anhand des Originaltexts jederzeit möglich ist.\n",
    "Unter anderem am Beispiel des englischen Neologismus “cherpumple” stellte SUSANNE GRANDMONTAGNE (München), das System „NeoCrawler“ vor. NeoCrawler verfolgt die Entstehung und Verbreitung von Neologismen im Internet. Die Ergebnisse werden automatisiert für weitere linguistische Analysen aufbereitet. Zudem stellt das System Zeitreihenverlaufsanalysen zur Verfügung. Eine Benutzeroberfläche unterstützt die manuelle Kategorisierung der erhobenen Daten. Aus rechtlichen Gründen kann diese Möglichkeit jedoch nicht im Rahmen von Crowd Sourcing genutzt werden.\n",
    "Die prosopographische Erforschung der Herrschaftselite der Habsburgermonarchie steht im Zentrum des Projekts „Kaiserhof“ , das MARK HENGERER und GERHARD SCHÖN (München) vorstellten. Nebst der eindeutigen Identifikation von Personen ist die Messbarkeit qualitativer Aspekte eine der hauptsächlichen Herausforderungen, um Netzwerke und „Reichweiten von Integration“ visualisieren zu können. Dabei hat sich der Ansatz bewährt, von Begriffen mittlerer Reichweite auszugehen. Visualisierungen (etwa von Verwandtschaftsbeziehungen oder Geolokalisierungen) sind in diesem Zusammenhang von hohem heuristischem Wert.\n",
    "\n",
    "Natural Language Processing / Suche \n",
    "Zeitangaben sind eine zentrale Information in historischen Dokumenten. Das war der Ausgangspunkt für die Präsentation von NATALIA KORCHAGINA (Zürich) zu “Natural language processing for historical documents“. Doch die maschinelle Textextraktion aus den oft handschriftlichen Dokumenten ist komplex. Ziel des Forschungsvorhabens der Referentin ist es, ein Tool für die automatisierte Extraktion von Zeitangaben aus historischen Texten zu entwickeln. Als Quellengrundlage dient ein Korpus von digitalisierten Schweizer Rechtstexten zwischen dem 10. und 18. Jahrhundert.\n",
    "In einer ersten Phase des Projekts wurde unter Nutzung des an der Universität Heidelberg entwickelten Zeittaggers HeidelTime ein fehlerfreies, aber kleines manuell annotiertes Gold Standard Korpus erstellt. Auf dieser Grundlage wird sodann mit einem hybriden Vorgehen, das machine-learning und regelbasierte Methoden kombiniert, ein grösseres Silver Standard Korpus erarbeitet, das für die Extraktion von Zeitangaben herangezogen werden kann.\n",
    "Zeitgenössische Rechtstexte standen im Zentrum des Forschungsprojekts von KYOKO SUGISAKI (Zürich). Sie präsentierte in ihrem Vortrag unter dem Titel “Natural language processing in speziellen Textsorten, z.B. legislative Texte“ ihre soeben abgeschlossene Doktorarbeit. Am Beispiel von online verfügbaren Schweizer Gesetzestexten erstellte sie ein qualitativ hochwertiges Korpus von fachspezifischen Texten. Im Verlauf der Arbeiten zeigte sich, dass vorhandene Referenzkorpora (etwa die Sammlung Schweizerischer Rechtsquellen) genutzt werden können, jedoch an die Spezifika des Vorhabens angepasst werden müssen. Mittels Kombination von verschiedenen Analyseverfahren und Tools (u.a. POS-tagging, morphosyntaktische Analyse, Style-Checking) konnte die Qualität der Texterkennung deutlich verbessert werden.\n",
    "\n",
    "Visualisierung\n",
    "Unter dem Titel „Visualisierungen in den Digital Humanities“ diskutierten NOAH BUBENHOFER, KLAUS ROTHENHÄUSLER und DANICA PAJOVIC (alle Zürich) die theoretischen Grundlagen von Visualisierungen und hinterfragten gängige Visualisierungspraktiken in den Digital Humanities. Ausgangspunkt ist die Feststellung, dass Visualisierungen nicht nur bei der Darstellung von Analyseergebnissen, sondern auch bei der Datenexploration eine wichtige Rolle spielen.\n",
    "Besonders bei explorativen Visualisierungen sind gemäss den Referenten methodisch-technische Aspekte wichtig. Denn Diagramme sind nicht Bilder. Sie sind hoch abstrahierte Darstellungen, die Hypothesen über Sachverhalte transportieren. Visualisierungen lassen sich entlang einer Reihe von grafischen, datentypischen, diagrammatischen, semiotischen, ästhetischen, technischen und diskursiven Attributen kategorisieren und beurteilen.\n",
    "Anhand der Darstellung von Geokollokationen, das heißt von sprachlichen Äußerungen über Orte zeigte Noah Bubenhofer, wie durch Sprechen eine Vorstellung von Welt konstruiert wird. Die naheliegende Visualisierung von Geokollokationen auf einer Weltkarte ist dann ein voraussetzungsvoller Vorgang, der unhinterfragte Prämissen von Kartendarstellungen übernimmt. Bubenhofer plädierte daher dafür, auch nicht kartenbasierte Visualisierungen in Betracht zu ziehen. Das Beispiel illustrierte, wie Denkstile, Software und technische Möglichkeiten in Visualisierungen mit einfliessen und diese in gewisser Weise vorbestimmen.\n",
    "MATTHIAS REINERT (München) präsentierte in seinem Referat „deutsche-biographie.de – ein historisch biografisches Informationssystem. Computerlinguistischer Ansatz und Visualisierung“, das aus diesem Vorhaben resultierende Internetangebot. In rund 48.000 Lexikonartikeln bietet es Informationen zu rund 540.000 Personen. Für die zuverlässige Volltexterfassung und -kodierung sowie den Normdatenabgleich von Personen und Orten wurden seit 2012 computerlinguistische Verfahren eingesetzt. Hierzu wurden lokale Grammatiken und eine korpora-spezifische Wortdatenbank erstellt. Das historisch-biografische Informationssystem ermöglicht eine Geo-Visualisierung und die Darstellung von Ego-Netzwerken. In der Diskussion betonte der Referent, dass im Zusammenhang mit einem solchen interaktiven Angebot eine transparente Kommunikation über die Möglichkeiten und Grenzen des Systems und der Datenbasis unerlässlich ist, um den Nutzern die Einschätzung der Evidenz der gewonnen Resultate zu ermöglichen.\n",
    "Unter dem Titel „Theatrescapes“ argumentierte TOBIAS ENGLMEIER (München), dass die stetig wachsenden, nun auch für die Geisteswissenschaften verfügbaren Datenbestände oft nur mit Techniken der Informationsvisualisierung erfasst werden könnten und interpretierbar seien. Das Projekt „Theatrescapes. Mapping Global Theatre Histories“ nutzt für die interaktive Kartendarstellungen WebGL (Web Graphics Library) und den Google Maps API . Der Referent zeigte auf, dass mittels dieses pragmatischen Ansatzes die technischen Hürden bei der Georeferenzierung von grossen Datenbeständen mit vertretbarem Aufwand überwunden und ansprechende Resultate wie etwa interaktive historisierte Kartendarstellungen erzielt werden können. Allerdings betonte er, wie schon Noah Bubenhofer vor ihm, dass Entscheidungen über den Einsatz von bestimmter Software über technische Aspekte hinausreichen und auch inhaltliche Konsequenzen haben.\n",
    "EMMA MAGES (München) stellte den „Audioatlas Siebenbürgisch-Sächsischer Dialekte“ (ASD) vor, einen interaktiven Online-Atlas. Er erschließt eine umfangreiche Audiodokumentation deutscher Ortsdialekte Siebenbürgens und der Marmarosch und macht diese in Transkription und Audioaufnahmen zugänglich. Nebst der eigentlichen Transkription wurde eine morphosyntaktische Etikettierung vorgenommen und eine Ontologie für die Erschliessung entworfen. Mittels Kartierung erlaubt der ASD unter anderem qualitative und quantitative Sichten auf die örtliche Verteilung der Dialekte.\n",
    "In seinem Referat über die Online-Plattform „VerbaAlpina“ berichtete STEPHAN LÜCKE (München) über die Herausforderungen, die sich bei diesem politische Grenzen überschreitenden und mehrsprachigen Ansatz stellten. Ziel des Langzeitprojekts „Verba Alpina“ ist es, den sprachlich stark fragmentierten Alpenraum in seiner kultur- und sprachgeschichtlichen Zusammengehörigkeit zu erschliessen. Das Projekt fokussiert auf die Wechselbeziehung (sowohl in onomasiologischer wie semasiologischer Perspektive) zwischen Wörtern und bezeichneten Konzepten. Die sprachlichen Zusammenhänge werden ergänzt mit ethnographischen, historischen und politischen Aspekten und in einer interaktiven Online-Karte mit Crowd-Sourcing-Komponente dargestellt.\n",
    "\n",
    "Crowd\n",
    "Das Referat „Text+Berg – 150 Jahre alpinistische Texte: OCR-Fehler, Crowd Correction“ von SIMON CLEMATIDE (Zürich) diskutierte die Voraussetzungen für erfolgreiches Crowd Sourcing. Im Rahmen des Projekts Text+Berg realisierte das Institut für Computerlinguistik der Universität Zürich eine Online-Plattform zur Korrektur des OCR-Textes der digitalisierten Jahrbücher des Schweizerischen Alpenklubs (SAC) von 1864 bis 1899. Entscheidend für die Motivierung von Freiwilligen und damit für den Erfolg des Vorhabens waren eine sorgfältig programmierte Benutzeroberfläche und ein einfacher Workflow. Dazu kamen begleitende Massnahmen, um die Motivation der Teilnehmenden aufrechtzuerhalten. Hierzu gehörten spielerische Elemente und Layout-Massnahmen, die den Teilnehmenden Rückmeldungen zum Datenzustand und zur geleisteten Arbeit geben. Ein Vorteil war, dass es sich beim potentiellen Teilnehmerkreis um gut organisierte und am Thema interessierte Vereinsmitglieder mit hoher Sachkenntnis handelte.\n",
    "Abschliessend stellte GERHARD SCHÖN (München) das Projek „Play4Science“ und die in diesem Rahmen entwickelte Spiel-Plattform „Artigo“ vor. Das Projekt bringt Geisteswissenschaftler/innen, Informatiker/innen und Computerlinguist/innen zusammen, um zweckgerichtete soziale Spiel-Software („Games with a Purpose“ (GWAP)) zu entwickeln, die seit einiger Zeit auch im wissenschaftlichen Bereich erfolgreich Crowd-Sourcing-Ansätze unterstützen. Ziel von Play4Science ist, eine anpassbare universelle Plattform anzubieten, die von allen Fächern für verschiedenste Anwendungen sozialer Software genutzt werden kann.\n",
    "Die bereits realisierte Spiel-Plattform „Artigo“ lädt zur Verschlagwortung von Gemälden aus einer Bilddatenbank ein. Sie schaltet zwei Mitspieler zusammen, die unabhängig voneinander relevant erscheinende Begriffe für dieselben Bilder eingeben. Die solcherart Peer-validierten Begriffe werden in der Datenbank gespeichert und sind für spätere Suchabfragen nutzbar.\n",
    "\n",
    "Fazit\n",
    "Der Workshop bot einen guten Überblick über den State-of-the-Art computerlinguistischer Ansätze für die digitale Aufbereitung von Textkorpora. Er wies auf die Herausforderungen hin, die sich bei der interdisziplinären Zusammenarbeit an der Schnittstelle zwischen Technik und geisteswissenschaflticher Forschung stellen. Es wurde klar, dass eine fundierte Fragestellung entscheidend für den Erfolg von computerlinguistischen Vorhaben ist. Zugleich wurde aber unter dem Stichwort „code matters“ auch betont, dass technologische Aspekte nicht vernachlässigt werden dürfen, da sie Einfluss auf Vorgehensweisen und Resultate haben. Von den Geisteswissenschaftlern muss daher verlangt werden, dass sie wissen, was die verwendeten Algorithmen tun. Dies gilt insbesondere auch für heuristisch und explorativ eingesetzte Visualisierungen, bei denen sich die Forschenden stets zu fragen haben, ob sie den generierten Visualisierungen genug kritisch gegenüberstehen. Unter geisteswissenschaftlichen Vorzeichen kann eine in den Visual Analytics mitunter unterstellte korrelationsbasierte „ground truth“ nicht vorausgesetzt werden.\n",
    "In den Diskussionen hat sich ferner die Sicherstellung der Nachhaltigkeit in computerlinguistischen Vorhaben als zentraler Aspekt herausgestellt. Dabei geht es um mehr als Datenverfügbarkeit. Entscheidend sind das Bewusstsein für die Brüchigkeit der Datengrundlagen und der Umgang mit Unschärfen und Unvollkommenheiten. In einer weiteren Perspektive identifizierte der Workshop eine Reihe zentraler Erfolgsfaktoren für Digital Humanities-Projekte. So gilt es die rechtlichen Bedingungen für die Datennutzung frühzeitig zu klären, eine ausbaufähige Infrastruktur aufzubauen, die Mitarbeitenden auszuwählen, auszubilden und zu begeistern sowie die langfristige Finanzierung sicherzustellen. Insgesamt bot die Tagung einen guten Überblick über die Möglichkeiten der maschinellen Analyse und Interpretation von Texten. Es herrschte Konsens darüber, dass sich die Geisteswissenschaften dadurch in den kommenden Jahren stark verändern werden.\n",
    "\"\"\""
   ]
  },
  {
   "cell_type": "code",
   "execution_count": null,
   "id": "b5a1a3a8",
   "metadata": {},
   "outputs": [],
   "source": [
    "# Ihre Lösung"
   ]
  },
  {
   "cell_type": "markdown",
   "id": "a51595fd",
   "metadata": {},
   "source": [
    "---"
   ]
  },
  {
   "cell_type": "markdown",
   "id": "c7a56b50",
   "metadata": {},
   "source": [
    "### 📝 **Jetzt:** Aufgabe 3 - NER auf einen Wikipedia-Text anwenden\n",
    "- Wenden Sie das Sprachmodell `de_core_news_md` auf den Wikipedia-Eintrag zu [\"Hiernymus Bosch\"](https://de.wikipedia.org/wiki/Hieronymus_Bosch) an. Hintergrund: Das Sprachmodell wurde u.a. auf Wiki-Daten trainiert.\n",
    "- Visualisieren Sie erneut die Entitäten für den Text und speichern Sie die Visualisierung als HTML-Datei.\n",
    "- Vergleichen Sie die NER-Ergebnisse für die unterschiedlichen Textarten.\n",
    "\n",
    "⏳ 5 Minuten"
   ]
  },
  {
   "cell_type": "code",
   "execution_count": 66,
   "id": "f8735680",
   "metadata": {},
   "outputs": [],
   "source": [
    "wiki_text = \"\"\"\n",
    "Hieronymus Bosch [ɦijeːˈɾoːnimʏs ˈbɔs] (* um 1450 in ’s-Hertogenbosch als Jheronimus van Aken [jeɪˈɾoːnimʏs vɑn ˈaːkə(n)]; † August 1516 ebenda) war ein niederländischer Maler der Spätgotik bzw. der Renaissance. Bosch stammte aus einer Malerfamilie. Er hatte seine Auftraggeber vielfach im höheren Adel und Klerus. Seine Gemälde, meist in Öl auf Eichenholz, zeigen in der Regel religiöse Motive und Themen. Sie sind reich an Figuren, Fabelwesen und ungewöhnlichen Bildelementen, deren Deutungszusammenhang und Interpretation oft nicht gesichert sind. Boschs Werk findet bis heute regelmäßige Aufmerksamkeit und wurde in der Kunst vielfach rezipiert. Über sein Leben gibt es nur wenige gesicherte Anhaltspunkte.\n",
    "\n",
    "Herkunft und Name\n",
    "Hieronymus Bosch entstammte der Malerfamilie „van Aken“, deren Herkunftsname darauf verweist, dass die direkten Vorfahren in der väterlichen Linie aus Aachen stammten. Vier Generationen von Malern sind nachgewiesen: Hieronymus Boschs Urgroßvater Thomas van Aken war als Maler in Nijmegen tätig. Sein Großvater Jan van Aken zog um 1426 von Nijmegen in die aufstrebende Stadt ’s-Hertogenbosch. Vier der fünf Söhne Jans, darunter Hieronymus’ Vater Anthonius van Aken, wurden ebenfalls Maler. Seinen sozialen Aufstieg krönte Anthonius 1462 mit dem Erwerb eines steinernen Hauses direkt am Marktplatz, in das er auch seine Malerwerkstatt verlagerte. Mit seiner Gattin Aleid van der Mynnen hatte er fünf Kinder: zwei Töchter (eine hieß Herberta) und die drei Söhne: Goeswinus oder Goessen van Aken, Jan van Aken und, als fünftes Kind, Jheronimus van Aken (Hieronymus).\n",
    "Hieronymus benannte sich später nach seiner Heimatstadt, die auch Den Bosch genannt wird. In Spanien, wo einige seiner bedeutendsten Gemälde im Museo del Prado ausgestellt sind, spricht man von El Bosco\n",
    "\n",
    "Leben\n",
    "Hieronymus folgte wie seine beiden älteren Brüder der Familientradition und erhielt wie sie seine Malerausbildung zumindest zeitweise in der väterlichen Werkstatt. Nach dem Tod des Vaters führte Goessen als ältester Sohn die Werkstatt weiter.\n",
    "Hieronymus Bosch wurde erstmals 1474 urkundlich erwähnt. 1481 heiratete er die Patriziertochter Aleyt Goyaert van de Mervenne, die ein Haus und ein Landgut in die Ehe einbrachte. Das verhalf Bosch zu einer größeren Unabhängigkeit.\n",
    "1488 trat er der religiösen Bruderschaft Unserer Lieben Frau der örtlichen St.-Johannes-Kathedrale bei, erst als äußeres, dann als geschworenes Mitglied. Der elitäre innere Zirkel der Bruderschaft umfasste etwa 60 Personen, die in der Regel aus der höchsten aristokratischen beziehungsweise patrizischen städtischen Schicht kamen und fast alle Geistliche verschiedener Weihegrade waren. Fast die Hälfte waren weltliche Priester, die teilweise zugleich Notare waren. Ferner gab es unter ihnen Ärzte und Apotheker sowie einige wenige Künstler: Musiker, einen Architekten und nur einen Maler – Hieronymus Bosch. Die Bruderschaft pflegte Kontakt zu den höchsten Kreisen des Adels, der Geistlichkeit und der städtischen Eliten in den Niederlanden. Neben dieser politisch-gesellschaftlichen Seite war sie gleichermaßen religiös ausgerichtet und wurde von den Dominikanern betreut. Die Mitglieder trafen sich einmal im Monat zum Mahl und zweimal in der Woche zur Messe. Johannes-, Marien- und andere Festtage wurden durch geistliche Spiele und Prozessionen begangen. In den Reihen der Brüder und vermittelt durch deren Kontakte zum Hochadel fand Bosch seine Auftraggeber.[1]\n",
    "Neben der Liebfrauenbruderschaft arbeitete er für die städtische Elite und den niederländischen Hochadel. Zu seinen bedeutendsten Auftraggebern gehörten der regierende Fürst der Niederlande Erzherzog Philipp der Schöne und sein Hof.\n",
    "Bosch starb 1516 im Alter von etwa 65 Jahren in seiner Heimatstadt. \n",
    "\n",
    "Werk\n",
    "Malweise, Themen\n",
    "Hieronymus Bosch lebte im Zeitalter der Renaissance, einer Periode des ökonomischen Aufbruchs, der fürstlichen Machtpolitik und der Forderung nach religiöser und sittlicher Erneuerung. Er unterzog in seinen Bildern alle Stände einer Kritik, nicht nur den Klerus. Bosch malte vielfach religiöse Motive und Thematiken. Triptychen wie Der Heuwagen und Der Garten der Lüste waren dagegen eindeutig nicht für einen Altar gedacht, sondern zur Beeindruckung und Unterhaltung eines höfischen Publikums.\n",
    "Sein Werk entzieht sich einer einfachen Deutung: Während es teils plausible Interpretationen seiner Werke gibt, sind viele Darstellungen rätselhaft geblieben bzw. die Interpretation strittig. Bosch selbst hat keine schriftlichen Aufzeichnungen zu seinen Werken hinterlassen.\n",
    "Bosch malte zumeist mit Ölfarben, selten mit Tempera, auf Eichenholz. Seine Palette war in vielen Bildern nicht sehr reichhaltig.[2] Er setzte Azurit für den Himmel und Landschaften im Hintergrund, grüne Lasuren und kupferhaltige Pigmente (Malachit und Kupfer(II)-acetat (Grünspan)) für Laub und Landschaften im Vordergrund und Bleizinngelb, Ocker und Roten Lack (Karmin oder Färberkrapp) für die wichtigen Bildelemente ein.[3]\n",
    "Erhalten geblieben sind von Boschs Werken vor allem Gemälde auf Holztafeln, daneben einige Zeichnungen auf Papier.\n",
    "\n",
    "Zuschreibungen\n",
    "In der Vergangenheit wurden Gemälde einerseits neu Hieronymus Bosch zugeschrieben, andere aufgrund neuerer Erkenntnisse ihm nicht mehr zugeordnet. Bei diesen Neubewertungen der einschlägigen Werke waren die Einschätzungen oft strittig.\n",
    "In der Vorbereitung einer Bosch-Ausstellung in Rotterdam 2001 untersuchte Peter Klein von der Universität Hamburg die von Bosch und seiner Werkstatt als Maluntergrund benutzten Eichentafeln mit der Analysemethode der Dendrochronologie. In Folge mussten einige bislang Bosch zugeschriebene Werke aus dem Gesamtwerk ausgeschieden werden, so Die Hochzeit zu Kana. Die Tafeln bestehen aus Holz von Bäumen, die zum Teil Jahrzehnte nach Boschs Tod gefällt worden sein sollen. Kleins Bewertungen werden allerdings kontrovers diskutiert.[4]\n",
    "Im Rahmen der Vorbereitung zur großen Bosch-Jubiläumsausstellung anlässlich seines 500. Todestages im Frühjahr 2016 im Noordbrabants Museum in ’s-Hertogenbosch wurden durch das Bosch Research and Conservation Project (BRCP) 21 Gemälde und 20 Zeichnungen als eigenhändig bewertet.[5] Nach dem catalogue raisonné von 2016 werden Der Gaukler (Saint-Germain-en-Laye, Musée municipal), Das Steinschneiden und Die sieben Todsünden nicht mehr Bosch zugeschrieben. \n",
    "\n",
    "[Auszug Ende]\"\"\""
   ]
  },
  {
   "cell_type": "code",
   "execution_count": null,
   "id": "c878ca07",
   "metadata": {},
   "outputs": [],
   "source": [
    "# Ihre Lösung"
   ]
  },
  {
   "cell_type": "code",
   "execution_count": 67,
   "id": "54ee2d97",
   "metadata": {},
   "outputs": [],
   "source": []
  },
  {
   "cell_type": "code",
   "execution_count": 68,
   "id": "c0276d8e",
   "metadata": {},
   "outputs": [],
   "source": []
  }
 ],
 "metadata": {
  "kernelspec": {
   "display_name": "Python 3 (ipykernel)",
   "language": "python",
   "name": "python3"
  },
  "language_info": {
   "codemirror_mode": {
    "name": "ipython",
    "version": 3
   },
   "file_extension": ".py",
   "mimetype": "text/x-python",
   "name": "python",
   "nbconvert_exporter": "python",
   "pygments_lexer": "ipython3",
   "version": "3.11.7"
  }
 },
 "nbformat": 4,
 "nbformat_minor": 5
}
