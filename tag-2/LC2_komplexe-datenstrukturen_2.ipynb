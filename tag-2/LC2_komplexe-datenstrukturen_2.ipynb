{
 "cells": [
  {
   "cell_type": "markdown",
   "metadata": {},
   "source": [
    "# 💻 Komplexe Datenstrukturen (2)\n",
    "\n"
   ]
  },
  {
   "cell_type": "markdown",
   "metadata": {},
   "source": [
    "## Dictionaries\n",
    "\n",
    "Dictionaries (Wörterbücher) sind ungeordnete Sammlungen von Schlüssel-Wert-Paaren. Sie ermöglichen schnellen Zugriff auf Werte basierend auf einem einzigartigen Schlüssel. Dictionaries sind veränderlich und eignen sich gut, um dynamische und datenreiche Informationen zu speichern."
   ]
  },
  {
   "cell_type": "code",
   "execution_count": null,
   "metadata": {},
   "outputs": [],
   "source": [
    "print(dir(dict))"
   ]
  },
  {
   "cell_type": "code",
   "execution_count": null,
   "metadata": {},
   "outputs": [],
   "source": [
    "# Dictionary mit Gründungsdaten von Abteien bzw. Klöstern\n",
    "\n",
    "founding_date = {'Cluny': 910,\n",
    "                 'Maria Laach': 1093,\n",
    "                 'Plankstetten': 1129,\n",
    "                 'St. Hildegard': 1904,\n",
    "                 'Ottobeuren': 764}\n",
    "\n",
    "print(founding_date)"
   ]
  },
  {
   "cell_type": "code",
   "execution_count": null,
   "metadata": {},
   "outputs": [],
   "source": [
    "# Hinzufügen von weiteren Einträgen\n",
    "\n",
    "founding_date['Oelinghausen'] = 1174\n",
    "print(founding_date)"
   ]
  },
  {
   "cell_type": "code",
   "execution_count": null,
   "metadata": {},
   "outputs": [],
   "source": [
    "# Auf Schlüssel zugreifen\n",
    "\n",
    "for key in founding_date.keys():\n",
    "    print(key)"
   ]
  },
  {
   "cell_type": "code",
   "execution_count": null,
   "metadata": {},
   "outputs": [],
   "source": [
    "# Auf Werte zugreifen\n",
    "\n",
    "for value in founding_date.values():\n",
    "    print(value)"
   ]
  },
  {
   "cell_type": "code",
   "execution_count": null,
   "metadata": {},
   "outputs": [],
   "source": [
    "# Auf Schlüssel-Wert-Paare zugreifen\n",
    "\n",
    "for item in founding_date.items():\n",
    "    print(item)\n",
    "\n",
    "print(type(item))  # tuple, zugreifen auf Elemente dann wie bei Tuplen mit Indexpositionen"
   ]
  },
  {
   "cell_type": "code",
   "execution_count": null,
   "metadata": {},
   "outputs": [],
   "source": [
    "# nützliche Zusatzfunktion: sorted() zur aufsteigenden Sortierung sequenzieller Datenobjekte\n",
    "\n",
    "sorted_founding_dates = sorted(founding_date.values())\n",
    "print(sorted_founding_dates)"
   ]
  },
  {
   "cell_type": "code",
   "execution_count": null,
   "metadata": {},
   "outputs": [],
   "source": [
    "# Auf spezifische Informationen zugreifen\n",
    "\n",
    "founding_date.get('Cluny')"
   ]
  },
  {
   "cell_type": "code",
   "execution_count": null,
   "metadata": {},
   "outputs": [],
   "source": [
    "# Verschachteltes Dictionary\n",
    "abtei_cluny = {'Cluny': {'Land': 'Frankreich', \n",
    "                        'Bauphasen_Beginn': \n",
    "                                {'Cluny A': 910, \n",
    "                                'Cluny I': 926, \n",
    "                                'Cluny II': 955, \n",
    "                                'Cluny III': 1088}\n",
    "                        }           \n",
    "                }\n"
   ]
  },
  {
   "cell_type": "code",
   "execution_count": null,
   "metadata": {},
   "outputs": [],
   "source": [
    "abtei_cluny['Cluny']"
   ]
  },
  {
   "cell_type": "code",
   "execution_count": null,
   "metadata": {},
   "outputs": [],
   "source": [
    "abtei_cluny['Cluny']['Bauphasen_Beginn']"
   ]
  },
  {
   "cell_type": "code",
   "execution_count": null,
   "metadata": {},
   "outputs": [],
   "source": [
    "abtei_cluny['Cluny']['Bauphasen_Beginn']['Cluny II']"
   ]
  },
  {
   "cell_type": "markdown",
   "metadata": {},
   "source": [
    "### 📝 **Jetzt:** Aufgabe 1 aus dem Notebook `U2_komplexe-datenstrukturen_2.ipynb`.\n",
    "\n",
    "Erstellen Sie mit Hilfe eines Dictionaries einen Obstkorb; das Dictionary soll über die Schlüssel-Wert-Paare Auskunft darüber geben, dass in dem Obstkorb fünf Äpfel, drei Kiwis und sieben Bananen enthalten sind.\n",
    "\n",
    "Geben Sie die Anzahl der Bananen aus.\n",
    "\n",
    "Fügen Sie noch eine Frucht Ihrer Wahl zum Obstkorb hinzu.\n",
    "\n",
    "\n",
    "⏳ 10 Minuten"
   ]
  },
  {
   "cell_type": "code",
   "execution_count": null,
   "metadata": {},
   "outputs": [],
   "source": [
    "# Ihre Lösung"
   ]
  },
  {
   "cell_type": "markdown",
   "metadata": {},
   "source": [
    "### 📝 **Jetzt:** Aufgabe 2 aus dem Notebook `U2_komplexe-datenstrukturen_2.ipynb`.\n",
    "\n",
    "- Erstellen Sie ein Dictionary mit mindestens fünf Einträgen, wobei jeder Eintrag aus einem Autor:innennamen (Schlüssel) und dem Buchtitel (Wert) bestehen soll.\n",
    "- Fordern Sie die Nutzer:innen auf, einen Autor:innennamen einzugeben.\n",
    "- Überprüfen Sie, ob der eingegebene Name im Dictionary vorhanden ist, wenn ja, ist der Titel des Buches auszugeben.\n",
    "- Wenn der Name nicht vorhanden ist, geben Sie eine Nachricht aus, die die Nutzer:innen darüber informiert.\n",
    "\n",
    "⏳ 10 Minuten"
   ]
  },
  {
   "cell_type": "code",
   "execution_count": null,
   "metadata": {},
   "outputs": [],
   "source": [
    "# Ihre Lösung"
   ]
  },
  {
   "cell_type": "markdown",
   "metadata": {},
   "source": [
    "**Optionale Zusatzaufgabe:** \n",
    "\n",
    "Für Programme, die mit User-Inputs arbeiten, kann es manchmal nützlich sein, das Programm so lange auszuführen, wie die User noch Eingaben tätigen möchten. So könnten bspw. auch neue Einträge zu dem Dictionary hinzugefügt werden, wenn die Daten noch nicht vorhanden sind. Hier kann die `while`-Schleife ins Spiel kommen. Wichtig ist dabei, dass Sie auch die While-Schleife so definieren sollten, dass sie irgendwann, wenn eine bestimmte Bedingung nicht mehr erfüllt wird, beendet wird, um die Gefahr einer Endlosschleife auszuschließen.\n",
    "\n",
    "Versuchen Sie, das Skript so anzupassen, dass die Nutzer:innen bestimmen, wann die Dictionary-Abfrage endet. Gerne können Sie auch die Funktionalität hinzufügen, dass das Skript bei einem fehlenden Namen nicht nur Auskunft darüber gibt, dass kein Eintrag vorhanden ist, sondern auch die Möglichkeit bietet, einen neuen Eintrag anzulegen."
   ]
  },
  {
   "cell_type": "code",
   "execution_count": null,
   "metadata": {},
   "outputs": [],
   "source": [
    "# Ihre Lösung"
   ]
  }
 ],
 "metadata": {
  "kernelspec": {
   "display_name": "python-workshop",
   "language": "python",
   "name": "python3"
  },
  "language_info": {
   "codemirror_mode": {
    "name": "ipython",
    "version": 3
   },
   "file_extension": ".py",
   "mimetype": "text/x-python",
   "name": "python",
   "nbconvert_exporter": "python",
   "pygments_lexer": "ipython3",
   "version": "3.8.13"
  }
 },
 "nbformat": 4,
 "nbformat_minor": 2
}
