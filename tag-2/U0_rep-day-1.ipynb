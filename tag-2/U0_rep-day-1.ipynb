{
 "cells": [
  {
   "cell_type": "markdown",
   "metadata": {},
   "source": [
    "# 📝 Übung zur Wiederholung\n",
    "\n",
    "Konsultieren Sie gerne die Materialien des ersten Workshoptages oder das JupyterBook [Python für Historiker:innen](https://digital-history-berlin.github.io/Python-fuer-Historiker-innen/ch01-atomare-datentypen/07-aufgabe-taschenrechner.html) sowie die [Python-Dokumentation](https://docs.python.org/3/) oder auch [Stack Overflow](https://stackoverflow.com/) und tauschen Sie sich untereinander aus.\n",
    "\n",
    "⏳ Insgesamt 15 Minuten\n",
    "\n"
   ]
  },
  {
   "cell_type": "markdown",
   "metadata": {},
   "source": [
    "## Aufgabe: Bedingte Anweisungen\n",
    "\n",
    "Schreiben Sie ein kleines Skript, das die folgende Prüfung umsetzt:\n",
    "\n",
    "Über die `input`-Funktion sollen Sie als Nutzer:in nach Ihrem Alter gefragt werden. Der übergebene Wert soll in der Variable `alter` gespeichert werden. Mit `int()` können Sie dafür sorgen, dass die Texteingabe in ein Integer umgewandelt wird. \n",
    "\n",
    "Prüfen Sie dann, ob der Wert in der Variablen größer oder gleich 18 ist. Es soll \"Volljährig\" ausgegeben werden, wenn dies der Fall ist, ansonsten \"Minderjährig\"."
   ]
  },
  {
   "cell_type": "code",
   "execution_count": null,
   "metadata": {},
   "outputs": [],
   "source": [
    "# Ihre Lösung"
   ]
  }
 ],
 "metadata": {
  "kernelspec": {
   "display_name": "mininghistoriansweb",
   "language": "python",
   "name": "python3"
  },
  "language_info": {
   "codemirror_mode": {
    "name": "ipython",
    "version": 3
   },
   "file_extension": ".py",
   "mimetype": "text/x-python",
   "name": "python",
   "nbconvert_exporter": "python",
   "pygments_lexer": "ipython3",
   "version": "3.11.7"
  }
 },
 "nbformat": 4,
 "nbformat_minor": 2
}
