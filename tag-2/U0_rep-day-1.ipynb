{
 "cells": [
  {
   "cell_type": "markdown",
   "metadata": {},
   "source": [
    "# 📝 Übungen zur Wiederholung\n",
    "\n",
    "Konsultieren Sie gerne die Materialien des ersten Workshoptages oder das JupyterBook [Python für Historiker:innen](https://digital-history-berlin.github.io/Python-fuer-Historiker-innen/ch01-atomare-datentypen/07-aufgabe-taschenrechner.html) sowie die [Python-Dokumentation](https://docs.python.org/3/) oder auch [Stack Overflow](https://stackoverflow.com/) und tauschen Sie sich untereinander aus.\n",
    "\n",
    "⏳ Insgesamt 30 Minuten\n",
    "\n",
    "## Aufgabe 1: Textdaten bereinigen\n",
    "\n",
    "Führen Sie die Codezelle mit dem zu bereinigenden Beispieltext aus.\n",
    "\n",
    "Entwickeln Sie ein Python-Skript, das die folgenden Preprocessing-Schritte für Textdaten umsetzt:\n",
    "\n",
    "1. Entfernung von Satzzeichen\n",
    "2. Umstellung auf Kleinbuchstaben (Lower-casing)\n",
    "3. Zerlegung des Textes in einzelne Wörter (Tokenisierung)\n",
    "4. Entfernung von Stoppwörtern, wie Artikeln etc.\n",
    "\n",
    "Nutzen Sie für diese Aufgabe die bekannten String-Methoden und For-Schleifen.\n",
    "\n",
    "Am Ende soll die bereinigte Liste von Tokens mit der Funktion `print()` ausgegeben werden."
   ]
  },
  {
   "cell_type": "code",
   "execution_count": 3,
   "metadata": {},
   "outputs": [],
   "source": [
    "# führen Sie diese Codezelle aus, \n",
    "# um auf den Beispieltext zugreifen zu können\n",
    "\n",
    "text = \"Hier ist ein Beispieltext, der vorverarbeitet werden soll. Er enthält: Satzzeichen, Groß- und Kleinschreibung sowie einige Stoppwörter, die für einige Textanalysemethoden, wie bspw. Topic Modeling, eine Methode, die wir im Workshop noch kennenlernen werden, in der Regel ausgeschlossen werden, da sie wenig zur Bedeutung eines Textes beitragen. In anderen Textanalyseszenarien wiederum, wie bspw. der Stilometrie, sind sie indes essenziell!\""
   ]
  },
  {
   "cell_type": "code",
   "execution_count": null,
   "metadata": {},
   "outputs": [],
   "source": [
    "# Ihre Lösung"
   ]
  },
  {
   "cell_type": "markdown",
   "metadata": {},
   "source": [
    "## Aufgabe 2: Buch-Index\n",
    "\n",
    "- Erstellen Sie ein Dictionary mit mindestens fünf Einträgen, wobei jeder Eintrag aus einem Autor:innennamen (Schlüssel) und dem Buchtitel (Wert) bestehen soll.\n",
    "- Fordern Sie die Nutzer:innen auf, einen Autor:innennamen einzugeben.\n",
    "- Überprüfen Sie, ob der eingegebene Name im Dictionary vorhanden ist, wenn ja, ist der Titel des Buches auszugeben.\n",
    "- Wenn der Name nicht vorhanden ist, geben Sie eine Nachricht aus, die die Nutzer:innen darüber informiert.\n"
   ]
  },
  {
   "cell_type": "code",
   "execution_count": null,
   "metadata": {},
   "outputs": [],
   "source": [
    "# Ihre Lösung"
   ]
  },
  {
   "cell_type": "markdown",
   "metadata": {},
   "source": [
    "**Optionale Zusatzaufgabe (erst bearbeiten, wenn Sie mit den übrigen Aufgaben dieses Notebooks fertig sind und noch Zeit ist bzw. im Nachgang des Workshops):** \n",
    "\n",
    "Für Programme, die mit User-Inputs arbeiten, kann es manchmal nützlich sein, das Programm so lange auszuführen, wie die User noch Eingaben tätigen möchten. So könnten bspw. auch neue Einträge zu dem Dictionary hinzugefügt werden, wenn die Daten noch nicht vorhanden sind. Hier kann die `while`-Schleife ins Spiel kommen. Wichtig ist dabei, dass Sie auch die While-Schleife so definieren sollten, dass sie irgendwann, wenn eine bestimmte Bedingung nicht mehr erfüllt wird, beendet wird, um die Gefahr einer Endlosschleife auszuschließen.\n",
    "\n",
    "Versuchen Sie, das Skript so anzupassen, dass die Nutzer:innen bestimmen, wann die Dictionary-Abfrage endet. Gerne können Sie auch die Funktionalität hinzufügen, dass das Skript bei einem fehlenden Namen nicht nur Auskunft darüber gibt, dass kein Eintrag vorhanden ist, sondern auch die Möglichkeit bietet, einen neuen Eintrag anzulegen."
   ]
  },
  {
   "cell_type": "code",
   "execution_count": null,
   "metadata": {},
   "outputs": [],
   "source": [
    "# Ihre Lösung"
   ]
  },
  {
   "cell_type": "markdown",
   "metadata": {},
   "source": [
    "## Aufgabe 3: Bedingte Anweisungen\n",
    "\n",
    "Schreiben Sie ein kleines Skript, das die folgende Prüfung umsetzt:\n",
    "\n",
    "Über die `input`-Funktion sollen Sie als Nutzer:in nach Ihrem Alter gefragt werden. Der übergebene Wert soll in der Variable `alter` gespeichert werden. Mit `int()` können Sie dafür sorgen, das die Texteingabe in ein Integer umgewandelt wird. \n",
    "\n",
    "Prüfen Sie dann, ob der Wert in der Variablen größer oder gleich 18 ist. Es soll \"Volljährig\" ausgegeben werden, wenn dies der Fall ist, ansonsten \"Minderjährig\"."
   ]
  },
  {
   "cell_type": "code",
   "execution_count": null,
   "metadata": {},
   "outputs": [],
   "source": [
    "# Ihre Lösung"
   ]
  }
 ],
 "metadata": {
  "kernelspec": {
   "display_name": "mininghistoriansweb",
   "language": "python",
   "name": "python3"
  },
  "language_info": {
   "codemirror_mode": {
    "name": "ipython",
    "version": 3
   },
   "file_extension": ".py",
   "mimetype": "text/x-python",
   "name": "python",
   "nbconvert_exporter": "python",
   "pygments_lexer": "ipython3",
   "version": "3.11.7"
  }
 },
 "nbformat": 4,
 "nbformat_minor": 2
}
