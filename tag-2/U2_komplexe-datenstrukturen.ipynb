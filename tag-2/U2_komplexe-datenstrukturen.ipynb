{
 "cells": [
  {
   "cell_type": "markdown",
   "metadata": {},
   "source": [
    "# 📝 Übungen Komplexe Datenstrukturen"
   ]
  },
  {
   "cell_type": "markdown",
   "metadata": {},
   "source": [
    "## Aufgabe 1:\n",
    "\n",
    "- Legen Sie eine Liste mit mindestens 5 ganzen Zahlen an \n",
    "- Fügen Sie der Liste mit den bekannten Funktionen zwei weitere Integerwerte hinzu\n",
    "- Sortieren Sie die Liste in aufsteigender Reihenfolge\n",
    "- Berechnen Sie die Summe aller Zahlen in der Liste und geben Sie das Ergebnis aus.\n",
    "\n",
    "⏳ 5 Minuten"
   ]
  },
  {
   "cell_type": "code",
   "execution_count": null,
   "metadata": {},
   "outputs": [],
   "source": [
    "# Ihre Lösung"
   ]
  },
  {
   "cell_type": "markdown",
   "metadata": {},
   "source": [
    "## Aufgabe 2: \n",
    "\n",
    "Erstellen Sie eine Liste, die als Elemente einen String, zwei Integer, drei floats und eine Liste mit vier Integer enthält.\n",
    "\n",
    "Geben Sie die Anzahl der Elemente der Liste aus.\n",
    "\n",
    "Geben Sie den dritten Wert der Liste aus, der in der Liste enthalten ist.\n",
    "\n",
    "⏳ 5 Minuten"
   ]
  },
  {
   "cell_type": "code",
   "execution_count": null,
   "metadata": {},
   "outputs": [],
   "source": [
    "# Ihre Lösung"
   ]
  },
  {
   "cell_type": "markdown",
   "metadata": {},
   "source": [
    "## Aufgabe 3: Textdaten bereinigen\n",
    "\n",
    "Führen Sie die Codezelle mit dem zu bereinigenden Beispieltext aus.\n",
    "\n",
    "Entwickeln Sie ein Python-Skript, das die folgenden Preprocessing-Schritte für Textdaten umsetzt:\n",
    "\n",
    "1. Entfernung von Satzzeichen\n",
    "2. Umstellung auf Kleinbuchstaben (Lower-casing)\n",
    "3. Zerlegung des Textes in einzelne Wörter (Tokenisierung)\n",
    "4. Entfernung von [Stoppwörtern](https://de.wikipedia.org/wiki/Stoppwort), wie Artikeln etc.\n",
    "\n",
    "Nutzen Sie für diese Aufgabe die bekannten String-Methoden und For-Schleifen.\n",
    "\n",
    "Am Ende soll die bereinigte Liste von Tokens mit der Funktion `print()` ausgegeben werden.\n",
    "\n",
    "⏳ 20 Minuten"
   ]
  },
  {
   "cell_type": "code",
   "execution_count": null,
   "metadata": {},
   "outputs": [],
   "source": [
    "# führen Sie diese Codezelle aus, \n",
    "# um auf den Beispieltext zugreifen zu können\n",
    "\n",
    "text = \"Hier ist ein Beispieltext, der vorverarbeitet werden soll. Er enthält: Satzzeichen, Groß- und Kleinschreibung sowie einige Stoppwörter, die für einige Textanalysemethoden, wie bspw. Topic Modeling, eine Methode, die wir im Workshop noch kennenlernen werden, in der Regel ausgeschlossen werden, da sie wenig zur Bedeutung eines Textes beitragen. In anderen Textanalyseszenarien wiederum, wie bspw. der Stilometrie, sind sie indes essenziell!\""
   ]
  },
  {
   "cell_type": "code",
   "execution_count": null,
   "metadata": {},
   "outputs": [],
   "source": [
    "# Ihre Lösung"
   ]
  },
  {
   "cell_type": "markdown",
   "metadata": {},
   "source": [
    "## **Optional/Zusatzaufgabe:** Aufgabe 4\n",
    "\n",
    "Schreiben Sie ein kleines Skript, das durch die Liste `books` navigiert, die sowohl einfache Buchtitel (Strings) als auch eine Liste von Buchtiteln enthält. Das Skript soll für einen vom Nutzenden eingegebenen Buchtitel die Position dieses Titels in der Struktur finden und ausgeben. Die Ausgabe soll differenzieren, ob das Buch auf der obersten Ebene der Liste oder innerhalb der verschachtelten Liste gefunden wurde.\n",
    "\n",
    "Hilfreich können hierbei die folgenden Funktionen sein:\n",
    "- `input()`\n",
    "- `enumerate()`\n",
    "- `type()`\n",
    "- `index()`\n",
    "\n",
    "Außerdem sollten Sie mit bedingten Anweisungen und einer For-Schleife arbeiten.\n",
    "\n",
    "⏳ 20 Minuten\n",
    "\n",
    "*Hinweis: Diese Aufgabe ist deutlich komplexer als die anderen Aufgaben dieser Einheit. Versuchen Sie es einfach mal. :)*"
   ]
  },
  {
   "cell_type": "code",
   "execution_count": null,
   "metadata": {},
   "outputs": [],
   "source": [
    "# bitte ausführen\n",
    "\n",
    "books = [\"Die Verwandlung\", \n",
    "        \"Die Pest\", \n",
    "        \"Eine Geschichte aus zwei Städten\", \n",
    "        \"Digital Humanities. Eine Einführung\", \n",
    "        [\"Harry Potter und der Stein der Weisen\", \n",
    "        \"Harry Potter und die Kammer des Schreckens\", \n",
    "        \"Harry Potter und der Gefangene von Askaban\", \n",
    "        \"...\"]]"
   ]
  },
  {
   "cell_type": "code",
   "execution_count": null,
   "metadata": {},
   "outputs": [],
   "source": [
    "# Ihre Lösung"
   ]
  },
  {
   "cell_type": "markdown",
   "metadata": {},
   "source": [
    "## Aufgabe 5:\n",
    "\n",
    "- Fügen Sie der Liste, die Sie in Aufgabe 2 definiert haben, ein weitere Liste mit vier Integer-Werten hinzu.\n",
    "\n",
    "- Erstellen Sie aus der Liste ein Set und geben dieses aus. Was passiert? (Googlen Sie gerne die Fehlermeldung und machen Sie mit dem nächsten Schritt weiter)\n",
    "\n",
    "- Entfernen Sie die beiden Listen, die in der Liste enthalten sind, und erstellen erneut ein Set.\n",
    "\n",
    "⏳ 10 Minuten"
   ]
  },
  {
   "cell_type": "code",
   "execution_count": null,
   "metadata": {},
   "outputs": [],
   "source": [
    "# Ihre Lösung"
   ]
  },
  {
   "cell_type": "markdown",
   "metadata": {},
   "source": [
    "## Aufgabe 6:\n",
    "\n",
    "Erstellen Sie mit Hilfe eines Dictionaries einen Obstkorb; das Dictionary soll über die Schlüssel-Wert-Paare Auskunft darüber geben, dass in dem Obstkorb fünf Äpfel, drei Kiwis und sieben Bananen enthalten sind.\n",
    "\n",
    "Geben Sie die Anzahl der Bananen aus.\n",
    "\n",
    "Fügen Sie noch eine Frucht Ihrer Wahl zum Obstkorb hinzu.\n",
    "\n",
    "⏳ 10 Minuten"
   ]
  },
  {
   "cell_type": "code",
   "execution_count": null,
   "metadata": {},
   "outputs": [],
   "source": [
    "# Ihre Lösung"
   ]
  },
  {
   "cell_type": "markdown",
   "metadata": {},
   "source": [
    "## Aufgabe 7: Buch-Index\n",
    "\n",
    "- Erstellen Sie ein Dictionary mit mindestens fünf Einträgen, wobei jeder Eintrag aus einem Autor:innennamen (Schlüssel) und dem Buchtitel (Wert) bestehen soll.\n",
    "- Fordern Sie die Nutzer:innen auf, einen Autor:innennamen einzugeben.\n",
    "- Überprüfen Sie, ob der eingegebene Name im Dictionary vorhanden ist, wenn ja, ist der Titel des Buches auszugeben.\n",
    "- Wenn der Name nicht vorhanden ist, geben Sie eine Nachricht aus, die die Nutzer:innen darüber informiert.\n",
    "\n",
    "⏳ 10 Minuten\n"
   ]
  },
  {
   "cell_type": "code",
   "execution_count": null,
   "metadata": {},
   "outputs": [],
   "source": [
    "# Ihre Lösung"
   ]
  },
  {
   "cell_type": "markdown",
   "metadata": {},
   "source": [
    "**Optionale Zusatzaufgabe:** \n",
    "\n",
    "Für Programme, die mit User-Inputs arbeiten, kann es manchmal nützlich sein, das Programm so lange auszuführen, wie die User noch Eingaben tätigen möchten. So könnten bspw. auch neue Einträge zu dem Dictionary hinzugefügt werden, wenn die Daten noch nicht vorhanden sind. Hier kann die `while`-Schleife ins Spiel kommen. Wichtig ist dabei, dass Sie auch die While-Schleife so definieren sollten, dass sie irgendwann, wenn eine bestimmte Bedingung nicht mehr erfüllt wird, beendet wird, um die Gefahr einer Endlosschleife auszuschließen.\n",
    "\n",
    "Versuchen Sie, das Skript so anzupassen, dass die Nutzer:innen bestimmen, wann die Dictionary-Abfrage endet. Gerne können Sie auch die Funktionalität hinzufügen, dass das Skript bei einem fehlenden Namen nicht nur Auskunft darüber gibt, dass kein Eintrag vorhanden ist, sondern auch die Möglichkeit bietet, einen neuen Eintrag anzulegen."
   ]
  },
  {
   "cell_type": "code",
   "execution_count": null,
   "metadata": {},
   "outputs": [],
   "source": [
    "# Ihre Lösung"
   ]
  }
 ],
 "metadata": {
  "kernelspec": {
   "display_name": "Python 3.9.7",
   "language": "python",
   "name": "python3"
  },
  "language_info": {
   "codemirror_mode": {
    "name": "ipython",
    "version": 3
   },
   "file_extension": ".py",
   "mimetype": "text/x-python",
   "name": "python",
   "nbconvert_exporter": "python",
   "pygments_lexer": "ipython3",
   "version": "3.9.7"
  },
  "orig_nbformat": 4,
  "vscode": {
   "interpreter": {
    "hash": "4cab2e3c59f82d31ef33573b56569893ba7388f3e17b6676d60d91498ea89ea5"
   }
  }
 },
 "nbformat": 4,
 "nbformat_minor": 2
}
