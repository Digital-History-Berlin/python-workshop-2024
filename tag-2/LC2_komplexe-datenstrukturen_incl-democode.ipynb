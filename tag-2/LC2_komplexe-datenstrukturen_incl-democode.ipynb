{
 "cells": [
  {
   "cell_type": "markdown",
   "metadata": {},
   "source": [
    "# 💻 Komplexe Datenstrukturen\n",
    "\n",
    "## Listen und Listenfunktionen\n",
    "\n",
    "Listen sind geordnete Sammlungen von Werten, die unterschiedliche Datentypen enthalten können. Sie zeichnen sich dadurch aus, dass sie veränderlich sind, d.h., ihr Inhalt kann nach der Erstellung geändert werden. Sie unterstützen Operationen wie Hinzufügen, Entfernen und Ändern von Elementen."
   ]
  },
  {
   "cell_type": "code",
   "execution_count": null,
   "metadata": {},
   "outputs": [],
   "source": [
    "list_1 = [2, 1, 4, 3]                       # Liste mit Ganzzahlen\n",
    "print(list_1)"
   ]
  },
  {
   "cell_type": "code",
   "execution_count": null,
   "metadata": {},
   "outputs": [],
   "source": [
    "list_2 = [\"Ei\", \"Banane\", \"Brot\", \"Käse\"]   # Liste mit Zeichenketten (strings)\n",
    "print(list_2)"
   ]
  },
  {
   "cell_type": "code",
   "execution_count": null,
   "metadata": {},
   "outputs": [],
   "source": [
    "list_3 = [\"string\", 2, True, 2.76]          # Liste mit verschiedenen Datentypen\n",
    "print(list_3)"
   ]
  },
  {
   "cell_type": "code",
   "execution_count": null,
   "metadata": {},
   "outputs": [],
   "source": [
    "print(dir(list))                            # Überblick über die Eigenschaften von Listen "
   ]
  },
  {
   "cell_type": "code",
   "execution_count": null,
   "metadata": {},
   "outputs": [],
   "source": [
    "list_1.sort()                               # Integer-Liste sortieren (aufsteigend)\n",
    "print(list_1)"
   ]
  },
  {
   "cell_type": "code",
   "execution_count": null,
   "metadata": {},
   "outputs": [],
   "source": [
    "list_2.sort()                               # String-Liste sortieren (alphabetisch)\n",
    "print(list_2)"
   ]
  },
  {
   "cell_type": "code",
   "execution_count": null,
   "metadata": {},
   "outputs": [],
   "source": [
    "sum(list_1)                   # sum-Funktion addiert die Elemente einer Liste von Zahlenwerten"
   ]
  },
  {
   "cell_type": "code",
   "execution_count": null,
   "metadata": {},
   "outputs": [],
   "source": [
    "min(list_1)                          # Min-Funktion gibt den niedrigsten Wert einer Liste von Zahlenwerten aus"
   ]
  },
  {
   "cell_type": "code",
   "execution_count": null,
   "metadata": {},
   "outputs": [],
   "source": [
    "max(list_1)                      # Max-Funktion gibt den höchsten Wert einer Liste von Zahlenwerten aus"
   ]
  },
  {
   "cell_type": "code",
   "execution_count": null,
   "metadata": {},
   "outputs": [],
   "source": [
    "list_1.count(1)                             # Häufigkeit von Elementen einer Liste zählen"
   ]
  },
  {
   "cell_type": "code",
   "execution_count": null,
   "metadata": {},
   "outputs": [],
   "source": [
    "einkaufsliste = \", \".join(list_2)   # Iterierbares Objekt in einen String umwandeln\n",
    "print(einkaufsliste)\n",
    "print(type(einkaufsliste))"
   ]
  },
  {
   "cell_type": "code",
   "execution_count": null,
   "metadata": {},
   "outputs": [],
   "source": [
    "list_1.reverse()                 # Reihenfolge umkehren\n",
    "print(list_1)"
   ]
  },
  {
   "cell_type": "code",
   "execution_count": null,
   "metadata": {},
   "outputs": [],
   "source": [
    "print(list_2.index(\"Brot\"))      # Indexposition eines bestimmten Wertes ermitteln"
   ]
  },
  {
   "cell_type": "markdown",
   "metadata": {},
   "source": [
    "### Funktionen, um Elemente zu Listen hinzuzufügen"
   ]
  },
  {
   "cell_type": "code",
   "execution_count": null,
   "metadata": {},
   "outputs": [],
   "source": [
    "another_list = []                                   # Eine leere Liste erzeugen\n",
    "print(another_list)"
   ]
  },
  {
   "cell_type": "code",
   "execution_count": null,
   "metadata": {},
   "outputs": [],
   "source": [
    "another_list.append(\"Hallo Welt!\")                  # Elemente einer Liste hinzufügen           \n",
    "print(another_list)"
   ]
  },
  {
   "cell_type": "code",
   "execution_count": null,
   "metadata": {},
   "outputs": [],
   "source": [
    "another_list.append([1, 2, 3, 4])\n",
    "print(another_list)"
   ]
  },
  {
   "cell_type": "code",
   "execution_count": null,
   "metadata": {},
   "outputs": [],
   "source": [
    "another_list.append(42)\n",
    "print(another_list)"
   ]
  },
  {
   "cell_type": "code",
   "execution_count": null,
   "metadata": {},
   "outputs": [],
   "source": [
    "another_list.extend(\"Hallo Welt!\")                     # Liste mit iterierbaren Objekten erweitern\n",
    "print(another_list)\n"
   ]
  },
  {
   "cell_type": "code",
   "execution_count": null,
   "metadata": {},
   "outputs": [],
   "source": [
    "another_list.extend([1, 2, 3, 4])\n",
    "print(another_list)"
   ]
  },
  {
   "cell_type": "code",
   "execution_count": null,
   "metadata": {},
   "outputs": [],
   "source": [
    "another_list.insert(2, \"Ei\")                           # Wert an einer bestimmten Indexposition einfügen\n",
    "print(another_list)"
   ]
  },
  {
   "cell_type": "markdown",
   "metadata": {},
   "source": [
    "### Funktionen, um Elemente aus Listen oder ganze Listen zu entfernen"
   ]
  },
  {
   "cell_type": "code",
   "execution_count": null,
   "metadata": {},
   "outputs": [],
   "source": [
    "another_list.remove(\"Ei\")                           # Einen bestimmten Wert entfernen \n",
    "print(another_list)"
   ]
  },
  {
   "cell_type": "code",
   "execution_count": null,
   "metadata": {},
   "outputs": [],
   "source": [
    "element = another_list.pop(2)                       # Einen Wert an einer bestimmten Indexposition entfernen (und ggf. weiterverwenden)\n",
    "print(element)\n",
    "print(another_list)"
   ]
  },
  {
   "cell_type": "code",
   "execution_count": null,
   "metadata": {},
   "outputs": [],
   "source": [
    "another_list.clear()                                # Alle Elemente aus einer Liste entfernen\n",
    "print(another_list)"
   ]
  },
  {
   "cell_type": "code",
   "execution_count": null,
   "metadata": {},
   "outputs": [],
   "source": [
    "del(another_list)                                   # Liste ganz löschen (geht mit jeder Variablen)\n",
    "print(another_list)"
   ]
  },
  {
   "cell_type": "markdown",
   "metadata": {},
   "source": [
    "### 📝 **Jetzt:** Aufgabe 1 aus dem Notebook `U2_komplexe-datenstrukturen.ipynb`.\n",
    "\n",
    "- Legen Sie eine Liste mit mindestens 5 ganzen Zahlen an \n",
    "- Fügen Sie der Liste mit den bekannten Funktionen zwei weitere Integerwerte hinzu\n",
    "- Sortieren Sie die Liste in aufsteigender Reihenfolge\n",
    "- Berechnen Sie die Summe aller Zahlen in der Liste und geben Sie das Ergebnis aus.\n",
    "\n",
    "⏳ 5 Minuten"
   ]
  },
  {
   "cell_type": "code",
   "execution_count": null,
   "metadata": {},
   "outputs": [],
   "source": [
    "# gemeinsame Lösung\n",
    "\n"
   ]
  },
  {
   "cell_type": "code",
   "execution_count": null,
   "metadata": {},
   "outputs": [],
   "source": [
    "numbers = [24, 56, 89, 77, 1]\n",
    "numbers.extend([12, 4])"
   ]
  },
  {
   "cell_type": "code",
   "execution_count": null,
   "metadata": {},
   "outputs": [],
   "source": [
    "numbers.sort()\n",
    "print(numbers)"
   ]
  },
  {
   "cell_type": "code",
   "execution_count": null,
   "metadata": {},
   "outputs": [],
   "source": [
    "sum(numbers)"
   ]
  },
  {
   "cell_type": "markdown",
   "metadata": {},
   "source": [
    "### Slicing\n",
    "- ähnliche Funktionsweise wie bei Strings"
   ]
  },
  {
   "cell_type": "code",
   "execution_count": null,
   "metadata": {},
   "outputs": [],
   "source": [
    "some_list = [\"Apfel\", \"Birne\", \"Orange\", \"Kiwi\", \"Mango\", \"Banane\", \"Erdbeere\", \"Himbeere\", \"Blaubeere\", \"Wassermelone\", \"Kirsche\", \"Pflaume\", \"Pfirsich\", \"Aprikose\", \"Traube\"]"
   ]
  },
  {
   "cell_type": "code",
   "execution_count": null,
   "metadata": {},
   "outputs": [],
   "source": [
    "len(some_list)"
   ]
  },
  {
   "cell_type": "code",
   "execution_count": null,
   "metadata": {},
   "outputs": [],
   "source": [
    "some_list[4:8]"
   ]
  },
  {
   "cell_type": "code",
   "execution_count": null,
   "metadata": {},
   "outputs": [],
   "source": [
    "some_list[:-10]"
   ]
  },
  {
   "cell_type": "code",
   "execution_count": null,
   "metadata": {},
   "outputs": [],
   "source": [
    "some_list[14:]"
   ]
  },
  {
   "cell_type": "markdown",
   "metadata": {},
   "source": [
    "### Indizieren von Listen \n",
    "\n",
    "- ähnliche Funktionsweise wie bei Strings"
   ]
  },
  {
   "cell_type": "code",
   "execution_count": null,
   "metadata": {},
   "outputs": [],
   "source": [
    "books = [\"Die Verwandlung\", \n",
    "        \"Die Pest\", \n",
    "        \"Eine Geschichte aus zwei Städten\", \n",
    "        \"Digital Humanities. Eine Einführung\", \n",
    "        [\"Harry Potter und der Stein der Weisen\", \n",
    "        \"Harry Potter und die Kammer des Schreckens\", \n",
    "        \"Harry Potter und der Gefangene von Askaban\", \n",
    "        \"...\"]]"
   ]
  },
  {
   "cell_type": "code",
   "execution_count": null,
   "metadata": {},
   "outputs": [],
   "source": [
    "# Auf Element an einer bestimmten Indexposition zugreifen\n",
    "\n",
    "print(books[2])"
   ]
  },
  {
   "cell_type": "code",
   "execution_count": null,
   "metadata": {},
   "outputs": [],
   "source": [
    "# Auf letztes Listenelement zugreifen\n",
    "\n",
    "print(books[-1])"
   ]
  },
  {
   "cell_type": "code",
   "execution_count": null,
   "metadata": {},
   "outputs": [],
   "source": [
    "# Auf verschachtelte Inhalte zugreifen\n",
    "\n",
    "print(books[4][1])"
   ]
  },
  {
   "cell_type": "code",
   "execution_count": null,
   "metadata": {},
   "outputs": [],
   "source": [
    "# Alternative zur Insert-Funktion\n",
    "\n",
    "books[-1][-1] = \"TITEL\"\n",
    "print(books)"
   ]
  },
  {
   "cell_type": "code",
   "execution_count": null,
   "metadata": {},
   "outputs": [],
   "source": [
    "# Out of Range-Fehlermeldung\n",
    "\n",
    "books[7]"
   ]
  },
  {
   "cell_type": "code",
   "execution_count": null,
   "metadata": {},
   "outputs": [],
   "source": [
    "# Prüfung des Listenumfangs\n",
    "\n",
    "len(books)"
   ]
  },
  {
   "cell_type": "code",
   "execution_count": null,
   "metadata": {},
   "outputs": [],
   "source": [
    "# Existenz prüfen\n",
    "\n",
    "\"Die Pest\" in books"
   ]
  },
  {
   "cell_type": "markdown",
   "metadata": {},
   "source": [
    "**Frage an das Plenum:** Wie kann noch mal die Indexposition eines bestimmten Wertes (z.B. \"Digital Humanities. Eine Einführung\") ermittelt werden?"
   ]
  },
  {
   "cell_type": "code",
   "execution_count": null,
   "metadata": {},
   "outputs": [],
   "source": [
    "books.index(\"Digital Humanities. Eine Einführung\")"
   ]
  },
  {
   "cell_type": "code",
   "execution_count": null,
   "metadata": {},
   "outputs": [],
   "source": [
    "# Herausforderung: Liste in Liste > Versuch mit Aufgabe 3 (Zusatzaufgabe), eine Lösung zu finden\n",
    "\n",
    "books.index(\"Harry Potter und der Stein der Weisen\")"
   ]
  },
  {
   "cell_type": "markdown",
   "metadata": {},
   "source": [
    "### 📝 **Jetzt:** Aufgabe 2 aus dem Notebook `U2_komplexe-datenstrukturen.ipynb`.\n",
    "\n",
    "Erstellen Sie eine Liste, die als Elemente einen String, zwei Integer, drei floats und eine Liste mit vier Integer enthält.\n",
    "\n",
    "Geben Sie die Anzahl der Elemente der Liste aus.\n",
    "\n",
    "Geben Sie den dritten Wert der Subliste aus, die in der Hauptliste enthalten ist.\n",
    "\n",
    "⏳ 5 Minuten"
   ]
  },
  {
   "cell_type": "code",
   "execution_count": null,
   "metadata": {},
   "outputs": [],
   "source": [
    "# gemeinsame Lösung\n",
    "\n"
   ]
  },
  {
   "cell_type": "code",
   "execution_count": null,
   "metadata": {},
   "outputs": [],
   "source": [
    "list_1 = [ \"Hallo\", 42, 1337, 2.5, 3.7, 4.9, [1, 2, 3, 4] ]\n",
    "print(len(list_1))\n",
    "print(list_1[-1][2])"
   ]
  },
  {
   "cell_type": "markdown",
   "metadata": {},
   "source": [
    "### 📝 **Jetzt:** Aufgabe 3 aus dem Notebook `U2_komplexe-datenstrukturen.ipynb`. \n",
    "\n",
    "**Textdaten bereinigen**\n",
    "\n",
    "Führen Sie die Codezelle mit dem zu bereinigenden Beispieltext aus.\n",
    "\n",
    "Entwickeln Sie ein Python-Skript, das die folgenden Preprocessing-Schritte für Textdaten umsetzt:\n",
    "\n",
    "1. Entfernung von Satzzeichen\n",
    "2. Umstellung auf Kleinbuchstaben (Lower-casing)\n",
    "3. Zerlegung des Textes in einzelne Wörter (Tokenisierung)\n",
    "4. Entfernung von [Stoppwörtern](https://de.wikipedia.org/wiki/Stoppwort), wie Artikeln etc.\n",
    "\n",
    "Nutzen Sie für diese Aufgabe die bekannten String-Methoden und For-Schleifen.\n",
    "\n",
    "Am Ende soll die bereinigte Liste von Tokens mit der Funktion `print()` ausgegeben werden.\n",
    "\n",
    "⏳ 20 Minuten"
   ]
  },
  {
   "cell_type": "code",
   "execution_count": null,
   "metadata": {},
   "outputs": [],
   "source": [
    "# führen Sie diese Codezelle aus, \n",
    "# um auf den Beispieltext zugreifen zu können\n",
    "\n",
    "text = \"Hier ist ein Beispieltext, der vorverarbeitet werden soll. Er enthält: Satzzeichen, Groß- und Kleinschreibung sowie einige Stoppwörter, die für einige Textanalysemethoden, wie bspw. Topic Modeling, eine Methode, die wir im Workshop noch kennenlernen werden, in der Regel ausgeschlossen werden, da sie wenig zur Bedeutung eines Textes beitragen. In anderen Textanalyseszenarien wiederum, wie bspw. der Stilometrie, sind sie indes essenziell!\""
   ]
  },
  {
   "cell_type": "code",
   "execution_count": null,
   "metadata": {},
   "outputs": [],
   "source": [
    "# gemeinsame Lösung"
   ]
  },
  {
   "cell_type": "code",
   "execution_count": null,
   "metadata": {},
   "outputs": [],
   "source": [
    "# Entfernen der Satzzeichen\n",
    "satzzeichen = \".,;:!?\\\"'\"   # beliebig erweiterbar, alternativ: Liste\n",
    "for zeichen in satzzeichen:\n",
    "    text = text.replace(zeichen, \"\")\n",
    "\n",
    "# Lower-casing\n",
    "text = text.lower()\n",
    "\n",
    "# Tokenisierung anhand von Whitespaces\n",
    "tokens = text.split()\n",
    "\n",
    "# Entfernen von Stoppwörtern\n",
    "stoppwoerter = [\"ein\", \"der\", \"das\", \"die\", \"und\", \"sowie\", \"ist\"]\n",
    "\n",
    "token_list = []\n",
    "\n",
    "for token in tokens:\n",
    "    if token not in stoppwoerter:\n",
    "        token_list.append(token)\n",
    "\n",
    "# Ausgabe des bereinigten Textes\n",
    "print(\"Bereinigte Tokens:\", token_list)"
   ]
  },
  {
   "cell_type": "markdown",
   "metadata": {},
   "source": [
    "---"
   ]
  },
  {
   "cell_type": "markdown",
   "metadata": {},
   "source": [
    "## Tupel\n",
    "\n",
    "Tupel sind wie Listen geordnete Sammlungen, aber im Gegensatz zu Listen sind Tupel unveränderlich (immutable). Einmal erstellt, kann der Inhalt eines Tupels nicht mehr geändert werden. Tupel eignen sich für Datensätze, die nicht geändert werden sollen. Nützlich vor allem dann, wenn Werte nur zusammen Sinn ergeben, bspw. Namen, Koordinaten, o.ä."
   ]
  },
  {
   "cell_type": "code",
   "execution_count": null,
   "metadata": {},
   "outputs": [],
   "source": [
    "print(dir(tuple))"
   ]
  },
  {
   "cell_type": "code",
   "execution_count": null,
   "metadata": {},
   "outputs": [],
   "source": [
    "simple_tuple = (\"Melanie\", \"Althage\", \"Wissenschaftliche Mitarbeiterin\")\n",
    "print(type(simple_tuple))\n",
    "print(simple_tuple)"
   ]
  },
  {
   "cell_type": "code",
   "execution_count": null,
   "metadata": {},
   "outputs": [],
   "source": [
    "# Tupel von Tupeln erzeugen\n",
    "\n",
    "titles = ((\"Franz Kafka\", \"Die Verwandlung\"), (\"Albert Camus\", \"Die Pest\"))\n",
    "more_titles = (\"Jane Austen\", \"Northanger Abbey\", titles)"
   ]
  },
  {
   "cell_type": "code",
   "execution_count": null,
   "metadata": {},
   "outputs": [],
   "source": [
    "# Welchen Output erwarten Sie?\n",
    "\n",
    "print(titles[0])"
   ]
  },
  {
   "cell_type": "code",
   "execution_count": null,
   "metadata": {},
   "outputs": [],
   "source": [
    "# Welchen Output erwarten Sie?\n",
    "\n",
    "print(titles[1][1])"
   ]
  },
  {
   "cell_type": "code",
   "execution_count": null,
   "metadata": {},
   "outputs": [],
   "source": [
    "# Welchen Output erwarten Sie?\n",
    "\n",
    "print(more_titles[2][1][0])"
   ]
  },
  {
   "cell_type": "code",
   "execution_count": null,
   "metadata": {},
   "outputs": [],
   "source": [
    "# Leeres Tupel erzeugen\n",
    "\n",
    "names = ()\n",
    "print(type(names))\n",
    "print(names)"
   ]
  },
  {
   "cell_type": "code",
   "execution_count": null,
   "metadata": {},
   "outputs": [],
   "source": [
    "# Leeres Tupel mit Inhalt füllen\n",
    "\n",
    "names[0] = \"Name\""
   ]
  },
  {
   "cell_type": "markdown",
   "metadata": {},
   "source": [
    "---"
   ]
  },
  {
   "cell_type": "markdown",
   "metadata": {},
   "source": [
    "## Sets\n",
    "\n",
    "Sets sind ungeordnete Sammlungen einzigartiger Elemente. Sie eignen sich gut, um Duplikate zu entfernen und die Zugehörigkeit zu testen. Sets unterstützen mathematische Mengenoperationen wie Vereinigung, Schnittmenge und Differenz."
   ]
  },
  {
   "cell_type": "code",
   "execution_count": null,
   "metadata": {},
   "outputs": [],
   "source": [
    "print(dir(set))"
   ]
  },
  {
   "cell_type": "code",
   "execution_count": null,
   "metadata": {},
   "outputs": [],
   "source": [
    "# Ein Set erzeugen\n",
    "\n",
    "menge = {1, 2, 3, 3, 3, 4, 5}\n",
    "print(type(menge))\n",
    "print(menge)"
   ]
  },
  {
   "cell_type": "code",
   "execution_count": null,
   "metadata": {},
   "outputs": [],
   "source": [
    "# Ein leeres Set erzeugen\n",
    "\n",
    "empty_set = set()\n",
    "print(type(empty_set))\n",
    "print(empty_set)"
   ]
  },
  {
   "cell_type": "code",
   "execution_count": null,
   "metadata": {},
   "outputs": [],
   "source": [
    "# Eine Liste in ein Set umwandeln\n",
    "\n",
    "list_to_convert = [1, 2, 3, 3, 3, 4, 5]\n",
    "converted_list = set(list_to_convert)\n",
    "print(converted_list)"
   ]
  },
  {
   "cell_type": "code",
   "execution_count": null,
   "metadata": {},
   "outputs": [],
   "source": [
    "# Nutzen für Geisteswissenschaftler:innen - auch wenn mit Textdaten gearbeitet wird.\n",
    "\n",
    "text = \"\"\"Als Gregor Samsa eines Morgens aus unruhigen Träumen erwachte, fand er sich in seinem Bett zu einem ungeheueren Ungeziefer verwandelt. Er lag auf seinem panzerartig harten Rücken und sah, wenn er den Kopf ein wenig hob, seinen gewölbten, braunen, von bogenförmigen Versteifungen geteilten Bauch, auf dessen Höhe sich die Bettdecke, zum gänzlichen Niedergleiten bereit, kaum noch erhalten konnte. Seine vielen, im Vergleich zu seinem sonstigen Umfang kläglich dünnen Beine flimmerten ihm hilflos vor den Augen.\n",
    "»Was ist mit mir geschehen?« dachte er. Es war kein Traum, sein Zimmer, ein richtiges, nur etwas zu kleines Menschenzimmer, lag ruhig zwischen den vier wohlbekannten Wänden, über dem Tisch, auf dem eine auseinandergepackte Musterkollektion von Tuchwaren ausgebreitet war - Samsa war Reisender -, hing das Bild, das er vor kurzem aus einer illustrierten Zeitschrift ausgeschnitten und in einem hübschen, vergoldeten Rahmen untergebracht hatte. Es stellte eine Dame dar, die, mit einem Pelzhut und einer Pelzboa versehen, aufrecht dasaß und einen schweren Pelzmuff, in dem ihr ganzer Unterarm verschwunden war, dem Beschauer entgegenhob.\n",
    "Gregors Blick richtete sich dann zum Fenster, und das trübe Wetter - man hörte Regentropfen auf das Fensterblech aufschlagen - machte ihn ganz melancholisch. »Wie wäre es, wenn ich noch ein wenig weiterschliefe und alle Narrheiten vergäße,« dachte er, aber das war gänzlich undurchführbar, denn er war gewöhnt, auf der rechten Seite zu schlafen, konnte sich aber in seinem gegenwärtigen Zustand nicht in diese Lage bringen. Mit welcher Kraft er sich auch auf die rechte Seite warf, immer wieder schaukelte er in die Rückenlage zurück. Er versuchte es wohl hundertmal, schloß die Augen, um die zappelnden Beine nicht sehen zu müssen und ließ erst ab, als er in der Seite einen noch nie gefühlten, leichten, dumpfen Schmerz zu fühlen begann.\n",
    "»Ach Gott,« dachte er, »was für einen anstrengenden Beruf habe ich gewählt! Tag aus, Tag ein auf der Reise. Die geschäftlichen Aufregungen sind viel größer, als im eigentlichen Geschäft zuhause, und außerdem ist mir noch diese Plage des Reisens auferlegt, die Sorgen um die Zuganschlüsse, das unregelmäßige, schlechte Essen, ein immer wechselnder, nie andauernder, nie herzlich werdender menschlicher Verkehr. Der Teufel soll das alles holen!« Er fühlte ein leichtes Jucken oben auf dem Bauch; schob sich auf dem Rücken langsam näher zum Bettpfosten, um den Kopf besser heben zu können; fand die juckende Stelle, die mit lauter kleinen weißen Pünktchen besetzt war, die er nicht zu beurteilen verstand; und wollte mit einem Bein die Stelle betasten, zog es aber gleich zurück, denn bei der Berührung umwehten ihn Kälteschauer.\n",
    "Er glitt wieder in seine frühere Lage zurück. »Dies frühzeitige Aufstehen«, dachte er, »macht einen ganz blödsinnig. Der Mensch muß seinen Schlaf haben. Andere Reisende leben wie Haremsfrauen. Wenn ich zum Beispiel im Laufe des Vormittags ins Gasthaus zurückgehe, um die erlangten Aufträge zu überschreiben, sitzen diese Herren erst beim Frühstück. Das sollte ich bei meinem Chef versuchen; ich würde auf der Stelle hinausfliegen. Wer weiß übrigens, ob das nicht sehr gut für mich wäre. Wenn ich mich nicht wegen meiner Eltern zurückhielte, ich hätte längst gekündigt, ich wäre vor den Chef hin getreten und hätte ihm meine Meinung von Grund des Herzens aus gesagt. Vom Pult hätte er fallen müssen! Es ist auch eine sonderbare Art, sich auf das Pult zu setzen und von der Höhe herab mit dem Angestellten zu reden, der überdies wegen der Schwerhörigkeit des Chefs ganz nahe herantreten muß. Nun, die Hoffnung ist noch nicht gänzlich aufgegeben; habe ich einmal das Geld beisammen, um die Schuld der Eltern an ihn abzuzahlen - es dürfte noch fünf bis sechs Jahre dauern -, mache ich die Sache unbedingt. Dann wird der große Schnitt gemacht. Vorläufig allerdings muß ich aufstehen, denn mein Zug fährt um fünf.«\n",
    "Und er sah zur Weckuhr hinüber, die auf dem Kasten tickte. »Himmlischer Vater,« dachte er. Es war halb sieben Uhr, und die Zeiger gingen ruhig vorwärts, es war sogar halb vorüber, es näherte sich schon dreiviertel. Sollte der Wecker nicht geläutet haben? Man sah vom Bett aus, daß er auf vier Uhr richtig eingestellt war; gewiß hatte er auch geläutet. Ja, aber war es möglich, dieses möbelerschütternde Läuten ruhig zu verschlafen? Nun, ruhig hatte er ja nicht geschlafen, aber wahrscheinlich desto fester. Was aber sollte er jetzt tun? Der nächste Zug ging um sieben Uhr; um den einzuholen, hätte er sich unsinnig beeilen müssen, und die Kollektion war noch nicht eingepackt, und er selbst fühlte sich durchaus nicht besonders frisch und beweglich. Und selbst wenn er den Zug einholte, ein Donnerwetter des Chefs war nicht zu vermeiden, denn der Geschäftsdiener hatte beim Fünfuhrzug gewartet und die Meldung von seiner Versäumnis längst erstattet. Es war eine Kreatur des Chefs, ohne Rückgrat und Verstand. Wie nun, wenn er sich krank meldete? Das war aber äußerst peinlich und verdächtig, denn Gregor war während seines fünfjährigen Dienstes noch nicht einmal krank gewesen. Gewiß würde der Chef mit dem Krankenkassenarzt kommen, würde den Eltern wegen des faulen Sohnes Vorwürfe machen und alle Einwände durch den Hinweis auf den Krankenkassenarzt abschneiden, für den es ja überhaupt nur ganz gesunde, aber arbeitsscheue Menschen gibt. Und hätte er übrigens in diesem Falle so ganz unrecht? Gregor fühlte sich tatsächlich, abgesehen von einer nach dem langen Schlaf wirklich überflüssigen Schläfrigkeit, ganz wohl und hatte sogar einen besonders kräftigen Hunger.\n",
    "Als er dies alles in größter Eile überlegte, ohne sich entschließen zu können, das Bett zu verlassen - gerade schlug der Wecker dreiviertel sieben - klopfte es vorsichtig an die Tür am Kopfende seines Bettes. »Gregor,« rief es - es war die Mutter -, »es ist dreiviertel sieben. Wolltest du nicht wegfahren?« Die sanfte Stimme! Gregor erschrak, als er seine antwortende Stimme hörte, die wohl unverkennbar seine frühere war, in die sich aber, wie von unten her, ein nicht zu unterdrückendes, schmerzliches Piepsen mischte, das die Worte förmlich nur im ersten Augenblick in ihrer Deutlichkeit beließ, um sie im Nachklang derart zu zerstören, daß man nicht wußte, ob man recht gehört hatte. Gregor hatte ausführlich antworten und alles erklären wollen, beschränkte sich aber bei diesen Umständen darauf, zu sagen: »Ja, ja, danke Mutter, ich stehe schon auf.« Infolge der Holztür war die Veränderung in Gregors Stimme draußen wohl nicht zu merken, denn die Mutter beruhigte sich mit dieser Erklärung und schlürfte davon. Aber durch das kleine Gespräch waren die anderen Familienmitglieder darauf aufmerksam geworden, daß Gregor wider Erwarten noch zu Hause war, und schon klopfte an der einen Seitentür der Vater, schwach, aber schon mit der Faust. »Gregor, Gregor,« rief er, »was ist denn?« Und nach einer kleinen Weile mahnte er nochmals mit tieferer Stimme: »Gregor! Gregor!« An der anderen Seitentür aber klagte leise die Schwester: »Gregor? Ist dir nicht wohl? Brauchst du etwas?« Nach beiden Seiten hin antwortete Gregor: »Bin schon fertig,« und bemühte sich, durch die sorgfältigste Aussprache und durch Einschaltung von langen Pausen zwischen den einzelnen Worten seiner Stimme alles Auffallende zu nehmen. Der Vater kehrte auch zu seinem Frühstück zurück, die Schwester aber flüsterte: »Gregor, mach auf, ich beschwöre dich.« Gregor aber dachte gar nicht daran aufzumachen, sondern lobte die vom Reisen her übernommene Vorsicht, auch zu Hause alle Türen während der Nacht zu versperren.\n",
    "Zunächst wollte er ruhig und ungestört aufstehen, sich anziehen und vor allem frühstücken, und dann erst das Weitere überlegen, denn, das merkte er wohl, im Bett würde er mit dem Nachdenken zu keinem vernünftigen Ende kommen. Er erinnerte sich, schon öfters im Bett irgendeinen vielleicht durch ungeschicktes Liegen erzeugten, leichten Schmerz empfunden zu haben, der sich dann beim Aufstehen als reine Einbildung herausstellte, und er war gespannt, wie sich seine heutigen Vorstellungen allmählich auflösen würden. Daß die Veränderung der Stimme nichts anderes war, als der Vorbote einer tüchtigen Verkühlung, einer Berufskrankheit der Reisenden, daran zweifelte er nicht im geringsten.\n",
    "Die Decke abzuwerfen war ganz einfach; er brauchte sich nur ein wenig aufzublasen und sie fiel von selbst. Aber weiterhin wurde es schwierig, besonders weil er so ungemein breit war. Er hätte Arme und Hände gebraucht, um sich aufzurichten; statt dessen aber\n",
    "\"\"\""
   ]
  },
  {
   "cell_type": "code",
   "execution_count": null,
   "metadata": {},
   "outputs": [],
   "source": [
    "word_list = text.lower().split()\n",
    "print(len(word_list))"
   ]
  },
  {
   "cell_type": "code",
   "execution_count": null,
   "metadata": {},
   "outputs": [],
   "source": [
    "unique_words = set(word_list)\n",
    "print(len(unique_words))"
   ]
  },
  {
   "cell_type": "markdown",
   "metadata": {},
   "source": [
    "### **Anwendungsszenario:** Vocabulary Density - Ermittlung der Komplexität eines Textes\n",
    "\n",
    "Die Vocabulary Density beschreibt das Verhältnis der Gesamtzahl der in einem Text enthaltenen Wörter zu den einzigartigen Wörtern. Das Ergebnis zeigt an, wie viele Wörter durchschnittlich gelesen werden müssen, bis ein neues Wort auftritt. Je kleiner der Wert, desto komplexer ist der Text auf sprachlicher Ebene.\n",
    "\n",
    "Genutzt bspw. auch in [Voyant Tools](https://voyant-tools.org/)."
   ]
  },
  {
   "cell_type": "code",
   "execution_count": null,
   "metadata": {},
   "outputs": [],
   "source": [
    "vocabulary_density = len(unique_words) / len(word_list) * 100\n",
    "print(vocabulary_density)"
   ]
  },
  {
   "cell_type": "markdown",
   "metadata": {},
   "source": [
    "### 📝 **Jetzt:** Aufgabe 5 aus dem Notebook `U2_komplexe-datenstrukturen.ipynb`.\n",
    "\n",
    "- Fügen Sie der Liste, die Sie in Aufgabe 2 definiert haben, ein weitere Liste mit vier Integer-Werten hinzu.\n",
    "\n",
    "- Erstellen Sie aus der Liste ein Set und geben dieses aus. Was passiert? (Googlen Sie gerne die Fehlermeldung und machen Sie mit dem nächsten Schritt weiter)\n",
    "\n",
    "- Entfernen Sie die beiden Listen, die in der Liste enthalten sind, und erstellen erneut ein Set.\n",
    "\n",
    "⏳ 10 Minuten"
   ]
  },
  {
   "cell_type": "code",
   "execution_count": null,
   "metadata": {},
   "outputs": [],
   "source": [
    "# gemeinsame Lösung"
   ]
  },
  {
   "cell_type": "code",
   "execution_count": null,
   "metadata": {},
   "outputs": [],
   "source": [
    "list_1.append([5, 6, 7, 8])\n",
    "print(list_1)"
   ]
  },
  {
   "cell_type": "code",
   "execution_count": null,
   "metadata": {},
   "outputs": [],
   "source": [
    "set_1 = set(list_1)\n",
    "print(set_1)"
   ]
  },
  {
   "cell_type": "code",
   "execution_count": null,
   "metadata": {},
   "outputs": [],
   "source": [
    "# z.B. 2x\n",
    "list_1.pop(-1)"
   ]
  },
  {
   "cell_type": "code",
   "execution_count": null,
   "metadata": {},
   "outputs": [],
   "source": [
    "set_1 = set(list_1)\n",
    "print(set_1)"
   ]
  },
  {
   "cell_type": "markdown",
   "metadata": {},
   "source": [
    "---\n",
    "\n"
   ]
  },
  {
   "cell_type": "markdown",
   "metadata": {},
   "source": [
    "## Dictionaries\n",
    "\n",
    "Dictionaries (Wörterbücher) sind ungeordnete Sammlungen von Schlüssel-Wert-Paaren. Sie ermöglichen schnellen Zugriff auf Werte basierend auf einem einzigartigen Schlüssel. Dictionaries sind veränderlich und eignen sich gut, um dynamische und datenreiche Informationen zu speichern."
   ]
  },
  {
   "cell_type": "code",
   "execution_count": null,
   "metadata": {},
   "outputs": [],
   "source": [
    "print(dir(dict))"
   ]
  },
  {
   "cell_type": "code",
   "execution_count": null,
   "metadata": {},
   "outputs": [],
   "source": [
    "# Dictionary mit Gründungsdaten von Abteien bzw. Klöstern\n",
    "\n",
    "founding_date = {\"Cluny\": 910,\n",
    "                 \"Maria Laach\": 1093,\n",
    "                 \"Plankstetten\": 1129,\n",
    "                 \"St. Hildegard\": 1904,\n",
    "                 \"Ottobeuren\": 764}\n",
    "\n",
    "print(founding_date)"
   ]
  },
  {
   "cell_type": "code",
   "execution_count": null,
   "metadata": {},
   "outputs": [],
   "source": [
    "# Hinzufügen von weiteren Einträgen\n",
    "\n",
    "founding_date[\"Oelinghausen\"] = 1174\n",
    "print(founding_date)"
   ]
  },
  {
   "cell_type": "code",
   "execution_count": null,
   "metadata": {},
   "outputs": [],
   "source": [
    "# Auf Schlüssel zugreifen\n",
    "\n",
    "for key in founding_date.keys():\n",
    "    print(key)"
   ]
  },
  {
   "cell_type": "code",
   "execution_count": null,
   "metadata": {},
   "outputs": [],
   "source": [
    "# Auf Werte zugreifen\n",
    "\n",
    "for value in founding_date.values():\n",
    "    print(value)"
   ]
  },
  {
   "cell_type": "code",
   "execution_count": null,
   "metadata": {},
   "outputs": [],
   "source": [
    "# Auf Schlüssel-Wert-Paare zugreifen\n",
    "\n",
    "for item in founding_date.items():\n",
    "    print(item)\n",
    "\n",
    "print(type(item))  # tuple, zugreifen auf Elemente dann wie bei Tuplen mit Indexpositionen"
   ]
  },
  {
   "cell_type": "code",
   "execution_count": null,
   "metadata": {},
   "outputs": [],
   "source": [
    "# nützliche Zusatzfunktion: sorted() zur aufsteigenden Sortierung sequenzieller Datenobjekte\n",
    "\n",
    "sorted_founding_dates = sorted(founding_date.values())\n",
    "print(sorted_founding_dates)"
   ]
  },
  {
   "cell_type": "code",
   "execution_count": null,
   "metadata": {},
   "outputs": [],
   "source": [
    "# Auf spezifische Informationen zugreifen\n",
    "\n",
    "founding_date.get(\"Cluny\")"
   ]
  },
  {
   "cell_type": "code",
   "execution_count": null,
   "metadata": {},
   "outputs": [],
   "source": [
    "# Verschachteltes Dictionary\n",
    "abtei_cluny = {\"Cluny\": {\"Land\": \"Frankreich\", \n",
    "                        \"Bauphasen_Beginn\": \n",
    "                                {\"Cluny A\": 910, \n",
    "                                \"Cluny I\": 926, \n",
    "                                \"Cluny II\": 955, \n",
    "                                \"Cluny III\": 1088}\n",
    "                        }           \n",
    "                }\n"
   ]
  },
  {
   "cell_type": "code",
   "execution_count": null,
   "metadata": {},
   "outputs": [],
   "source": [
    "abtei_cluny[\"Cluny\"]"
   ]
  },
  {
   "cell_type": "code",
   "execution_count": null,
   "metadata": {},
   "outputs": [],
   "source": [
    "abtei_cluny[\"Cluny\"][\"Bauphasen_Beginn\"]"
   ]
  },
  {
   "cell_type": "code",
   "execution_count": null,
   "metadata": {},
   "outputs": [],
   "source": [
    "abtei_cluny[\"Cluny\"][\"Bauphasen_Beginn\"][\"Cluny II\"]"
   ]
  },
  {
   "cell_type": "markdown",
   "metadata": {},
   "source": [
    "### 📝 **Jetzt:** Aufgabe 6 aus dem Notebook `U2_komplexe-datenstrukturen.ipynb`.\n",
    "\n",
    "Erstellen Sie mit Hilfe eines Dictionaries einen Obstkorb; das Dictionary soll über die Schlüssel-Wert-Paare Auskunft darüber geben, dass in dem Obstkorb fünf Äpfel, drei Kiwis und sieben Bananen enthalten sind.\n",
    "\n",
    "Geben Sie die Anzahl der Bananen aus.\n",
    "\n",
    "Fügen Sie noch eine Frucht Ihrer Wahl zum Obstkorb hinzu.\n",
    "\n",
    "\n",
    "⏳ 10 Minuten"
   ]
  },
  {
   "cell_type": "code",
   "execution_count": null,
   "metadata": {},
   "outputs": [],
   "source": [
    "# gemeinsame Lösung"
   ]
  },
  {
   "cell_type": "code",
   "execution_count": null,
   "metadata": {},
   "outputs": [],
   "source": [
    "obstkorb = {\"Apfel\": 5,\n",
    "            \"Kiwi\": 3,\n",
    "            \"Banane\": 7\n",
    "            }"
   ]
  },
  {
   "cell_type": "code",
   "execution_count": null,
   "metadata": {},
   "outputs": [],
   "source": [
    "print(obstkorb[\"Banane\"])"
   ]
  },
  {
   "cell_type": "code",
   "execution_count": null,
   "metadata": {},
   "outputs": [],
   "source": [
    "obstkorb[\"Mango\"] = 2"
   ]
  },
  {
   "cell_type": "code",
   "execution_count": null,
   "metadata": {},
   "outputs": [],
   "source": [
    "obstkorb"
   ]
  },
  {
   "cell_type": "markdown",
   "metadata": {},
   "source": [
    "### 📝 **Jetzt:** Aufgabe 7 aus dem Notebook `U2_komplexe-datenstrukturen.ipynb`.\n",
    "\n",
    "- Erstellen Sie ein Dictionary mit mindestens fünf Einträgen, wobei jeder Eintrag aus einem Autor:innennamen (Schlüssel) und dem Buchtitel (Wert) bestehen soll.\n",
    "- Fordern Sie die Nutzer:innen auf, einen Autor:innennamen einzugeben.\n",
    "- Überprüfen Sie, ob der eingegebene Name im Dictionary vorhanden ist, wenn ja, ist der Titel des Buches auszugeben.\n",
    "- Wenn der Name nicht vorhanden ist, geben Sie eine Nachricht aus, die die Nutzer:innen darüber informiert.\n",
    "\n",
    "⏳ 10 Minuten\n"
   ]
  },
  {
   "cell_type": "code",
   "execution_count": null,
   "metadata": {},
   "outputs": [],
   "source": [
    "# gemeinsame Lösung"
   ]
  },
  {
   "cell_type": "code",
   "execution_count": null,
   "metadata": {},
   "outputs": [],
   "source": [
    "buch_index = {\n",
    "    \"Franz Kafka\": \"Die Verwandlung\",\n",
    "    \"George Orwell\": \"1984\",\n",
    "    \"F. Scott Fitzgerald\": \"Der große Gatsby\",\n",
    "    \"Leo Tolstoi\": \"Krieg und Frieden\",\n",
    "    \"Virginia Woolf\": \"Zum Leuchtturm\",\n",
    "    \"Jane Austen\": \"Stolz und Vorurteil\",\n",
    "    \"Mary Shelley\": \"Frankenstein\",\n",
    "    \"Margaret Atwood\": \"Der Report der Magd\"\n",
    "}\n",
    "\n",
    "name = input(\"Bitte geben Sie den Namen einer Autor:in ein.\")\n",
    "\n",
    "if name in buch_index:\n",
    "    print(f\"Für {name} ist der folgende Titel vermerkt: {buch_index[name]}.\")\n",
    "else:\n",
    "    print(f\"Leider ist für {name} kein Buchtitel vermerkt.\")"
   ]
  },
  {
   "cell_type": "markdown",
   "metadata": {},
   "source": [
    "**Optionale Zusatzaufgabe:** \n",
    "\n",
    "Für Programme, die mit User-Inputs arbeiten, kann es manchmal nützlich sein, das Programm so lange auszuführen, wie die User noch Eingaben tätigen möchten. So könnten bspw. auch neue Einträge zu dem Dictionary hinzugefügt werden, wenn die Daten noch nicht vorhanden sind. Hier kann die `while`-Schleife ins Spiel kommen. Wichtig ist dabei, dass Sie auch die While-Schleife so definieren sollten, dass sie irgendwann, wenn eine bestimmte Bedingung nicht mehr erfüllt wird, beendet wird, um die Gefahr einer Endlosschleife auszuschließen.\n",
    "\n",
    "Versuchen Sie, das Skript so anzupassen, dass die Nutzer:innen bestimmen, wann die Dictionary-Abfrage endet. Gerne können Sie auch die Funktionalität hinzufügen, dass das Skript bei einem fehlenden Namen nicht nur Auskunft darüber gibt, dass kein Eintrag vorhanden ist, sondern auch die Möglichkeit bietet, einen neuen Eintrag anzulegen."
   ]
  }
 ],
 "metadata": {
  "kernelspec": {
   "display_name": "python-workshop",
   "language": "python",
   "name": "python3"
  },
  "language_info": {
   "codemirror_mode": {
    "name": "ipython",
    "version": 3
   },
   "file_extension": ".py",
   "mimetype": "text/x-python",
   "name": "python",
   "nbconvert_exporter": "python",
   "pygments_lexer": "ipython3",
   "version": "3.11.7"
  }
 },
 "nbformat": 4,
 "nbformat_minor": 2
}
