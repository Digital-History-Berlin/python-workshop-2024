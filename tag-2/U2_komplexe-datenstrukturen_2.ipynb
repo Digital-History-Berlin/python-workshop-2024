{
 "cells": [
  {
   "cell_type": "markdown",
   "metadata": {},
   "source": [
    "# 📝 Übungen Komplexe Datenstrukturen (2)"
   ]
  },
  {
   "cell_type": "markdown",
   "metadata": {},
   "source": [
    "## Aufgabe 1:\n",
    "\n",
    "Erstellen Sie mit Hilfe eines Dictionaries einen Obstkorb; das Dictionary soll über die Schlüssel-Wert-Paare Auskunft darüber geben, dass in dem Obstkorb fünf Äpfel, drei Kiwis und sieben Bananen enthalten sind.\n",
    "\n",
    "Geben Sie die Anzahl der Bananen aus.\n",
    "\n",
    "Fügen Sie noch eine Frucht Ihrer Wahl zum Obstkorb hinzu.\n",
    "\n",
    "⏳ 10 Minuten"
   ]
  },
  {
   "cell_type": "code",
   "execution_count": null,
   "metadata": {},
   "outputs": [],
   "source": [
    "# Ihre Lösung"
   ]
  },
  {
   "cell_type": "markdown",
   "metadata": {},
   "source": [
    "## Aufgabe 2: Buch-Index\n",
    "\n",
    "- Erstellen Sie ein Dictionary mit mindestens fünf Einträgen, wobei jeder Eintrag aus einem Autor:innennamen (Schlüssel) und dem Buchtitel (Wert) bestehen soll.\n",
    "- Fordern Sie die Nutzer:innen auf, einen Autor:innennamen einzugeben.\n",
    "- Überprüfen Sie, ob der eingegebene Name im Dictionary vorhanden ist, wenn ja, ist der Titel des Buches auszugeben.\n",
    "- Wenn der Name nicht vorhanden ist, geben Sie eine Nachricht aus, die die Nutzer:innen darüber informiert.\n",
    "\n",
    "⏳ 10 Minuten\n"
   ]
  },
  {
   "cell_type": "code",
   "execution_count": null,
   "metadata": {},
   "outputs": [],
   "source": [
    "# Ihre Lösung"
   ]
  },
  {
   "cell_type": "markdown",
   "metadata": {},
   "source": [
    "**Optionale Zusatzaufgabe:** \n",
    "\n",
    "Für Programme, die mit User-Inputs arbeiten, kann es manchmal nützlich sein, das Programm so lange auszuführen, wie die User noch Eingaben tätigen möchten. So könnten bspw. auch neue Einträge zu dem Dictionary hinzugefügt werden, wenn die Daten noch nicht vorhanden sind. Hier kann die `while`-Schleife ins Spiel kommen. Wichtig ist dabei, dass Sie auch die While-Schleife so definieren sollten, dass sie irgendwann, wenn eine bestimmte Bedingung nicht mehr erfüllt wird, beendet wird, um die Gefahr einer Endlosschleife auszuschließen.\n",
    "\n",
    "Versuchen Sie, das Skript so anzupassen, dass die Nutzer:innen bestimmen, wann die Dictionary-Abfrage endet. Gerne können Sie auch die Funktionalität hinzufügen, dass das Skript bei einem fehlenden Namen nicht nur Auskunft darüber gibt, dass kein Eintrag vorhanden ist, sondern auch die Möglichkeit bietet, einen neuen Eintrag anzulegen."
   ]
  },
  {
   "cell_type": "code",
   "execution_count": null,
   "metadata": {},
   "outputs": [],
   "source": [
    "# Ihre Lösung"
   ]
  }
 ],
 "metadata": {
  "kernelspec": {
   "display_name": "Python 3.9.7",
   "language": "python",
   "name": "python3"
  },
  "language_info": {
   "codemirror_mode": {
    "name": "ipython",
    "version": 3
   },
   "file_extension": ".py",
   "mimetype": "text/x-python",
   "name": "python",
   "nbconvert_exporter": "python",
   "pygments_lexer": "ipython3",
   "version": "3.9.7"
  },
  "orig_nbformat": 4,
  "vscode": {
   "interpreter": {
    "hash": "4cab2e3c59f82d31ef33573b56569893ba7388f3e17b6676d60d91498ea89ea5"
   }
  }
 },
 "nbformat": 4,
 "nbformat_minor": 2
}
