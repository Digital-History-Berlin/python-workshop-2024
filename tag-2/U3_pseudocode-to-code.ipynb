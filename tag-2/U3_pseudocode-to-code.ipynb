{
 "cells": [
  {
   "cell_type": "markdown",
   "metadata": {},
   "source": [
    "# 📝 Übung: Algorithmisches Denken - von Pseudocode zu Programmcode\n",
    "\n",
    "## Aufgabe 1: Pseudocode - Worthäufigkeiten zählen\n",
    "\n",
    "Entwerfen Sie idealerweise zusammen in Zweierteams einen Pseudocode, der die folgende Aufgabe löst:\n",
    "\n",
    "- Gegeben ist ein Text. \n",
    "- Entwickeln Sie einen Algorithmus, der jedes Wort im Text identifiziert und die Anzahl seiner Vorkommen zählt. \n",
    "- Das Ziel ist es, ein Dictionary zu erstellen, in dem jedes Wort zusammen mit seiner absoluten Häufigkeit aufgeführt ist.\n",
    "\n",
    "\n",
    "⏳ 15 Minuten"
   ]
  },
  {
   "cell_type": "markdown",
   "metadata": {},
   "source": [
    "*klicken Sie in dieses Markdown-Feld rein und schreiben Sie Pseudocode*"
   ]
  },
  {
   "cell_type": "code",
   "execution_count": null,
   "metadata": {},
   "outputs": [],
   "source": [
    "\"\"\"\n",
    "oder schreiben Sie Ihren Pseudocode in diese Code-Zelle \n",
    "> diese Zelle lässt sich dann natürlich nicht ordnungsgemäß ausführen,\n",
    "aber gut strukturieren\n",
    "\"\"\" "
   ]
  },
  {
   "cell_type": "markdown",
   "metadata": {},
   "source": [
    "## Aufgabe 2: Implementierung des Pseudocodes\n",
    "Setzen Sie den zuvor entworfenen Pseudocode nun in ein funktionierendes Python-Skript um, das die absolute Häufigkeit von Wörtern in einem gegebenen Text zählt. Wenden Sie dabei die grundlegenden Programmierkonzepte an, die Sie bisher gelernt haben.\n",
    "\n",
    "⏳ 10 Minuten"
   ]
  },
  {
   "cell_type": "code",
   "execution_count": null,
   "metadata": {},
   "outputs": [],
   "source": [
    "# führen Sie diese Code-Zelle aus\n",
    "\n",
    "text = \"\"\"Als Gregor Samsa eines Morgens aus unruhigen Träumen erwachte, fand er sich in seinem Bett zu einem ungeheueren Ungeziefer verwandelt. Er lag auf seinem panzerartig harten Rücken und sah, wenn er den Kopf ein wenig hob, seinen gewölbten, braunen, von bogenförmigen Versteifungen geteilten Bauch, auf dessen Höhe sich die Bettdecke, zum gänzlichen Niedergleiten bereit, kaum noch erhalten konnte. Seine vielen, im Vergleich zu seinem sonstigen Umfang kläglich dünnen Beine flimmerten ihm hilflos vor den Augen.\n",
    "»Was ist mit mir geschehen?« dachte er. Es war kein Traum, sein Zimmer, ein richtiges, nur etwas zu kleines Menschenzimmer, lag ruhig zwischen den vier wohlbekannten Wänden, über dem Tisch, auf dem eine auseinandergepackte Musterkollektion von Tuchwaren ausgebreitet war - Samsa war Reisender -, hing das Bild, das er vor kurzem aus einer illustrierten Zeitschrift ausgeschnitten und in einem hübschen, vergoldeten Rahmen untergebracht hatte. Es stellte eine Dame dar, die, mit einem Pelzhut und einer Pelzboa versehen, aufrecht dasaß und einen schweren Pelzmuff, in dem ihr ganzer Unterarm verschwunden war, dem Beschauer entgegenhob.\n",
    "Gregors Blick richtete sich dann zum Fenster, und das trübe Wetter - man hörte Regentropfen auf das Fensterblech aufschlagen - machte ihn ganz melancholisch. »Wie wäre es, wenn ich noch ein wenig weiterschliefe und alle Narrheiten vergäße,« dachte er, aber das war gänzlich undurchführbar, denn er war gewöhnt, auf der rechten Seite zu schlafen, konnte sich aber in seinem gegenwärtigen Zustand nicht in diese Lage bringen. Mit welcher Kraft er sich auch auf die rechte Seite warf, immer wieder schaukelte er in die Rückenlage zurück. Er versuchte es wohl hundertmal, schloß die Augen, um die zappelnden Beine nicht sehen zu müssen und ließ erst ab, als er in der Seite einen noch nie gefühlten, leichten, dumpfen Schmerz zu fühlen begann.\n",
    "»Ach Gott,« dachte er, »was für einen anstrengenden Beruf habe ich gewählt! Tag aus, Tag ein auf der Reise. Die geschäftlichen Aufregungen sind viel größer, als im eigentlichen Geschäft zuhause, und außerdem ist mir noch diese Plage des Reisens auferlegt, die Sorgen um die Zuganschlüsse, das unregelmäßige, schlechte Essen, ein immer wechselnder, nie andauernder, nie herzlich werdender menschlicher Verkehr. Der Teufel soll das alles holen!« Er fühlte ein leichtes Jucken oben auf dem Bauch; schob sich auf dem Rücken langsam näher zum Bettpfosten, um den Kopf besser heben zu können; fand die juckende Stelle, die mit lauter kleinen weißen Pünktchen besetzt war, die er nicht zu beurteilen verstand; und wollte mit einem Bein die Stelle betasten, zog es aber gleich zurück, denn bei der Berührung umwehten ihn Kälteschauer.\n",
    "Er glitt wieder in seine frühere Lage zurück. »Dies frühzeitige Aufstehen«, dachte er, »macht einen ganz blödsinnig. Der Mensch muß seinen Schlaf haben. Andere Reisende leben wie Haremsfrauen. Wenn ich zum Beispiel im Laufe des Vormittags ins Gasthaus zurückgehe, um die erlangten Aufträge zu überschreiben, sitzen diese Herren erst beim Frühstück. Das sollte ich bei meinem Chef versuchen; ich würde auf der Stelle hinausfliegen. Wer weiß übrigens, ob das nicht sehr gut für mich wäre. Wenn ich mich nicht wegen meiner Eltern zurückhielte, ich hätte längst gekündigt, ich wäre vor den Chef hin getreten und hätte ihm meine Meinung von Grund des Herzens aus gesagt. Vom Pult hätte er fallen müssen! Es ist auch eine sonderbare Art, sich auf das Pult zu setzen und von der Höhe herab mit dem Angestellten zu reden, der überdies wegen der Schwerhörigkeit des Chefs ganz nahe herantreten muß. Nun, die Hoffnung ist noch nicht gänzlich aufgegeben; habe ich einmal das Geld beisammen, um die Schuld der Eltern an ihn abzuzahlen - es dürfte noch fünf bis sechs Jahre dauern -, mache ich die Sache unbedingt. Dann wird der große Schnitt gemacht. Vorläufig allerdings muß ich aufstehen, denn mein Zug fährt um fünf.«\n",
    "Und er sah zur Weckuhr hinüber, die auf dem Kasten tickte. »Himmlischer Vater,« dachte er. Es war halb sieben Uhr, und die Zeiger gingen ruhig vorwärts, es war sogar halb vorüber, es näherte sich schon dreiviertel. Sollte der Wecker nicht geläutet haben? Man sah vom Bett aus, daß er auf vier Uhr richtig eingestellt war; gewiß hatte er auch geläutet. Ja, aber war es möglich, dieses möbelerschütternde Läuten ruhig zu verschlafen? Nun, ruhig hatte er ja nicht geschlafen, aber wahrscheinlich desto fester. Was aber sollte er jetzt tun? Der nächste Zug ging um sieben Uhr; um den einzuholen, hätte er sich unsinnig beeilen müssen, und die Kollektion war noch nicht eingepackt, und er selbst fühlte sich durchaus nicht besonders frisch und beweglich. Und selbst wenn er den Zug einholte, ein Donnerwetter des Chefs war nicht zu vermeiden, denn der Geschäftsdiener hatte beim Fünfuhrzug gewartet und die Meldung von seiner Versäumnis längst erstattet. Es war eine Kreatur des Chefs, ohne Rückgrat und Verstand. Wie nun, wenn er sich krank meldete? Das war aber äußerst peinlich und verdächtig, denn Gregor war während seines fünfjährigen Dienstes noch nicht einmal krank gewesen. Gewiß würde der Chef mit dem Krankenkassenarzt kommen, würde den Eltern wegen des faulen Sohnes Vorwürfe machen und alle Einwände durch den Hinweis auf den Krankenkassenarzt abschneiden, für den es ja überhaupt nur ganz gesunde, aber arbeitsscheue Menschen gibt. Und hätte er übrigens in diesem Falle so ganz unrecht? Gregor fühlte sich tatsächlich, abgesehen von einer nach dem langen Schlaf wirklich überflüssigen Schläfrigkeit, ganz wohl und hatte sogar einen besonders kräftigen Hunger.\n",
    "Als er dies alles in größter Eile überlegte, ohne sich entschließen zu können, das Bett zu verlassen - gerade schlug der Wecker dreiviertel sieben - klopfte es vorsichtig an die Tür am Kopfende seines Bettes. »Gregor,« rief es - es war die Mutter -, »es ist dreiviertel sieben. Wolltest du nicht wegfahren?« Die sanfte Stimme! Gregor erschrak, als er seine antwortende Stimme hörte, die wohl unverkennbar seine frühere war, in die sich aber, wie von unten her, ein nicht zu unterdrückendes, schmerzliches Piepsen mischte, das die Worte förmlich nur im ersten Augenblick in ihrer Deutlichkeit beließ, um sie im Nachklang derart zu zerstören, daß man nicht wußte, ob man recht gehört hatte. Gregor hatte ausführlich antworten und alles erklären wollen, beschränkte sich aber bei diesen Umständen darauf, zu sagen: »Ja, ja, danke Mutter, ich stehe schon auf.« Infolge der Holztür war die Veränderung in Gregors Stimme draußen wohl nicht zu merken, denn die Mutter beruhigte sich mit dieser Erklärung und schlürfte davon. Aber durch das kleine Gespräch waren die anderen Familienmitglieder darauf aufmerksam geworden, daß Gregor wider Erwarten noch zu Hause war, und schon klopfte an der einen Seitentür der Vater, schwach, aber schon mit der Faust. »Gregor, Gregor,« rief er, »was ist denn?« Und nach einer kleinen Weile mahnte er nochmals mit tieferer Stimme: »Gregor! Gregor!« An der anderen Seitentür aber klagte leise die Schwester: »Gregor? Ist dir nicht wohl? Brauchst du etwas?« Nach beiden Seiten hin antwortete Gregor: »Bin schon fertig,« und bemühte sich, durch die sorgfältigste Aussprache und durch Einschaltung von langen Pausen zwischen den einzelnen Worten seiner Stimme alles Auffallende zu nehmen. Der Vater kehrte auch zu seinem Frühstück zurück, die Schwester aber flüsterte: »Gregor, mach auf, ich beschwöre dich.« Gregor aber dachte gar nicht daran aufzumachen, sondern lobte die vom Reisen her übernommene Vorsicht, auch zu Hause alle Türen während der Nacht zu versperren.\n",
    "Zunächst wollte er ruhig und ungestört aufstehen, sich anziehen und vor allem frühstücken, und dann erst das Weitere überlegen, denn, das merkte er wohl, im Bett würde er mit dem Nachdenken zu keinem vernünftigen Ende kommen. Er erinnerte sich, schon öfters im Bett irgendeinen vielleicht durch ungeschicktes Liegen erzeugten, leichten Schmerz empfunden zu haben, der sich dann beim Aufstehen als reine Einbildung herausstellte, und er war gespannt, wie sich seine heutigen Vorstellungen allmählich auflösen würden. Daß die Veränderung der Stimme nichts anderes war, als der Vorbote einer tüchtigen Verkühlung, einer Berufskrankheit der Reisenden, daran zweifelte er nicht im geringsten.\n",
    "\"\"\""
   ]
  },
  {
   "cell_type": "code",
   "execution_count": null,
   "metadata": {},
   "outputs": [],
   "source": [
    "# Ihre Lösung"
   ]
  },
  {
   "cell_type": "markdown",
   "metadata": {},
   "source": [
    "## Aufgabe 3: Funktion für Frequenzanalyse erstellen\n",
    "\n",
    "Der implementierte Code zur Zählung von Worthäufigkeiten lässt sich bislang nur auf einen Text anwenden. Für andere Texte müsste die Variable `text` überschrieben werden oder der Code jedesmal kopiert werden. Da es denkbar ist, die Worthäufigkeiten für sehr viele Texte zählen zu wollen, bietet es sich an, eine nachnutzbare Funktion `count_absolute_frequencies` zu schreiben.\n",
    "\n",
    "Ihre Aufgabe ist es nun also, Ihren Code aus Aufgabe 2 als Funktion aufzubereiten, die dann anschließend auf `text` und `new_text` angewendet werden soll.\n",
    "\n",
    "Denken Sie daran, auch eine kurze Erklärung zu Ihrer Funktion mittels Docstring zu formulieren.\n",
    "\n",
    "⏳ 10 Minuten"
   ]
  },
  {
   "cell_type": "code",
   "execution_count": null,
   "metadata": {},
   "outputs": [],
   "source": [
    "# führen Sie diese Code-Zelle aus\n",
    "\n",
    "new_text = \"\"\"Die Decke abzuwerfen war ganz einfach; er brauchte sich nur ein wenig aufzublasen und sie fiel von selbst. Aber weiterhin wurde es schwierig, besonders weil er so ungemein breit war. Er hätte Arme und Hände gebraucht, um sich aufzurichten; statt dessen aber hatte er nur die vielen Beinchen, die ununterbrochen in der verschiedensten Bewegung waren und die er überdies nicht beherrschen konnte. Wollte er eines einmal einknicken, so war es das erste, daß es sich streckte; und gelang es ihm endlich, mit diesem Bein das auszuführen, was er wollte, so arbeiteten inzwischen alle anderen, wie freigelassen, in höchster, schmerzlicher Aufregung. »Nur sich nicht im Bett unnütz aufhalten,« sagte sich Gregor.\n",
    "Zuerst wollte er mit dem unteren Teil seines Körpers aus dem Bett hinauskommen, aber dieser untere Teil, den er übrigens noch nicht gesehen und von dem er sich auch keine rechte Vorstellung machen konnte, erwies sich als zu schwer beweglich; es ging so langsam; und als er schließlich, fast wild geworden, mit gesammelter Kraft, ohne Rücksicht sich vorwärtsstieß, hatte er die Richtung falsch gewählt, schlug an den unteren Bettpfosten heftig an, und der brennende Schmerz, den er empfand, belehrte ihn, daß gerade der untere Teil seines Körpers augenblicklich vielleicht der empfindlichste war.\n",
    "Er versuchte es daher, zuerst den Oberkörper aus dem Bett zu bekommen, und drehte vorsichtig den Kopf dem Bettrand zu. Dies gelang auch leicht, und trotz ihrer Breite und Schwere folgte schließlich die Körpermasse langsam der Wendung des Kopfes. Aber als er den Kopf endlich außerhalb des Bettes in der freien Luft hielt, bekam er Angst, weiter auf diese Weise vorzurücken, denn wenn er sich schließlich so fallen ließ, mußte geradezu ein Wunder geschehen, wenn der Kopf nicht verletzt werden sollte. Und die Besinnung durfte er gerade jetzt um keinen Preis verlieren; da wollte er lieber im Bett bleiben.\n",
    "Aber als er wieder nach gleicher Mühe aufseufzend so dalag wie früher, und wieder seine Beinchen womöglich noch ärger gegeneinander kämpfen sah und keine Möglichkeit fand, in diese Willkür Ruhe und Ordnung zu bringen, sagte er sich wieder, daß er unmöglich im Bett bleiben könne und daß es das Vernünftigste sei, alles zu opfern, wenn auch nur die kleinste Hoffnung bestünde, sich dadurch vom Bett zu befreien. Gleichzeitig aber vergaß er nicht, sich zwischendurch daran zu erinnern, daß viel besser als verzweifelte Entschlüsse ruhige und ruhigste Überlegung sei. In solchen Augenblicken richtete er die Augen möglichst scharf auf das Fenster, aber leider war aus dem Anblick des Morgennebels, der sogar die andere Seite der engen Straße verhüllte, wenig Zuversicht und Munterkeit zu holen. »Schon sieben Uhr«, sagte er sich beim neuerlichen Schlagen des Weckers, »schon sieben Uhr und noch immer ein solcher Nebel.« Und ein Weilchen lang lag er ruhig mit schwachem Atem, als erwarte er vielleicht von der völligen Stille die Wiederkehr der wirklichen und selbstverständlichen Verhältnisse.\n",
    "Dann aber sagte er sich: »Ehe es einviertel acht schlägt, muß ich unbedingt das Bett vollständig verlassen haben. Im übrigen wird auch bis dahin jemand aus dem Geschäft kommen, um nach mir zu fragen, denn das Geschäft wird vor sieben Uhr geöffnet.« Und er machte sich nun daran, den Körper in seiner ganzen Länge vollständig gleichmäßig aus dem Bett hinauszuschaukeln. Wenn er sich auf diese Weise aus dem Bett fallen ließ, blieb der Kopf, den er beim Fall scharf heben wollte, voraussichtlich unverletzt. Der Rücken schien hart zu sein; dem würde wohl bei dem Fall auf den Teppich nichts geschehen. Das größte Bedenken machte ihm die Rücksicht auf den lauten Krach, den es geben müßte und der wahrscheinlich hinter allen Türen wenn nicht Schrecken, so doch Besorgnisse erregen würde. Das mußte aber gewagt werden.\n",
    "Als Gregor schon zur Hälfte aus dem Bette ragte - die neue Methode war mehr ein Spiel als eine Anstrengung, er brauchte immer nur ruckweise zu schaukeln - , fiel ihm ein, wie einfach alles wäre, wenn man ihm zu Hilfe käme. Zwei starke Leute - er dachte an seinen Vater und das Dienstmädchen - hätten vollständig genügt; sie hätten ihre Arme nur unter seinen gewölbten Rücken schieben, ihn so aus dem Bett schälen, sich mit der Last niederbeugen und dann bloß vorsichtig dulden müssen, daß er den Überschwung auf dem Fußboden vollzog, wo dann die Beinchen hoffentlich einen Sinn bekommen würden. Nun, ganz abgesehen davon, daß die Türen versperrt waren, hätte er wirklich um Hilfe rufen sollen? Trotz aller Not konnte er bei diesem Gedanken ein Lächeln nicht unterdrücken.\n",
    "Schon war er so weit, daß er bei stärkerem Schaukeln kaum das Gleichgewicht noch erhielt, und sehr bald mußte er sich nun endgültig entscheiden, denn es war in fünf Minuten einviertel acht, - als es an der Wohnungstür läutete.\n",
    "\"\"\""
   ]
  },
  {
   "cell_type": "code",
   "execution_count": null,
   "metadata": {},
   "outputs": [],
   "source": [
    "# Ihre Lösung"
   ]
  },
  {
   "cell_type": "markdown",
   "metadata": {},
   "source": [
    "## Optional - Aufgabe 4: Funktion für einfache Textvorverarbeitung erstellen\n",
    "\n",
    "In Aufgabe 3 des Notebooks U2 zu komplexen Datenstrukturen hatten Sie die Aufgabe, ein kleines Skript zur Bereinigung eines Textes zu schreiben. Wie schon bei Aufgabe 3 in diesem Notebook ist es nun Ihre Aufgabe, eine Funktion `preprocess_text` zu erstellen, welche die von Ihnen implementierten Verarbeitungsschritte auch für andere Texte nachnutzbar macht. Wenden Sie die Funktion dann auf die Variablen `text` und `new_text` aus den Aufgaben 2 und 3 dieses Notebooks an. \n",
    "\n",
    "**Zusatz:** Wenden Sie gerne noch einmal die Funktion zur Ermittlung der Worthäufigkeiten auf die bereinigten Texte an. Dazu müssen Sie allerdings aus der Wortliste wieder einen String machen und ihn der Funktion `count_absolute_frequency` übergeben (*Hint:* Erinnern Sie sich an die Funktion `join()`?). Ergeben sich Unterschiede?\n",
    "\n",
    "\n",
    "⏳ 15 Minuten"
   ]
  },
  {
   "cell_type": "code",
   "execution_count": null,
   "metadata": {},
   "outputs": [],
   "source": [
    "# Ihre Lösung"
   ]
  }
 ],
 "metadata": {
  "kernelspec": {
   "display_name": "mininghistoriansweb",
   "language": "python",
   "name": "python3"
  },
  "language_info": {
   "name": "python",
   "version": "3.8.13"
  }
 },
 "nbformat": 4,
 "nbformat_minor": 2
}
