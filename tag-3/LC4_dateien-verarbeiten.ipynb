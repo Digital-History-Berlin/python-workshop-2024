{
 "cells": [
  {
   "cell_type": "markdown",
   "metadata": {},
   "source": [
    "# 💻 Dateien öffnen, lesen und schreiben\n",
    "\n",
    "## 1. Textdateien > Unstrukturierte Daten\n",
    "\n",
    "### A: Schreiben "
   ]
  },
  {
   "cell_type": "code",
   "execution_count": null,
   "metadata": {},
   "outputs": [],
   "source": [
    "# Beispieldaten\n",
    "\n",
    "first_sentence_prozess = \"\"\"Jemand musste Josef K. verleumdet haben, \n",
    "denn ohne dass er etwas Böses getan hätte, \n",
    "wurde er eines Morgens verhaftet. \"\"\"\n",
    "\n",
    "second_sentence_prozess = \"\"\"\n",
    "Die Köchin der Frau Grubach, \n",
    "seiner Zimmervermieterin, \n",
    "die ihm jeden Tag gegen acht Uhr früh das Frühstück brachte, \n",
    "kam diesmal nicht.\"\"\""
   ]
  },
  {
   "cell_type": "code",
   "execution_count": null,
   "metadata": {},
   "outputs": [],
   "source": [
    "prozess_file = open(\"../daten/output/der_prozess.txt\", \"w\")         # Erzeugung eines File-Objekts mit der Funktion open() im Modus w=write"
   ]
  },
  {
   "cell_type": "code",
   "execution_count": null,
   "metadata": {},
   "outputs": [],
   "source": [
    "prozess_file.write(first_sentence_prozess)          # Erzeugte und geöffnete TXT-Datei mit Daten anreichern\n"
   ]
  },
  {
   "cell_type": "code",
   "execution_count": null,
   "metadata": {},
   "outputs": [],
   "source": [
    "prozess_file.close()                # Datei explizit wieder schließen, bleibt sonst im Arbeitsspeicher"
   ]
  },
  {
   "cell_type": "markdown",
   "metadata": {},
   "source": [
    "#### Alternative: Dateien mit dem Kontextmanager öffnen\n",
    "... das stellt sicher, dass die Datei nach dem Durchlaufen des Codeblocks wieder automatisch geschlossen wird."
   ]
  },
  {
   "cell_type": "code",
   "execution_count": null,
   "metadata": {},
   "outputs": [],
   "source": [
    "with open(\"../daten/output/der_prozess.txt\", \"w\", encoding=\"utf-8\") as prozess_file:      # with = Kontextmanager; as = für einen Alias\n",
    "    prozess_file.write(first_sentence_prozess)"
   ]
  },
  {
   "cell_type": "code",
   "execution_count": null,
   "metadata": {},
   "outputs": [],
   "source": [
    "with open(\"../daten/output/der_prozess.txt\", \"a\", encoding=\"utf8\") as prozess_file:             # Modus: append (parameter \"a\")\n",
    "    prozess_file.write(second_sentence_prozess)"
   ]
  },
  {
   "cell_type": "markdown",
   "metadata": {},
   "source": [
    "### B: Textdaten einlesen"
   ]
  },
  {
   "cell_type": "code",
   "execution_count": null,
   "metadata": {},
   "outputs": [],
   "source": [
    "with open(\"../daten/output/der_prozess.txt\", \"r\", encoding=\"utf-8\") as prozess_file:            # Modus = read (parameter \"r\")\n",
    "    prozess_content = prozess_file.read()                   # Textdatei in toto einlesen\n",
    "\n",
    "print(prozess_content)"
   ]
  },
  {
   "cell_type": "code",
   "execution_count": null,
   "metadata": {},
   "outputs": [],
   "source": [
    "with open(\"../daten/output/der_prozess.txt\", 'r', encoding=\"utf-8\") as file:\n",
    "    text_lines = file.readlines()                           # Textdatei zeilenweise einlesen; Output: Liste\n",
    "\n",
    "print(text_lines)"
   ]
  },
  {
   "cell_type": "code",
   "execution_count": null,
   "metadata": {},
   "outputs": [],
   "source": [
    "with open(\"../daten/output/der_prozess.txt\", 'r', encoding=\"utf-8\") as file:\n",
    "    text_splitlines = file.read().splitlines()              # Textdatei in toto einlesen und an Newlines (\\n) aufteilen; Output: Liste\n",
    "\n",
    "print(text_splitlines)"
   ]
  },
  {
   "cell_type": "markdown",
   "metadata": {},
   "source": [
    "### 📝 **JETZT:** Aufgabe 1 im Übungsnotebook `U4_dateien-verarbeiten.ipynb`.\n",
    "\n",
    "- Öffnen Sie die Textdatei `kafka_verwandlung_1915.txt`, die sich im Ordner `daten` befindet. \n",
    "- Lesen Sie den Text aus der Datei ein und speichern Sie ihn in der Variablen `metamorphosis`.\n",
    "- Wenden Sie eine Vorverarbeitungsfunktion auf den eingelesenen Text an. Diese Funktion können Sie aus dem Notebook U3 wiederverwenden. Passen Sie die Funktion jedoch so an, dass sie den bereinigten Text als einen zusammenhängenden String zurückgibt, anstatt als Liste von Wörtern. \n",
    "- Speichern Sie den vorverarbeiteten Text in einer neuen Textdatei. Wählen Sie einen geeigneten Dateinamen (z.B. `kafka_verwandlung_1915_preprocessed.txt`), der deutlich macht, dass es sich um die bearbeitete Version des Originaltextes handelt, und speichern Sie die Datei im selben Ordner `daten/output/`. \n",
    "\n",
    "⏳ 15 Minuten"
   ]
  },
  {
   "cell_type": "code",
   "execution_count": null,
   "metadata": {},
   "outputs": [],
   "source": [
    "# Ihre Lösung"
   ]
  },
  {
   "cell_type": "markdown",
   "metadata": {},
   "source": [
    "---"
   ]
  },
  {
   "cell_type": "markdown",
   "metadata": {},
   "source": [
    "## 2. Strukturierte Daten #1: [JSON](https://docs.python.org/3/library/json.html)"
   ]
  },
  {
   "cell_type": "code",
   "execution_count": null,
   "metadata": {},
   "outputs": [],
   "source": [
    "import json                                             # Zur Arbeit mit JSON-Dateien: built-in-Bibliothek importieren"
   ]
  },
  {
   "cell_type": "code",
   "execution_count": null,
   "metadata": {},
   "outputs": [],
   "source": [
    "with open(\"../daten/library.json\", \"r\") as json_file:   # Öffnen der Datei wie gewohnt mit Kontextmanager\n",
    "    library_content = json.load(json_file)              # Einlesen und interpretieren der JSON-Datei dann mit der Funktion load() der JSON-Bibliothek"
   ]
  },
  {
   "cell_type": "code",
   "execution_count": null,
   "metadata": {},
   "outputs": [],
   "source": [
    "print(type(library_content))                            # Eingelesene JSON-Dateien können wie Dictionaries verarbeitet werden\n",
    "print(library_content)"
   ]
  },
  {
   "cell_type": "code",
   "execution_count": null,
   "metadata": {},
   "outputs": [],
   "source": [
    "book_list = library_content[\"books\"]                    # Zugreifen bspw. auf alle Informationen, die zum Schlüssel \"books\" gespeichert sind\n",
    "book_list"
   ]
  },
  {
   "cell_type": "code",
   "execution_count": null,
   "metadata": {},
   "outputs": [],
   "source": [
    "for book in book_list:\n",
    "    print(f\"\"\"Das Buch \"{book[\"title\"]}\" von \"{book['author']}\" \n",
    "    wurde zuletzt im Jahr {book[\"editions\"][-1]} aufgelegt.\\n\"\"\")"
   ]
  },
  {
   "cell_type": "code",
   "execution_count": null,
   "metadata": {},
   "outputs": [],
   "source": [
    "library_content[\"owner\"] = \"Max Münstermann\"            # Informationen können entsprechend auch geändert werden\n",
    "library_content"
   ]
  },
  {
   "cell_type": "code",
   "execution_count": null,
   "metadata": {},
   "outputs": [],
   "source": [
    "with open(\"../daten/output/library_version_2.json\", \"w\") as json_file:\n",
    "    json.dump(library_content, json_file)                   # Speichern von Dictionaries als JSON-Datei"
   ]
  },
  {
   "cell_type": "markdown",
   "metadata": {},
   "source": [
    "**Jetzt:** Testweise die neu erstellte JSON im Editor öffnen."
   ]
  },
  {
   "cell_type": "code",
   "execution_count": null,
   "metadata": {},
   "outputs": [],
   "source": [
    "with open(\"../daten/output/library_version_2.json\", \"w\") as json_file:\n",
    "    json.dump(library_content, json_file, indent = 4, ensure_ascii=False)           # Speichern von Dictionaries als JSON-Datei mit Layout-Informationen > verbessert die Lesbarkeit; außerdem: Kodierung spezifizieren\n"
   ]
  },
  {
   "cell_type": "markdown",
   "metadata": {},
   "source": [
    "### 📝 **JETZT:** Aufgabe 2 im Übungsnotebook `U4_dateien-verarbeiten.ipynb`.\n",
    "\n",
    "- Lesen Sie den in der vorherigen Aufgabe vorverarbeiteten Text aus der Datei `kafka_verwandlung_1915_preprocessed.txt` als String ein und speichern ihn in der Variablen `metamorphosis`.\n",
    "\n",
    "- Verwenden Sie die Funktion aus Aufgabe 3 in Notebook U3, um die Worthäufigkeiten in dem eingelesenen Text zu ermitteln. Diese Funktion nimmt einen Text als Eingabe und gibt ein Dictionary zurück, das die Wörter des Textes als Schlüssel und ihre jeweiligen Häufigkeiten als Werte enthält.\n",
    "\n",
    "- Speichern Sie das Dictionary im Ordner `daten/output/` in eine Datei mit dem Dateinamen `kafka_verwandlung_1915_frequencies.json`. Importieren Sie dazu das Modul `json` und verwenden Sie speziell die Funktion `json.dump()`, um die Daten direkt in die JSON-Datei zu schreiben; denken Sie dabei auch an die Indentierung.\n",
    "\n",
    "⏳ 15 Minuten"
   ]
  },
  {
   "cell_type": "code",
   "execution_count": null,
   "metadata": {},
   "outputs": [],
   "source": [
    "# Ihre Lösung"
   ]
  },
  {
   "cell_type": "markdown",
   "metadata": {},
   "source": [
    "---"
   ]
  },
  {
   "cell_type": "markdown",
   "metadata": {},
   "source": [
    "## Strukturierte Daten #2: [CSV](https://docs.python.org/3/library/csv.html)\n",
    "\n",
    "### Option A: Inhalte als Listen einlesen, verarbeiten und schreiben"
   ]
  },
  {
   "cell_type": "code",
   "execution_count": null,
   "metadata": {},
   "outputs": [],
   "source": [
    "# Zur Arbeit mit CSV-Dateien: built-in-Bibliothek importieren\n",
    "import csv"
   ]
  },
  {
   "cell_type": "markdown",
   "metadata": {},
   "source": [
    "#### CSV-Dateien lesen"
   ]
  },
  {
   "cell_type": "code",
   "execution_count": null,
   "metadata": {},
   "outputs": [],
   "source": [
    "with open(\"../daten/books.csv\", \"r\") as csv_file:\n",
    "    books_reader = csv.reader(csv_file, delimiter = \";\")\n",
    "\n",
    "    for row in books_reader:\n",
    "        print(row)"
   ]
  },
  {
   "cell_type": "code",
   "execution_count": null,
   "metadata": {},
   "outputs": [],
   "source": [
    "with open(\"../daten/books.csv\", \"r\") as csv_file:\n",
    "    books_reader = csv.reader(csv_file, delimiter = \";\")\n",
    "\n",
    "    headers = next(books_reader)              # Header in books_reader überspringen und an Variable headers übergeben  \n",
    "    print(headers)\n",
    "\n",
    "    for row in books_reader:\n",
    "        print(f\"Buch-ID: {row[0]}\")\n",
    "        print(f\"Titel: {row[1]}\")\n",
    "        print(f\"Autor:in: {row[2]}\")\n",
    "        print(f\"Erscheinungsjahr: {row[3]}\")\n",
    "        print(\"---\")"
   ]
  },
  {
   "cell_type": "markdown",
   "metadata": {},
   "source": [
    "#### CSV-Dateien schreiben"
   ]
  },
  {
   "cell_type": "code",
   "execution_count": null,
   "metadata": {},
   "outputs": [],
   "source": [
    "with open(\"../daten/output/more_books.csv\", \"w\", newline=\"\") as csv_file:\n",
    "    books_writer = csv.writer(csv_file, delimiter = \",\")\n",
    "\n",
    "    header = [\"ID\", \"Titel\", \"Autor:in\", \"Erscheinungsjahr\"]\n",
    "    books_writer.writerow(header)\n",
    "\n",
    "    book_id = 1\n",
    "    new_title = \"Die Pest\"\n",
    "    new_author = \"Albert Camus\"\n",
    "    new_year = \"1947\"\n",
    "    new_book = [book_id, new_title, new_author, new_year]\n",
    "\n",
    "    books_writer.writerow(new_book)\n",
    "\n",
    "    book_id = book_id + 1\n",
    "    new_book = [book_id, \"The Hobbit\", \"John R. R. Tolkien\", \"1937\"]\n",
    "\n",
    "    books_writer.writerow(new_book)"
   ]
  },
  {
   "cell_type": "markdown",
   "metadata": {},
   "source": [
    "### Option B: Inhalte als Dictionaries einlesen, verarbeiten und schreiben"
   ]
  },
  {
   "cell_type": "code",
   "execution_count": null,
   "metadata": {},
   "outputs": [],
   "source": [
    "with open(\"../daten/books.csv\", \"r\") as csv_file:\n",
    "    books_reader = csv.DictReader(csv_file, delimiter = \";\")\n",
    "\n",
    "    for row in books_reader:\n",
    "        print(row[\"Titel\"])\n",
    "        print(row[\"Erscheinungsjahr\"])"
   ]
  },
  {
   "cell_type": "code",
   "execution_count": null,
   "metadata": {},
   "outputs": [],
   "source": [
    "with open(\"../daten/output/more_books.csv\", \"w\", newline=\"\") as csv_file:\n",
    "    \n",
    "    header = [\"ID\", \"Titel\", \"Autor:in\", \"Erscheinungsjahr\", \"verfügbar\"]\n",
    "    books_writer = csv.DictWriter(csv_file, fieldnames=header)\n",
    "    books_writer.writeheader()\n",
    "\n",
    "    more_input = True\n",
    "    book_id = 1\n",
    "\n",
    "    while(more_input == True):\n",
    "        title = input(\"Geben Sie einen Titel ein: \")\n",
    "        author = input(\"Geben Sie eine Autor:in ein: \")\n",
    "        year = input(\"Geben Sie ein Erscheinungsjahr ein: \")\n",
    "        available = input(\"Ist das Buch verfügbar? (ja|nein) \")\n",
    "        more_input_answer = input(\"Möchten Sie weitere Titel eingeben? (j|n) \")\n",
    "\n",
    "        new_book = {\"ID\": book_id,\n",
    "            \"Titel\": title,\n",
    "            \"Autor:in\": author,\n",
    "            \"Erscheinungsjahr\": year,\n",
    "            \"verfügbar\": available}\n",
    "\n",
    "        books_writer.writerow(new_book)\n",
    "        book_id = book_id + 1\n",
    "\n",
    "        if more_input_answer == \"n\":\n",
    "            more_input = False"
   ]
  },
  {
   "cell_type": "markdown",
   "metadata": {},
   "source": [
    "### 📝 **JETZT:** Aufgabe 3 im Übungsnotebook `U4_dateien-verarbeiten.ipynb`.\n",
    "\n",
    "- Definieren Sie eine Liste von Büchern, wobei jedes Buch durch ein Dictionary repräsentiert wird. Jedes Dictionary soll folgende Schlüssel haben: Titel, Autor:in und Erscheinungsjahr.\n",
    "\n",
    "- Verwenden Sie das `csv`-Modul, um eine CSV-Datei mit den Buchinformationen zu erstellen. Die erste Zeile der CSV-Datei soll die Spaltenüberschriften enthalten.\n",
    "\n",
    "- Speichern Sie die CSV-Datei unter einem geeigneten Dateinamen in dem Ordner `output`.\n",
    "\n",
    "⏳ 15 Minuten"
   ]
  },
  {
   "cell_type": "code",
   "execution_count": null,
   "metadata": {},
   "outputs": [],
   "source": [
    "# Ihre Lösung"
   ]
  }
 ],
 "metadata": {
  "kernelspec": {
   "display_name": "mininghistoriansweb",
   "language": "python",
   "name": "python3"
  },
  "language_info": {
   "codemirror_mode": {
    "name": "ipython",
    "version": 3
   },
   "file_extension": ".py",
   "mimetype": "text/x-python",
   "name": "python",
   "nbconvert_exporter": "python",
   "pygments_lexer": "ipython3",
   "version": "3.11.7"
  }
 },
 "nbformat": 4,
 "nbformat_minor": 2
}
