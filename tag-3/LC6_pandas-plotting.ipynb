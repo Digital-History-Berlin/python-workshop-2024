{
 "cells": [
  {
   "cell_type": "markdown",
   "id": "f048c50d",
   "metadata": {},
   "source": [
    "# 💻 Plotten mit Pandas, Matplotlib und Seaborn\n",
    "\n",
    "Mit [Pandas](https://pandas.pydata.org/) lassen sich Daten direkt visualisieren. Um das Laypout der resultierenden Plots weiter zu optimieren, kann die Python-Bibliothek Matplotlib genutzt werden, die sehr gut mit Pandas zusammenspielt. Eine auf [Matplotlib](https://matplotlib.org/) aufbauende und häufig genutzt Bibliothek zur Visualisierung ist [Seaborn](https://seaborn.pydata.org/).\n",
    "\n",
    "Eine sehr gute und ausführliche Einführung in die Visualisierung mit Matplotlib bietet ein eigenes Kapitel aus dem Data Science Handbook von Jake VanderPlas: [Visualization with Matplotlib](https://jakevdp.github.io/PythonDataScienceHandbook/04.00-introduction-to-matplotlib.html), in: [Jake VanderPlas, Python Data Science Handbook. Essential Tools for Working with Data](https://jakevdp.github.io/PythonDataScienceHandbook/)."
   ]
  },
  {
   "cell_type": "markdown",
   "id": "1e01664d",
   "metadata": {},
   "source": [
    "## Datenvisualisierung - Basics\n",
    "### Import der benötigten Bibliotheken"
   ]
  },
  {
   "cell_type": "code",
   "execution_count": null,
   "id": "6b0a385b",
   "metadata": {},
   "outputs": [],
   "source": [
    "import pandas as pd\n",
    "import matplotlib.pyplot as plt\n",
    "import seaborn as sns\n",
    "\n",
    "# Seaborn-Stil anstelle von Matplotlib\n",
    "sns.set_theme(style=\"whitegrid\")\n",
    "\n",
    "# Anweisung speziell für Jupyter Notebooks: \n",
    "# Anzeige der Matplotlib-Grafiken direkt im Notebook statt in einem neuen Fenster\n",
    "%matplotlib inline          "
   ]
  },
  {
   "cell_type": "markdown",
   "id": "fcf78a8a",
   "metadata": {},
   "source": [
    "### Beispiel 1: Visualisierung der Wahlergebnisse der Wahlen zum Ersten Deutschen Bundestag 1949\n",
    "\n",
    "Datenquelle: https://www.bundeswahlleiterin.de/bundestagswahlen/1949.html"
   ]
  },
  {
   "cell_type": "code",
   "execution_count": null,
   "id": "00463aeb",
   "metadata": {},
   "outputs": [],
   "source": [
    "# Erzeugung von Beispieldaten: Wahl zum 1. Deutschen Bundestag am 14. August 1949\n",
    "\n",
    "votes = {\"Parteien\":[\"SPD\", \"CDU\", \"FDP\", \"CSU\", \n",
    "                        \"KPD\", \"Parteilose\", \"BP\", \"DP\", \n",
    "                        \"Zentrum\", \"Sonstige\"],\n",
    "            \"Stimmen\":[6934975, 5978636, 2829920, 1380448,\n",
    "                      1361706, 1141647, 986478, 939934, \n",
    "                       727505, 1451149],\n",
    "            \"Prozent\": [29.2, 25.2, 11.9, 5.8,\n",
    "                       5.7, 4.8, 4.2, 4.0, \n",
    "                        3.1, 6.1]}\n",
    "\n",
    "vote_frame = pd.DataFrame(votes, #\n",
    "                          columns=[\"Stimmen\", \"Prozent\"], #\n",
    "                          index=votes[\"Parteien\"]) # \n",
    "print(vote_frame)"
   ]
  },
  {
   "cell_type": "markdown",
   "id": "032dcd18",
   "metadata": {},
   "source": [
    "#### Wahlergebnis als Balkendiagramm visualisieren"
   ]
  },
  {
   "cell_type": "code",
   "execution_count": null,
   "id": "19ac7002",
   "metadata": {},
   "outputs": [],
   "source": [
    "# Barchart zur Visualisierung diskreter und kategorialer Daten\n",
    "\n",
    "plt.figure(figsize=(10, 7), dpi=300)                                    # Erzeugt ein Plotfenster gemäß der Dimensionen figsize (Zoll), dpi spezifiziert die Auflösung \n",
    "\n",
    "colors = sns.color_palette(\"YlOrBr\", 10)                                # Konfiguration der verwendeten Farbpalette mit 10 Farben; Seaborn bietet verschiedene Paletten \n",
    "sns.set_context(\"paper\", font_scale=1.5, rc={\"lines.linewidth\": 2.5})   # Kontext Paper optimiert die Größe der Elemente für Publikationszwecke, font_scale skaliert die Schriftgrößen um den Faktor 1.5, und rc={\"lines.linewidth\": 2.5} passt die Linienbreite der Grafik an\n",
    "\n",
    "vote_frame[\"Prozent\"].plot.bar(color=colors)                            # Erzeugung des Balkendiagramms; jeder Balken korrespondiert hinsichtlich der Farbgebung mit einer Farbe der zuvor generierten Farbpalette\n",
    "\n",
    "plt.show()                                                              # Anzeige des Plots im Notebook/Ausgabebereich"
   ]
  },
  {
   "cell_type": "markdown",
   "id": "1ec4f99b",
   "metadata": {},
   "source": [
    "#### Beschriftungen hinzufügen"
   ]
  },
  {
   "cell_type": "code",
   "execution_count": null,
   "id": "4e5b039d",
   "metadata": {},
   "outputs": [],
   "source": [
    "# Basisvisualisierung\n",
    "plt.figure(figsize=(10, 7), dpi=300)                                   \n",
    "colors = sns.color_palette(\"YlOrBr\", 12) \n",
    "sns.set_context(\"paper\", font_scale=1.5, rc={\"lines.linewidth\": 2.5})   \n",
    "\n",
    "vote_frame[\"Prozent\"].plot.bar(color=colors)                     \n",
    "\n",
    "\n",
    "# Beschriftung des Plots\n",
    "plt.title(\"Wahlen zum 1. Deutschen Bundestag\")      # Titel hinzufügen\n",
    "plt.xlabel(\"Partei\")                                # Beschriftung der X-Achse\n",
    "plt.ylabel(\"Prozent\")                               # Beschriftung der Y-Achse\n",
    "\n",
    "plt.tight_layout(pad = 0)                           # Optimale Nutzung des verfügbaren Platzes, pad=0 reduziert den Abstand um den Plot herum\n",
    "\n",
    "plt.show()"
   ]
  },
  {
   "cell_type": "markdown",
   "id": "79056c15",
   "metadata": {},
   "source": [
    "#### Konfiguration der Achsen"
   ]
  },
  {
   "cell_type": "code",
   "execution_count": null,
   "id": "ef11acda",
   "metadata": {},
   "outputs": [],
   "source": [
    "# Basisvisualisierung\n",
    "plt.figure(figsize=(10, 7), dpi=300)                                   \n",
    "colors = sns.color_palette(\"YlOrBr\", 12) \n",
    "sns.set_context(\"paper\", font_scale=1.5, rc={\"lines.linewidth\": 2.5})   \n",
    "\n",
    "vote_frame[\"Prozent\"].plot.bar(color=colors)                     \n",
    "\n",
    "\n",
    "# Beschriftung des Plots\n",
    "plt.title(\"Wahlen zum 1. Deutschen Bundestag\")      \n",
    "plt.xlabel(\"Partei\")                                \n",
    "plt.ylabel(\"Prozent\")                               \n",
    "\n",
    "# Konfiguration der Achsen\n",
    "plt.xticks(fontsize=18, fontweight=\"heavy\", rotation=60)    # Konfiguration der Schriftgröße, Schriftdicke, Rotation\n",
    "plt.yticks(fontsize=18, fontweight=\"heavy\")                 # Konfiguration der Schriftgröße, Schriftdicke\n",
    "plt.ylim(ymin=0, ymax=30)                                   # Konfiguration des angezeigten Wertbereichs\n",
    "\n",
    "plt.grid(False)                                     # Grid einmal ganz entfernen\n",
    "plt.grid(True, axis=\"y\")                            # Dann Grid nur auf y-Achse hinzufügen\n",
    "plt.tight_layout(pad = 0)                           \n",
    "\n",
    "plt.show()"
   ]
  },
  {
   "cell_type": "markdown",
   "id": "cf98f55d",
   "metadata": {},
   "source": [
    "#### 📝 **Jetzt:** Aufgabe 1\n",
    "\n",
    "Experimentieren Sie mit verschiedenen Gestaltungsmöglichkeiten einer Balkendiagramm-Visualisierung in Matplotlib und Seaborn, um ein besseres Verständnis für die Anpassung und Konfiguration von Diagrammen zu entwickeln.\n",
    "\n",
    "**1. Farbpalette ändern:** Konsultieren Sie die Dokumentation von [Seaborns Farbpaletten](https://seaborn.pydata.org/tutorial/color_palettes.html) und wählen Sie eine andere Palette aus. Wenden Sie diese auf Ihr Balkendiagramm an.\n",
    "\n",
    "**2. Kontext und Skalierung anpassen:** Spielen Sie mit unterschiedlichen [Kontexten](https://seaborn.pydata.org/generated/seaborn.set_context.html) wie `notebook`, `talk` und `poster` herum. Ändern Sie auch die Skalierung der Schriftgröße, um die Auswirkungen auf die Visualisierung zu beobachten.\n",
    "\n",
    "**3. Titel und Achsenbeschriftungen:** Ändern Sie den Titel des Diagramms und die Beschriftungen der Achsen. Probieren Sie verschiedene Schriftgrößen aus.\n",
    "\n",
    "**4. Achsenkonfiguration:** Modifizieren Sie die [`plt.xticks`](https://matplotlib.org/stable/api/_as_gen/matplotlib.pyplot.xticks.html) und [`plt.yticks`](https://matplotlib.org/stable/api/_as_gen/matplotlib.pyplot.yticks.html) Anweisungen, um andere Schriftgrößen und Drehwinkel zu testen. Setzen Sie verschiedene Wertebereiche für die Y-Achse mit [`plt.ylim`](https://matplotlib.org/stable/api/_as_gen/matplotlib.pyplot.ylim.html), um zu sehen, wie sich dies auf die Darstellung der Daten auswirkt.\n",
    "\n",
    "**5. Rasterlinien (Grid):** Schalten Sie das Raster ein und aus und fügen Sie es spezifisch für die X- oder Y-Achse hinzu. Passen Sie die Stil- und Farboptionen des Rasters an (siehe dazu die [Matplotlib-Dokumentation](https://matplotlib.org/stable/api/_as_gen/matplotlib.pyplot.grid.html)). Für die Konfiguration der Farbe, werden in der Regel HTML-Codes verwendet, nutzen Sie entsprechend gerne einen [HTML Color Picker](https://www.w3schools.com/colors/colors_picker.asp).\n",
    "\n",
    "Nützliche Ressourcen (neben den Verlinkungen):\n",
    "- [Matplotlib User Guide](https://matplotlib.org/stable/users/index.html)\n",
    "- [Seaborn User guide and tutorial](https://seaborn.pydata.org/tutorial.html)\n",
    "\n",
    "⏳ 20 Minuten\n",
    "\n",
    "Der zu modifizierende Code:\n"
   ]
  },
  {
   "cell_type": "code",
   "execution_count": null,
   "id": "29a8c0d3",
   "metadata": {},
   "outputs": [],
   "source": [
    "# Diesen Code gerne beliebig anpassen oder in eine andere Codezelle kopieren\n",
    "\n",
    "plt.figure(figsize=(10, 7), dpi=300)                                   \n",
    "colors = sns.color_palette(\"YlOrBr\", 12) \n",
    "sns.set_context(\"paper\", font_scale=1.5, rc={\"lines.linewidth\": 2.5})   \n",
    "\n",
    "vote_frame[\"Prozent\"].plot.bar(color=colors)                     \n",
    "\n",
    "\n",
    "# Beschriftung des Plots\n",
    "plt.title(\"Wahlen zum 1. Deutschen Bundestag\")      \n",
    "plt.xlabel(\"Partei\")                                \n",
    "plt.ylabel(\"Prozent\")                               \n",
    "\n",
    "# Konfiguration der Achsen\n",
    "plt.xticks(fontsize=18, fontweight=\"heavy\", rotation=60)    \n",
    "plt.yticks(fontsize=18, fontweight=\"heavy\")                 \n",
    "plt.ylim(ymin=0, ymax=30)                                   \n",
    "\n",
    "plt.grid(False)                                     \n",
    "plt.grid(True, axis=\"y\")                            \n",
    "plt.tight_layout(pad = 0)                           \n",
    "\n",
    "plt.show()"
   ]
  },
  {
   "cell_type": "code",
   "execution_count": null,
   "id": "2a9b206b",
   "metadata": {},
   "outputs": [],
   "source": [
    "# weitere Codezellen nach Bedarf einfügen"
   ]
  },
  {
   "cell_type": "markdown",
   "id": "ef777727",
   "metadata": {},
   "source": [
    "---\n",
    "\n",
    "\n",
    "\n",
    "\n",
    "## **Pause** \n",
    "(Datensicherung nicht vergessen!)\n",
    "\n",
    "\n",
    "\n",
    "\n",
    "\n",
    "---"
   ]
  },
  {
   "cell_type": "markdown",
   "id": "9e734509-30d4-4ef3-8385-001498b6720b",
   "metadata": {},
   "source": [
    "## Beispiel 2: Analyse und Visualisierung unseres Reden-Datensatzes"
   ]
  },
  {
   "cell_type": "markdown",
   "id": "ef1eaac9-12ba-401c-97ec-7e1e63bdc274",
   "metadata": {},
   "source": [
    "### Einlesen und Inspizieren der Daten"
   ]
  },
  {
   "cell_type": "code",
   "execution_count": null,
   "id": "19b19923",
   "metadata": {},
   "outputs": [],
   "source": [
    "import pandas as pd\n",
    "import matplotlib.pyplot as plt\n",
    "import seaborn as sns\n",
    "\n",
    "# Seaborn-Stil anstelle von Matplotlib\n",
    "sns.set_theme(style=\"whitegrid\")\n",
    "\n",
    "# Anweisung speziell für Jupyter Notebooks: \n",
    "# Anzeige der Matplotlib-Grafiken direkt im Notebook statt in einem neuen Fenster\n",
    "%matplotlib inline  "
   ]
  },
  {
   "cell_type": "code",
   "execution_count": null,
   "id": "8591abb4-17f3-4fff-8a54-30c88747c41e",
   "metadata": {},
   "outputs": [],
   "source": [
    "df = pd.read_json(\"../daten/output/speeches-bundesregierung_bearbeitet.json\")"
   ]
  },
  {
   "cell_type": "code",
   "execution_count": null,
   "id": "5969882c-9022-40d9-b1c4-e3e87e80a642",
   "metadata": {},
   "outputs": [],
   "source": [
    "df.head()"
   ]
  },
  {
   "cell_type": "markdown",
   "id": "6eaece08-28ac-4ac2-8143-c3a75ad46b1e",
   "metadata": {
    "slideshow": {
     "slide_type": "subslide"
    },
    "tags": []
   },
   "source": [
    "### Anzahl der Reden nach Jahren"
   ]
  },
  {
   "cell_type": "code",
   "execution_count": null,
   "id": "354cb8b1",
   "metadata": {},
   "outputs": [],
   "source": [
    "# Gruppieren der Daten nach Jahr und Zählen der Einträge mit der groupby()-Funktion\n",
    "\n",
    "year_counts = df.groupby(df.loc[:, \"date\"].dt.year).size()\n",
    "year_counts"
   ]
  },
  {
   "cell_type": "code",
   "execution_count": null,
   "id": "a46dfc74",
   "metadata": {},
   "outputs": [],
   "source": [
    "# Basisvisualisierung\n",
    "plt.figure(figsize=(10, 7), dpi=300)\n",
    "\n",
    "# Plotten der Daten\n",
    "#year_counts.plot.bar(color=sns.color_palette(\"YlOrBr\", len(year_counts)))\n",
    "year_counts.plot.bar(color=\"green\")\n",
    "\n",
    "# Styling des Layouts\n",
    "plt.title(\"Anzahl der Reden nach Jahren\", fontweight=\"semibold\", fontsize=14)\n",
    "plt.xlabel(\"Jahr\", fontsize=12)\n",
    "plt.ylabel(\"Anzahl der Reden pro Jahr\", fontsize=12)\n",
    "plt.xticks(rotation=45) \n",
    "plt.grid(False) \n",
    "plt.grid(True, axis=\"y\")  \n",
    "\n",
    "plt.tight_layout(pad=0)\n",
    "# plt.savefig(\"../daten/output/anzahl-reden-jahr.png\")\n",
    "plt.show()"
   ]
  },
  {
   "cell_type": "markdown",
   "id": "12332c51",
   "metadata": {},
   "source": [
    "---"
   ]
  },
  {
   "cell_type": "markdown",
   "id": "fb048542-2995-4506-af1a-6658f15ba700",
   "metadata": {},
   "source": [
    "### Verteilung der Länge der Reden als Histogramm visualisieren"
   ]
  },
  {
   "cell_type": "code",
   "execution_count": null,
   "id": "e772f78f-d009-4b45-9c38-830ea8fda800",
   "metadata": {},
   "outputs": [],
   "source": [
    "plt.figure(figsize=(10, 7), dpi=300)\n",
    "\n",
    "# Plotten der Daten\n",
    "df.loc[:, \"ntokens\"].plot.hist(bins=100, color=\"green\")         # Bins: Anzahl der \"Behälter\", in die die Daten aufgeteilt werden\n",
    "\n",
    "# Styling des Layouts                               \n",
    "plt.title(\"Verteilung der Länge der Reden (bins=100)\", fontweight=\"semibold\", fontsize=14)\n",
    "plt.xlabel(\"Anzahl der Token\", fontsize=12)\n",
    "plt.ylabel(\"Anzahl der Reden\", fontsize=12)\n",
    "plt.grid(False)\n",
    "plt.grid(True, axis=\"y\")\n",
    "\n",
    "plt.tight_layout()\n",
    "# plt.savefig(\"../daten/output/FILENAME.png\")\n",
    "plt.show()"
   ]
  },
  {
   "cell_type": "markdown",
   "id": "cb5333c1",
   "metadata": {},
   "source": [
    "### 📝 **JETZT:** Aufgabe\n",
    "\n",
    "Probieren Sie unterschiedliche Werte für die Bins aus, um sich mit der Funktionsweise der Bins für die Visualisierung und Interpretation des Verteilungsprofils vertraut zu machen (z.B. 5, 10, 50, 100, 500).\n",
    "\n",
    "⏳ 3 Minuten"
   ]
  },
  {
   "cell_type": "markdown",
   "id": "8131928c",
   "metadata": {},
   "source": [
    "---"
   ]
  },
  {
   "cell_type": "markdown",
   "id": "79861e06-0a96-4306-ae43-33ba9640d01a",
   "metadata": {},
   "source": [
    "### Anzahl der Reden nach Redner:innen"
   ]
  },
  {
   "cell_type": "code",
   "execution_count": null,
   "id": "e6228d0c",
   "metadata": {},
   "outputs": [],
   "source": [
    "# Gruppieren der Daten nach Jahr und Zählen der Einträge mit der groupby()-Funktion\n",
    "\n",
    "person_counts = df.groupby(df.loc[:, \"person\"]).size()\n",
    "person_counts "
   ]
  },
  {
   "cell_type": "code",
   "execution_count": null,
   "id": "66e92018",
   "metadata": {},
   "outputs": [],
   "source": [
    "person_counts = person_counts.sort_values(ascending=False)              \n",
    "person_counts                                                           # Absteigend sortiert"
   ]
  },
  {
   "cell_type": "markdown",
   "id": "c7d319ef",
   "metadata": {},
   "source": [
    "### 📝 **Jetzt:** Aufgabe 2 - Visualisierung der häufigsten Redner:innen\n",
    "\n",
    "Erstellen Sie analog zur Visualisierung der Reden pro Jahr ein Balkendiagramm, das die Anzahl der Reden der 15 häufigsten Redner:innen visualisiert. Sie können den Code weitestgehend übernehmen und an den Stellen anpassen, wo es nötig ist. Überlegen Sie aber, was Sie tun müssen, um nur die 15 Redner:innen mit den meisten Reden zu visualisieren.\n",
    "\n",
    "⏳ 10 Minuten"
   ]
  },
  {
   "cell_type": "code",
   "execution_count": null,
   "id": "40a5b95a",
   "metadata": {},
   "outputs": [],
   "source": [
    "# gemeinsame Lösung"
   ]
  },
  {
   "cell_type": "markdown",
   "id": "3a764067",
   "metadata": {},
   "source": [
    "---"
   ]
  },
  {
   "cell_type": "markdown",
   "id": "8743a569-c9ac-4328-a6cc-042d49ccb5f0",
   "metadata": {},
   "source": [
    "### Auswertungen zur TOP-Rednerin"
   ]
  },
  {
   "cell_type": "code",
   "execution_count": null,
   "id": "405dae6e-d8e0-42a9-8455-8cf01c63e76a",
   "metadata": {},
   "outputs": [],
   "source": [
    "merkel_mask = df.loc[:, \"person\"] == \"Angela Merkel\"\n",
    "merkel_mask"
   ]
  },
  {
   "cell_type": "code",
   "execution_count": null,
   "id": "aab5b6f3-706b-499c-b031-94cd43a9af82",
   "metadata": {},
   "outputs": [],
   "source": [
    "df_merkel = df.loc[merkel_mask, [\"date\", \"text\"]]\n",
    "df_merkel.shape"
   ]
  },
  {
   "cell_type": "code",
   "execution_count": null,
   "id": "c956bc61",
   "metadata": {},
   "outputs": [],
   "source": [
    "year_counts_merkel = df_merkel.groupby(df_merkel.loc[:, \"date\"].dt.year).size()\n",
    "year_counts_merkel"
   ]
  },
  {
   "cell_type": "code",
   "execution_count": null,
   "id": "f8e638da-01b8-45ff-b808-be34413fc998",
   "metadata": {},
   "outputs": [],
   "source": [
    "# Ganz simples Liniendiagramm\n",
    "\n",
    "year_counts_merkel.plot(legend=False)"
   ]
  },
  {
   "cell_type": "markdown",
   "id": "40102bd0-6f2a-4c11-94f7-a88fae0af837",
   "metadata": {},
   "source": [
    "#### Verwendung von 'digital' in den Reden von Angela Merkel"
   ]
  },
  {
   "cell_type": "code",
   "execution_count": null,
   "id": "362867cf-1fea-4d09-8f71-42e1996aa5c6",
   "metadata": {},
   "outputs": [],
   "source": [
    "df_merkel_digital = df_merkel[df_merkel.loc[:,\"text\"].str.contains(\"digital\", case=False)]  # bisher Maske immer separat auf df angewendet, aber das kann auch kombiniert werden, um direkt den neuen Dataframe zu erzeugen\n",
    "df_merkel_digital"
   ]
  },
  {
   "cell_type": "code",
   "execution_count": null,
   "id": "5f11852f",
   "metadata": {},
   "outputs": [],
   "source": [
    "year_counts_digital = df_merkel_digital.groupby(df_merkel_digital.loc[:, \"date\"].dt.year).size()\n",
    "year_counts_digital"
   ]
  },
  {
   "cell_type": "code",
   "execution_count": null,
   "id": "43b43553",
   "metadata": {},
   "outputs": [],
   "source": [
    "# Basisvisualisierung\n",
    "plt.figure(figsize=(10, 7), dpi=300)\n",
    "\n",
    "# Plotten der Daten\n",
    "year_counts_digital.plot.bar(color=sns.color_palette(\"husl\", len(year_counts_digital)))\n",
    "\n",
    "# Styling des Layouts\n",
    "plt.title(\"Anzahl der Reden, die das Wort 'digital' enthalten\", weight=\"semibold\", size=14)\n",
    "plt.xlabel(\"Jahr\", size=12)\n",
    "plt.ylabel(\"Anzahl der Reden\", size=12)\n",
    "plt.xticks(rotation=45)  # Einstellen der Rotation für x-Achsen-Beschriftung\n",
    "plt.grid(False)  # Zuerst Grid ganz entfernen\n",
    "plt.grid(True, axis=\"y\")  # Dann Grid nur auf y-Achse hinzufügen\n",
    "\n",
    "plt.tight_layout(pad=0)\n",
    "# plt.savefig(\"../daten/output/FILENAME.png\")\n",
    "plt.show()"
   ]
  },
  {
   "cell_type": "markdown",
   "id": "8cae9f7e",
   "metadata": {},
   "source": [
    "#### Relative Häufigkeit der Reden, in denen \"digital\" vorkommt im Verhältnis zur Gesamtanzahl der Reden Merkels"
   ]
  },
  {
   "cell_type": "code",
   "execution_count": null,
   "id": "bbe89883",
   "metadata": {},
   "outputs": [],
   "source": [
    "ratio_digital_to_total = year_counts_digital.divide(year_counts_merkel, fill_value=0)    # divide teilt Anzahl der Reden mit \"digital\" durch Gesamtanzahl der Reden, fill_value=0 sorgt dafür, dass Jahre, in denen keine Reden mit \"digital\" gehalten wurden, im Ergebnis als \"0\" berücksichtigt werden\n",
    "ratio_digital_to_total"
   ]
  },
  {
   "cell_type": "code",
   "execution_count": null,
   "id": "f637d252",
   "metadata": {},
   "outputs": [],
   "source": [
    "# Basisvisualisierung\n",
    "plt.figure(figsize=(10, 7), dpi=300)\n",
    "\n",
    "# Plotten der Daten\n",
    "ratio_digital_to_total.plot.bar(color=sns.color_palette(\"husl\", len(ratio_digital_to_total)))\n",
    "\n",
    "# Styling des Layouts\n",
    "plt.title(\"Relative Häufigkeit der Reden, die das Wort 'digital' enthalten\", weight=\"semibold\", size=14)\n",
    "plt.xlabel(\"Jahr\", size=12)\n",
    "plt.ylabel(\"Anzahl\", size=12)\n",
    "plt.xticks(rotation=45)  # Einstellen der Rotation für x-Achsen-Beschriftung\n",
    "plt.grid(False)  # Zuerst Grid ganz entfernen\n",
    "plt.grid(True, axis=\"y\")  # Dann Grid nur auf y-Achse hinzufügen\n",
    "\n",
    "plt.tight_layout(pad=0)\n",
    "# plt.savefig(\"../daten/output/FILENAME.png\")\n",
    "plt.show()"
   ]
  },
  {
   "cell_type": "markdown",
   "id": "d86ccb4c",
   "metadata": {},
   "source": [
    "### 📝 **Jetzt:** Aufgabe 3 - Ergebnis von Datenabfragen visualisieren\n",
    "\n",
    "Visualisieren Sie die *absoluten* und *relativen* Häufigkeiten des Ergebnisses der im Notebook `LC5_pandas-basics.ipynb` gestellten Aufgabe 3.4:\n",
    "\n",
    "*Suchen Sie nach Reden, ~~die zwischen 2000 und 2010 gehalten wurden,~~ die sich auf Umweltthemen beziehen. In Frage kommen hierfür Begriffe wie \"Umwelt\", \"Klima\", \"Nachhaltigkeit\" oder ähnliches. Formulieren Sie eine Abfrage, die mehrere dieser Begriffe berücksichtigt. Achten Sie ggf. darauf, wie die Bedingungen mit runden Klammern gruppiert werden müssen.*\n",
    "\n",
    "Die Einschränkung auf den Zeitraum 2000-2010 fällt für diese Aufgabenstellung weg. Was fällt Ihnen bei der Visualisierung der relativen Häufigkeiten auf?\n",
    "\n",
    "⏳ 15 Minuten\n"
   ]
  },
  {
   "cell_type": "code",
   "execution_count": null,
   "id": "5038f625",
   "metadata": {},
   "outputs": [],
   "source": [
    "# Ihre Lösung"
   ]
  },
  {
   "cell_type": "markdown",
   "id": "63d46a81",
   "metadata": {},
   "source": [
    "### 📝 **Optionale Zusatzaufgabe:** Aufgabe 4 - Funktion für Visualisierung erstellen\n",
    "\n",
    "Wie Sie sicherlich festgestellt haben, konnte der Code zur Visualisierung der Auswertungen im zweiten Teil dieses Notebook mit kleineren Anpassungen immer wieder verwendet werden, da die Art der zu visualisierenden Daten sich sehr ähneln. Das heißt, statt immer wieder den Code zu kopieren, könnte eigentlich, wie wir es gelernt haben, eine Funktion erstellt werden, die mit verschiedenen Parametern dann in unterschiedlichen Kontexten aufgerufen werden kann. \n",
    "\n",
    "Probieren Sie gerne einmal aus, wie der Code zur Visualisierung verallgemeinert werden müsste, damit er für die verschiedenen Aufgaben in diesem Notebook verwendet werden kann.\n",
    "\n",
    "⏳ 20 Minuten"
   ]
  },
  {
   "cell_type": "code",
   "execution_count": null,
   "id": "7b455ad0",
   "metadata": {},
   "outputs": [],
   "source": [
    "# Ihre Lösung"
   ]
  }
 ],
 "metadata": {
  "kernelspec": {
   "display_name": "Python 3 (ipykernel)",
   "language": "python",
   "name": "python3"
  },
  "language_info": {
   "codemirror_mode": {
    "name": "ipython",
    "version": 3
   },
   "file_extension": ".py",
   "mimetype": "text/x-python",
   "name": "python",
   "nbconvert_exporter": "python",
   "pygments_lexer": "ipython3",
   "version": "3.11.7"
  }
 },
 "nbformat": 4,
 "nbformat_minor": 5
}
