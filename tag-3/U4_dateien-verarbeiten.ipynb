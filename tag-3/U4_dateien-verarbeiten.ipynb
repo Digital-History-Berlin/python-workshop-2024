{
 "cells": [
  {
   "cell_type": "markdown",
   "metadata": {},
   "source": [
    "# 📝 Übung: Dateien verarbeiten\n",
    "\n",
    "## Aufgabe 1: Verarbeitung einer Textdatei\n",
    "\n",
    "- Öffnen Sie die Textdatei `kafka_verwandlung_1915.txt`, die sich im Ordner `daten` befindet. \n",
    "\n",
    "- Lesen Sie den Text aus der Datei ein und speichern Sie ihn in der Variablen `metamorphosis`.\n",
    "\n",
    "- Wenden Sie eine Vorverarbeitungsfunktion auf den eingelesenen Text an. Diese Funktion können Sie aus dem Notebook U3 wiederverwenden. Passen Sie die Funktion jedoch so an, dass sie den bereinigten Text als einen zusammenhängenden String zurückgibt, anstatt als Liste von Wörtern. \n",
    "\n",
    "- Speichern Sie den vorverarbeiteten Text in einer neuen Textdatei. Wählen Sie einen geeigneten Dateinamen (z.B. `kafka_verwandlung_1915_preprocessed.txt`), der deutlich macht, dass es sich um die bearbeitete Version des Originaltextes handelt, und speichern Sie die Datei im Ordner `daten/output`. \n",
    "\n",
    "⏳ 15 Minuten"
   ]
  },
  {
   "cell_type": "code",
   "execution_count": null,
   "metadata": {},
   "outputs": [],
   "source": [
    "# Ihre Lösung"
   ]
  },
  {
   "cell_type": "markdown",
   "metadata": {},
   "source": [
    "## Aufgabe 2: Worthäufigkeiten in JSON persistent abspeichern\n",
    "\n",
    "- Lesen Sie den in der vorherigen Aufgabe vorverarbeiteten Text aus der Datei `kafka_verwandlung_1915_preprocessed.txt` als String ein und speichern ihn in der Variablen `metamorphosis`.\n",
    "\n",
    "- Verwenden Sie die Funktion aus Aufgabe 3 in Notebook U3, um die Worthäufigkeiten in dem eingelesenen Text zu ermitteln. Diese Funktion nimmt einen Text als Eingabe und gibt ein Dictionary zurück, das die Wörter des Textes als Schlüssel und ihre jeweiligen Häufigkeiten als Werte enthält.\n",
    "\n",
    "- Speichern Sie das Dictionary im Ordner `daten/output/` in eine Datei mit dem Dateinamen `kafka_verwandlung_1915_frequencies.json`. Importieren Sie dazu das Modul `json` und verwenden Sie speziell die Funktion `json.dump()`, um die Daten direkt in die JSON-Datei zu schreiben; denken Sie dabei auch an die Indentierung.\n",
    "\n",
    "⏳ 15 Minuten"
   ]
  },
  {
   "cell_type": "code",
   "execution_count": null,
   "metadata": {},
   "outputs": [],
   "source": [
    "# Ihre Lösung"
   ]
  },
  {
   "cell_type": "markdown",
   "metadata": {},
   "source": [
    "## Aufgabe 3: Tabellarische Daten erstellen und in einer CSV speichern\n",
    "\n",
    "- Definieren Sie eine Liste von Büchern, wobei jedes Buch durch ein Dictionary repräsentiert wird. Jedes Dictionary soll folgende Schlüssel haben: Titel, Autor:in und Erscheinungsjahr.\n",
    "\n",
    "- Verwenden Sie das `csv`-Modul, um eine CSV-Datei mit den Buchinformationen zu erstellen. Die erste Zeile der CSV-Datei soll die Spaltenüberschriften enthalten.\n",
    "\n",
    "- Speichern Sie die CSV-Datei unter einem geeigneten Dateinamen in dem Ordner `output`.\n",
    "\n",
    "⏳ 15 Minuten"
   ]
  },
  {
   "cell_type": "code",
   "execution_count": null,
   "metadata": {},
   "outputs": [],
   "source": [
    "# Ihre Lösung"
   ]
  }
 ],
 "metadata": {
  "kernelspec": {
   "display_name": "mininghistoriansweb",
   "language": "python",
   "name": "python3"
  },
  "language_info": {
   "codemirror_mode": {
    "name": "ipython",
    "version": 3
   },
   "file_extension": ".py",
   "mimetype": "text/x-python",
   "name": "python",
   "nbconvert_exporter": "python",
   "pygments_lexer": "ipython3",
   "version": "3.8.13"
  }
 },
 "nbformat": 4,
 "nbformat_minor": 2
}
