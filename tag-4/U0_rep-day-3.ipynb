{
 "cells": [
  {
   "cell_type": "markdown",
   "metadata": {},
   "source": [
    "# 📝 Übungen zur Wiederholung\n",
    "\n",
    "Konsultieren Sie gerne die Materialien der ersten Workshoptage oder das JupyterBook [Python für Historiker:innen](https://digital-history-berlin.github.io/Python-fuer-Historiker-innen/ch01-atomare-datentypen/07-aufgabe-taschenrechner.html) sowie die [Python-Dokumentation](https://docs.python.org/3/) oder auch [Stack Overflow](https://stackoverflow.com/) und tauschen Sie sich untereinander aus.\n",
    "\n",
    "⏳ Insgesamt 30 Minuten, gemeinsam in Breakout-Sessions!\n",
    "\n",
    "## Aufgabe: Einfache Datenerfassung und -analyse \n",
    "\n",
    "Mit dieser Aufgabe wollen wir eine kleine Datenerfassung und -analyse simulieren.\n",
    "\n",
    "Entwickeln Sie dazu gemeinsam ein Python-Skript, das eine einfache Buchdatenbank in Form einer JSON-Datei erstellt und im Ordner `daten/output` speichert. Die Datei soll mindestens drei Buchtitel enthalten (als Schlüssel) und basierend auf von Ihnen getätigten Benutzer:inneneingaben zu den Buchtiteln mehrere Bewertungen (Skala: 1-5) verzeichnen (die bspw. als Liste zu den jeweiligen Titeln gespeichert werden können).\n",
    "\n",
    "Anschließend soll das Skript die Daten wieder aus dem Ordner `daten/output` einlesen und die Durchschnittsbewertung für jedes Buch berechnen und ausgeben. Dazu ist eine kleine mathematische Berechnung notwendig. :)\n",
    "\n",
    "Zur Bearbeitung dieser Aufgabe werden Sie verschiedene Inhalte der ersten Workshoptage benötigen (zum Beispiel: Schleifen, bedingte Anweisungen, Datenstrukturen wie Dictionaries und Listen sowie dazugehörige Funktionen).\n",
    "\n",
    "Erstellen Sie gerne bedarfsweise zunächst einen Pseudocode und überlegen Sie sich, welche Schritte notwendig sind und wie der Code aufgebaut sein muss.\n"
   ]
  },
  {
   "cell_type": "code",
   "execution_count": null,
   "metadata": {},
   "outputs": [],
   "source": [
    "# Ihre Lösung"
   ]
  }
 ],
 "metadata": {
  "kernelspec": {
   "display_name": "mininghistoriansweb",
   "language": "python",
   "name": "python3"
  },
  "language_info": {
   "codemirror_mode": {
    "name": "ipython",
    "version": 3
   },
   "file_extension": ".py",
   "mimetype": "text/x-python",
   "name": "python",
   "nbconvert_exporter": "python",
   "pygments_lexer": "ipython3",
   "version": "3.11.7"
  }
 },
 "nbformat": 4,
 "nbformat_minor": 2
}
