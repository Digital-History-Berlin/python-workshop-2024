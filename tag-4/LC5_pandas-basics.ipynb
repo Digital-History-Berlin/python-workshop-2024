{
 "cells": [
  {
   "cell_type": "markdown",
   "metadata": {},
   "source": [
    "# 💻 Pandas: Erste Schritte\n",
    "\n",
    "[Pandas](https://pandas.pydata.org/) ist eine sehr weit verbreitete Python-Bibliothek zur Verarbeitung von tabellarischen Daten. Der Name kommt vom englischen Begriff *panel data*. \n",
    "\n",
    "Eine sehr gute und ausführliche Einführung in Pandas bietet ein eigenes Kapitel aus dem Data Science Handbook von Jake VanderPlas: [Data Manipulation with Pandas](https://jakevdp.github.io/PythonDataScienceHandbook/03.00-introduction-to-pandas.html), in: [Jake VanderPlas, Python Data Science Handbook. Essential Tools for Working with Data](https://jakevdp.github.io/PythonDataScienceHandbook/) \n"
   ]
  },
  {
   "cell_type": "markdown",
   "metadata": {},
   "source": [
    "## Import"
   ]
  },
  {
   "cell_type": "code",
   "execution_count": 1,
   "metadata": {},
   "outputs": [],
   "source": [
    "import pandas as pd"
   ]
  },
  {
   "cell_type": "markdown",
   "metadata": {},
   "source": [
    "## Einlesen der Daten\n",
    "\n",
    "Dataframes und Series sind die Datenstrukturen, mit denen am meisten gearbeitet wird. Daher werden die Daten, die in einer csv-Datei vorliegen, einen Dataframe eingelesen. Es gibt weitere Möglichkeiten, Daten aus einer list, einem dictionary oder aus anderen Dateiformaten wie json oder xml einzulesen. Der beim Einlesen übergebene Parameter *parse_dates* wandelt diese Datenspalte in ein datetime-Objekt um - auf diese Weise können leichter datumspezifische Operationen durchgeführt werden, was insbesondere für Historiker:innen relevant ist."
   ]
  },
  {
   "cell_type": "code",
   "execution_count": 3,
   "metadata": {},
   "outputs": [],
   "source": [
    "df = pd.read_csv(\"../daten/speeches-bundesregierung.csv\", parse_dates=['date'])"
   ]
  },
  {
   "cell_type": "markdown",
   "metadata": {},
   "source": [
    "## Anzeigen der Daten"
   ]
  },
  {
   "cell_type": "code",
   "execution_count": null,
   "metadata": {},
   "outputs": [],
   "source": [
    "# Attribut \"shape\": Dimensionen des Dataframes als Tupel anzeigen\n",
    "df.shape"
   ]
  },
  {
   "cell_type": "code",
   "execution_count": null,
   "metadata": {},
   "outputs": [],
   "source": [
    "print(f'Der Dataframe hat {df.shape[0]} Zeilen.')\n",
    "print(f'Der Dataframe hat {df.shape[1]} Spalten.')"
   ]
  },
  {
   "cell_type": "code",
   "execution_count": 4,
   "metadata": {},
   "outputs": [
    {
     "data": {
      "text/html": [
       "<div>\n",
       "<style scoped>\n",
       "    .dataframe tbody tr th:only-of-type {\n",
       "        vertical-align: middle;\n",
       "    }\n",
       "\n",
       "    .dataframe tbody tr th {\n",
       "        vertical-align: top;\n",
       "    }\n",
       "\n",
       "    .dataframe thead th {\n",
       "        text-align: right;\n",
       "    }\n",
       "</style>\n",
       "<table border=\"1\" class=\"dataframe\">\n",
       "  <thead>\n",
       "    <tr style=\"text-align: right;\">\n",
       "      <th></th>\n",
       "      <th>date</th>\n",
       "      <th>person</th>\n",
       "      <th>address</th>\n",
       "      <th>title</th>\n",
       "      <th>sub_title</th>\n",
       "      <th>place</th>\n",
       "      <th>src_url</th>\n",
       "      <th>text</th>\n",
       "    </tr>\n",
       "  </thead>\n",
       "  <tbody>\n",
       "    <tr>\n",
       "      <th>0</th>\n",
       "      <td>2002-02-06</td>\n",
       "      <td>Gerhard Schröder</td>\n",
       "      <td>Sehr geehrte Frau Nair, liebe Mitglieder der J...</td>\n",
       "      <td>Rede des Bundeskanzlers zur Eröffnung der 52. ...</td>\n",
       "      <td>Man kann diese Filmfestspiele nicht eröffnen, ...</td>\n",
       "      <td>na</td>\n",
       "      <td>http://archiv.bundesregierung.de/bpaexport/red...</td>\n",
       "      <td>es ist angekündigt worden, man sollte im Beruf...</td>\n",
       "    </tr>\n",
       "    <tr>\n",
       "      <th>1</th>\n",
       "      <td>2002-02-01</td>\n",
       "      <td>Julian Nida-Rümelin</td>\n",
       "      <td>Meine sehr geehrten Damen und Herren!</td>\n",
       "      <td>Redebeitrag von Staatsminister Nida-Rümelin in...</td>\n",
       "      <td>\"Ich bin der Auffassung, wir müssen nicht nur ...</td>\n",
       "      <td>na</td>\n",
       "      <td>http://archiv.bundesregierung.de/bpaexport/red...</td>\n",
       "      <td>Frau Präsidentin!  An Sie gerichtet, Herr Börn...</td>\n",
       "    </tr>\n",
       "    <tr>\n",
       "      <th>2</th>\n",
       "      <td>2002-04-14</td>\n",
       "      <td>Gerhard Schröder</td>\n",
       "      <td>NaN</td>\n",
       "      <td>Interview mit Bundeskanzler Schröder in 'Berli...</td>\n",
       "      <td>In dem Interview äußert sich Bundeskanzler Sch...</td>\n",
       "      <td>na</td>\n",
       "      <td>http://archiv.bundesregierung.de/bpaexport/red...</td>\n",
       "      <td>Frage (Peter Hahne): Bevor wir uns über den Au...</td>\n",
       "    </tr>\n",
       "    <tr>\n",
       "      <th>3</th>\n",
       "      <td>2005-03-08</td>\n",
       "      <td>Gerhard Schröder</td>\n",
       "      <td>Herr Ministerpräsident! Lieber Herr Dr. Bernot...</td>\n",
       "      <td>Rede von Bundeskanzler Gerhard Schröder bei de...</td>\n",
       "      <td>Der Kampf gegen die Arbeitslosigkeit ist eine ...</td>\n",
       "      <td>na</td>\n",
       "      <td>http://archiv.bundesregierung.de/bpaexport/red...</td>\n",
       "      <td>Einen Satz von Ihnen, Herr Dr. Bernotat, habe ...</td>\n",
       "    </tr>\n",
       "    <tr>\n",
       "      <th>4</th>\n",
       "      <td>2000-05-04</td>\n",
       "      <td>Gerhard Schröder</td>\n",
       "      <td>Sehr geehrter Herr Professor Landfried,  sehr ...</td>\n",
       "      <td>Rede von Bundeskanzler Gerhard Schröder auf de...</td>\n",
       "      <td>NaN</td>\n",
       "      <td>na</td>\n",
       "      <td>http://archiv.bundesregierung.de/bpaexport/red...</td>\n",
       "      <td>diese Jahresversammlung der Hochschulrektorenk...</td>\n",
       "    </tr>\n",
       "  </tbody>\n",
       "</table>\n",
       "</div>"
      ],
      "text/plain": [
       "        date               person  \\\n",
       "0 2002-02-06     Gerhard Schröder   \n",
       "1 2002-02-01  Julian Nida-Rümelin   \n",
       "2 2002-04-14     Gerhard Schröder   \n",
       "3 2005-03-08     Gerhard Schröder   \n",
       "4 2000-05-04     Gerhard Schröder   \n",
       "\n",
       "                                             address  \\\n",
       "0  Sehr geehrte Frau Nair, liebe Mitglieder der J...   \n",
       "1              Meine sehr geehrten Damen und Herren!   \n",
       "2                                                NaN   \n",
       "3  Herr Ministerpräsident! Lieber Herr Dr. Bernot...   \n",
       "4  Sehr geehrter Herr Professor Landfried,  sehr ...   \n",
       "\n",
       "                                               title  \\\n",
       "0  Rede des Bundeskanzlers zur Eröffnung der 52. ...   \n",
       "1  Redebeitrag von Staatsminister Nida-Rümelin in...   \n",
       "2  Interview mit Bundeskanzler Schröder in 'Berli...   \n",
       "3  Rede von Bundeskanzler Gerhard Schröder bei de...   \n",
       "4  Rede von Bundeskanzler Gerhard Schröder auf de...   \n",
       "\n",
       "                                           sub_title place  \\\n",
       "0  Man kann diese Filmfestspiele nicht eröffnen, ...    na   \n",
       "1  \"Ich bin der Auffassung, wir müssen nicht nur ...    na   \n",
       "2  In dem Interview äußert sich Bundeskanzler Sch...    na   \n",
       "3  Der Kampf gegen die Arbeitslosigkeit ist eine ...    na   \n",
       "4                                                NaN    na   \n",
       "\n",
       "                                             src_url  \\\n",
       "0  http://archiv.bundesregierung.de/bpaexport/red...   \n",
       "1  http://archiv.bundesregierung.de/bpaexport/red...   \n",
       "2  http://archiv.bundesregierung.de/bpaexport/red...   \n",
       "3  http://archiv.bundesregierung.de/bpaexport/red...   \n",
       "4  http://archiv.bundesregierung.de/bpaexport/red...   \n",
       "\n",
       "                                                text  \n",
       "0  es ist angekündigt worden, man sollte im Beruf...  \n",
       "1  Frau Präsidentin!  An Sie gerichtet, Herr Börn...  \n",
       "2  Frage (Peter Hahne): Bevor wir uns über den Au...  \n",
       "3  Einen Satz von Ihnen, Herr Dr. Bernotat, habe ...  \n",
       "4  diese Jahresversammlung der Hochschulrektorenk...  "
      ]
     },
     "execution_count": 4,
     "metadata": {},
     "output_type": "execute_result"
    }
   ],
   "source": [
    "# Den Kopf des Dataframes anzeigen\n",
    "df.head()"
   ]
  },
  {
   "cell_type": "code",
   "execution_count": null,
   "metadata": {},
   "outputs": [],
   "source": [
    "# Das Ende des Dataframes anzeigen\n",
    "df.tail()"
   ]
  },
  {
   "cell_type": "code",
   "execution_count": null,
   "metadata": {},
   "outputs": [],
   "source": [
    "# Verfügbare Spalten anzeigen mit Attribut \"columns\"\n",
    "df.columns"
   ]
  },
  {
   "cell_type": "code",
   "execution_count": null,
   "metadata": {},
   "outputs": [],
   "source": [
    "# Zusammenfassung der wesentlichen Informationen über ein DataFrame\n",
    "# Non-Null Count gibt die Anzahl der Nicht-Null-Einträge an; 1447/2983 zeigt entsprechend, dass 1.536 Anreden fehlen\n",
    "# dtype: object = text; datetime64 = Datums- und Zeitangaben\n",
    "\n",
    "df.info()"
   ]
  },
  {
   "cell_type": "code",
   "execution_count": null,
   "metadata": {},
   "outputs": [],
   "source": [
    "# describe() bietet eine Zusammenfassung der numerischen Spalten eines DataFrames\n",
    "\n",
    "df.describe()"
   ]
  },
  {
   "cell_type": "markdown",
   "metadata": {},
   "source": [
    "- *count:* Die Anzahl der Nicht-Null-Einträge. Dies hilft, die Menge der vorhandenen Daten zu verstehen und fehlende Werte zu identifizieren.\n",
    "- *mean:* Der Durchschnittswert der Einträge in der Spalte.\n",
    "- *std:* Die Standardabweichung, die misst, wie weit die Werte im Durchschnitt vom Mittelwert (mean) entfernt sind.\n",
    "- *min:* Der kleinste Wert in der Spalte.\n",
    "- *25% (unteres Quartil):* Der Wert, unterhalb dessen 25% der Daten liegen. Dies ist der \"mittlere\" Wert des ersten Quartils.\n",
    "- *50% (Median):* Der mittlere Wert der Daten. 50% der Daten liegen unter diesem Wert und 50% darüber. Dieser Wert teilt den Datensatz in zwei Hälften.\n",
    "- *75% (oberes Quartil):* Der Wert, unterhalb dessen 75% der Daten liegen. Dies ist der \"mittlere\" Wert des dritten Quartils.\n",
    "- *max:* Der größte Wert in der Spalt"
   ]
  },
  {
   "cell_type": "code",
   "execution_count": null,
   "metadata": {},
   "outputs": [],
   "source": [
    "# describe() bietet auch Zusammenfassungen für die nicht-numerischen Spalten eines DataFrames\n",
    "\n",
    "df.describe(include=\"all\")"
   ]
  },
  {
   "cell_type": "markdown",
   "metadata": {},
   "source": [
    "- *unique:* Die Anzahl der einzigartigen Werte in der Spalte. (kann auf Redundanzen hinweisen!)\n",
    "- *top:* Der häufigste Wert in der Spalte. \n",
    "- *freq:* Die Häufigkeit (Anzahl der Vorkommen) des häufigsten Wertes."
   ]
  },
  {
   "cell_type": "code",
   "execution_count": null,
   "metadata": {},
   "outputs": [],
   "source": [
    "# Überblick über fehlende Informationen\n",
    "# isna() erstellt einen neuen Dataframe, der nur Wahrheitswerte enthält\n",
    "# sum() summiert die True-Angaben über alle Spalten hinweg \n",
    "\n",
    "df.isna().sum()     # erzeugt ein Series-Objekt"
   ]
  },
  {
   "cell_type": "markdown",
   "metadata": {},
   "source": [
    "### Auswählen einer Spalte\n",
    "\n",
    "Eine einzelne Spalte eines Dataframes wird bei Pandas als *Series* bezeichnet. Auf Series kann man eigene spezifische Methoden anwenden. Es gibt verschiedene Schreibweisen, um eine Spalte auszuwählen. Die beste Option ist die als letztes angeführte expliziteste Schreibweise, um  Komplikationen bei einer möglichen Doppelbenennung von Spaltennamen und Python-Keywords zu verhindern. "
   ]
  },
  {
   "cell_type": "code",
   "execution_count": null,
   "metadata": {},
   "outputs": [],
   "source": [
    "# Zugriff auf Spalte ähnlich wie bei Dictionaries\n",
    "\n",
    "df[\"person\"]"
   ]
  },
  {
   "cell_type": "code",
   "execution_count": null,
   "metadata": {},
   "outputs": [],
   "source": [
    "df.person"
   ]
  },
  {
   "cell_type": "code",
   "execution_count": null,
   "metadata": {},
   "outputs": [],
   "source": [
    "# Zugriff auf eine spezifische Spalte auf Basis ihrer Indexposition und nicht Ihres Labels\n",
    "# iloc = integer location\n",
    "# Kombination mit Slicing\n",
    "\n",
    "df.iloc[:, 1]"
   ]
  },
  {
   "cell_type": "markdown",
   "metadata": {},
   "source": [
    "**empfohlene Variante:**"
   ]
  },
  {
   "cell_type": "code",
   "execution_count": null,
   "metadata": {},
   "outputs": [],
   "source": [
    "# Zugriff auf eine spezifische Spalte auf Basis eines konkreten Spaltenlabels\n",
    "# loc = label-based location\n",
    "# Kombination mit Slicing\n",
    "\n",
    "df.loc[:, 'person']"
   ]
  },
  {
   "cell_type": "markdown",
   "metadata": {},
   "source": [
    "### Auswählen einer Zelle"
   ]
  },
  {
   "cell_type": "code",
   "execution_count": null,
   "metadata": {},
   "outputs": [],
   "source": [
    "# erste Zelle der Spalte \"person\"\n",
    "\n",
    "df.loc[0, \"person\"]"
   ]
  },
  {
   "cell_type": "code",
   "execution_count": null,
   "metadata": {},
   "outputs": [],
   "source": [
    "# erste 6 Zellen der Spalte Person\n",
    "\n",
    "df.loc[0:5, 'person']"
   ]
  },
  {
   "cell_type": "code",
   "execution_count": null,
   "metadata": {},
   "outputs": [],
   "source": [
    "# Auswahl neuen Variablen zuweisen\n",
    "\n",
    "first_cells = df.loc[0:5, \"person\"]\n",
    "first_cells"
   ]
  },
  {
   "cell_type": "markdown",
   "metadata": {},
   "source": [
    "### Auswählen von Zeilen"
   ]
  },
  {
   "cell_type": "code",
   "execution_count": null,
   "metadata": {},
   "outputs": [],
   "source": [
    "# erste Zeile\n",
    "\n",
    "df.loc[0, :]"
   ]
  },
  {
   "cell_type": "code",
   "execution_count": null,
   "metadata": {},
   "outputs": [],
   "source": [
    "# Zeile 8-11\n",
    "\n",
    "df.loc[7:10, :]"
   ]
  },
  {
   "cell_type": "code",
   "execution_count": null,
   "metadata": {},
   "outputs": [],
   "source": [
    "# Zeilen für spezifische Spalten auswählen\n",
    "\n",
    "df.loc[7:10, \"person\":\"title\"]"
   ]
  },
  {
   "cell_type": "markdown",
   "metadata": {},
   "source": [
    "### 📝 **JETZT:** Aufgabe 1 - Auswählen und Zugreifen auf Spalten üben\n",
    "\n",
    "Machen Sie sich mit dem Zugriff auf Zeilen und Spalten mit `loc[]` vertraut. Probieren Sie verschiedene Konfigurationen aus, um unterschiedliche Ausschnitte aus dem Dataframe anzuzeigen.\n",
    "\n",
    "⏳ 5 Minuten"
   ]
  },
  {
   "cell_type": "code",
   "execution_count": null,
   "metadata": {},
   "outputs": [],
   "source": [
    "# Ihre Lösung"
   ]
  },
  {
   "cell_type": "markdown",
   "metadata": {},
   "source": [
    "---"
   ]
  },
  {
   "cell_type": "markdown",
   "metadata": {},
   "source": [
    "## Arbeiten mit kategorialen Daten"
   ]
  },
  {
   "cell_type": "code",
   "execution_count": null,
   "metadata": {},
   "outputs": [],
   "source": [
    "# Ermittlung der Anzahl der einzigartigen Werte in der Spalte \"person\"\n",
    "\n",
    "df.loc[:, \"person\"].nunique()"
   ]
  },
  {
   "cell_type": "code",
   "execution_count": null,
   "metadata": {},
   "outputs": [],
   "source": [
    "# Ermittlung der einzigartigen Werte in der Spalte \"person\"\n",
    "\n",
    "df.loc[:, \"person\"].unique()"
   ]
  },
  {
   "cell_type": "code",
   "execution_count": null,
   "metadata": {},
   "outputs": [],
   "source": [
    "# Anwendung der describe-Funktion auf die Spalte \"person\"\n",
    "\n",
    "df.loc[:, \"person\"].describe()"
   ]
  },
  {
   "cell_type": "markdown",
   "metadata": {},
   "source": [
    "## Erstellen einer neuen Spalte\n",
    "\n",
    "Angenommen, wir möchten ermitteln, wie lang die hinterlegten Titel sind (auf Zeichenebene):"
   ]
  },
  {
   "cell_type": "code",
   "execution_count": null,
   "metadata": {},
   "outputs": [],
   "source": [
    "# mit der Funktion apply() die len-Funktion auf jeden Wert in der Spalte \"title\" anwenden\n",
    "\n",
    "df.loc[:, 'title'].apply(len)"
   ]
  },
  {
   "cell_type": "code",
   "execution_count": null,
   "metadata": {},
   "outputs": [],
   "source": [
    "# Noch mal Überblick über die fehlenden Informationen anzeigen\n",
    "\n",
    "df.isna().sum()"
   ]
  },
  {
   "cell_type": "code",
   "execution_count": null,
   "metadata": {},
   "outputs": [],
   "source": [
    "# Ersetzung von NaN-Values, die im df als float hinterlegt werden\n",
    "# pd.NA = Indikator für fehlende Werte\n",
    "\n",
    "df = df.replace(pd.NA, \"NaN\") "
   ]
  },
  {
   "cell_type": "code",
   "execution_count": null,
   "metadata": {},
   "outputs": [],
   "source": [
    "# Dataframe noch mal prüfen\n",
    "# Ersetzen mit \"NaN\" sorgt dafür, dass Pandas die fehlenden Werte nicht mehr erkennen kann > für andere Operationen, die fehlende Werte berücksichtigen relevant sein\n",
    "\n",
    "df.isna().sum()"
   ]
  },
  {
   "cell_type": "code",
   "execution_count": null,
   "metadata": {},
   "outputs": [],
   "source": [
    "# Erfolgreiche Anwendung der Längenfunktion auf die Werte der Spalte \"titel\"\n",
    "\n",
    "df.loc[:, \"title\"].apply(len)"
   ]
  },
  {
   "cell_type": "code",
   "execution_count": null,
   "metadata": {},
   "outputs": [],
   "source": [
    "# Informationen als neue Spalte im Dataframe ergänzen (sollte die Spalte schon existieren, werden die Werte überschrieben)\n",
    "\n",
    "df.loc[:, \"len_title\"] = df.loc[:, \"title\"].apply(len)"
   ]
  },
  {
   "cell_type": "code",
   "execution_count": null,
   "metadata": {},
   "outputs": [],
   "source": [
    "df.head()"
   ]
  },
  {
   "cell_type": "markdown",
   "metadata": {},
   "source": [
    "### Textdaten bearbeiten und in neuer Spalte speichern"
   ]
  },
  {
   "cell_type": "code",
   "execution_count": null,
   "metadata": {},
   "outputs": [],
   "source": [
    "# Bearbeitung aller Werte innerhalb der Spalte \"text\" über das Attribut \"str\" und die Methode lower()\n",
    "\n",
    "df.loc[:, \"text_lower\"] = df.loc[:, \"text\"].str.lower()\n"
   ]
  },
  {
   "cell_type": "code",
   "execution_count": null,
   "metadata": {},
   "outputs": [],
   "source": [
    "df.loc[:, \"text_lower\"].head()"
   ]
  },
  {
   "cell_type": "code",
   "execution_count": null,
   "metadata": {},
   "outputs": [],
   "source": [
    "# Auch andere String-Methoden lassen sich so auf die gesamten Texte anwenden\n",
    "\n",
    "df.loc[:, \"text_upper\"] = df.loc[:, \"text\"].str.upper()\n",
    "df.loc[:, \"text_upper\"].head()"
   ]
  },
  {
   "cell_type": "code",
   "execution_count": null,
   "metadata": {},
   "outputs": [],
   "source": [
    "df.head()"
   ]
  },
  {
   "cell_type": "code",
   "execution_count": null,
   "metadata": {},
   "outputs": [],
   "source": [
    "# Inhalte einer Spalte lassen sich auch als Liste auslesen, weiterverarbeiten \n",
    "# und wieder zum df hinzufügen\n",
    "\n",
    "texts = df.loc[:, \"text\"].to_list()\n",
    "\n",
    "texts_replaced = []\n",
    "for text in texts:\n",
    "    text = text.replace(\".\", \"?\")\n",
    "    texts_replaced.append(text)\n",
    "\n",
    "df.loc[:, \"punct_replaced\"] = texts_replaced"
   ]
  },
  {
   "cell_type": "code",
   "execution_count": null,
   "metadata": {},
   "outputs": [],
   "source": [
    "df.head()"
   ]
  },
  {
   "cell_type": "markdown",
   "metadata": {},
   "source": [
    "### 📝 **JETZT:** Aufgabe 2 - Anzahl der Token pro Rede ermitteln und speichern\n",
    "\n",
    "Wir wollen die Anzahl der Token, also die Länge der einzelnen Reden ermitteln und die Informationen wieder im Dataframe als neue Spalte speichern.\n",
    "\n",
    "- Lesen Sie dazu die Texte aus der Spalte `text` aus und speichern Sie sie in einer Liste. \n",
    "- Sorgen Sie nun dafür, dass die einzelnen Texte in Wortlisten zerlegt werden und bestimmen Sie die Länge der einzelnen Wortlisten. (Die Texte müssen nicht bereinigt werden, uns reichen hier grobe Richtwerte.)\n",
    "- Die Länge der Texte soll als neue Spalte `ntokens` zum Dataframe hinzugefügt werden.\n",
    "\n",
    "⏳ 10 Minuten"
   ]
  },
  {
   "cell_type": "code",
   "execution_count": null,
   "metadata": {},
   "outputs": [],
   "source": [
    "# Ihre Lösung"
   ]
  },
  {
   "cell_type": "markdown",
   "metadata": {},
   "source": [
    "## Speichern eines Dataframe\n",
    "\n",
    "Das zweckmäßigste Dateiformat zum Speichern eines Dataframes ist das JSON-Format. Die Dateistrukturen bleiben erhalten: Wenn z.B. eine Spalte aus Zellen mit list-Objekten besteht, bleiben diese erhalten. Anders verhält es sich beim Speichern als CSV-Datei: Hier werden alle nicht numerischen Dateitypen in Strings umgewandelt, sie können aber später auch wieder in ihr ursprüngliches Dateiformat gebracht werden. Es hängt also am Ende vom jeweiligen Anwendungszenario ab, welches Dateiformat Sie wählen."
   ]
  },
  {
   "cell_type": "code",
   "execution_count": null,
   "metadata": {},
   "outputs": [],
   "source": [
    "df.to_json(\"../daten/output/speeches-bundesregierung_bearbeitet.json\", force_ascii=False, indent=4)\n",
    "df.to_csv(\"../daten/output/speeches-bundesregierung_bearbeitet.csv\", index=False)"
   ]
  },
  {
   "cell_type": "code",
   "execution_count": null,
   "metadata": {},
   "outputs": [],
   "source": [
    "# JSON als Dataframe einlesen\n",
    "\n",
    "df = pd.read_json(\"../daten/output/speeches-bundesregierung_bearbeitet.json\")"
   ]
  },
  {
   "cell_type": "code",
   "execution_count": null,
   "metadata": {},
   "outputs": [],
   "source": [
    "df.head()"
   ]
  },
  {
   "cell_type": "markdown",
   "metadata": {},
   "source": [
    "## Maximum und Minimum einer Spalte anzeigen"
   ]
  },
  {
   "cell_type": "code",
   "execution_count": null,
   "metadata": {},
   "outputs": [],
   "source": [
    "# JSON als Dataframe einlesen\n",
    "\n",
    "df = pd.read_json(\"../daten/output/speeches-bundesregierung_bearbeitet.json\")"
   ]
  },
  {
   "cell_type": "code",
   "execution_count": null,
   "metadata": {},
   "outputs": [],
   "source": [
    "# Ermitteln, welche Rede die längste Rede ist \n",
    "\n",
    "df.loc[:, \"ntokens\"].idxmax()"
   ]
  },
  {
   "cell_type": "code",
   "execution_count": null,
   "metadata": {},
   "outputs": [],
   "source": [
    "# idxmax() gibt Indexposition zurück, können wir als Argument nutzen, \n",
    "# um die Zeile genauer zu inspizieren\n",
    "\n",
    "df.loc[df.loc[:, \"ntokens\"].idxmax(), :]"
   ]
  },
  {
   "cell_type": "code",
   "execution_count": null,
   "metadata": {},
   "outputs": [],
   "source": [
    "# ganzen Text anzeigen\n",
    "print(df.loc[df.loc[:, \"ntokens\"].idxmax(), \"text\"])"
   ]
  },
  {
   "cell_type": "code",
   "execution_count": null,
   "metadata": {},
   "outputs": [],
   "source": [
    "# Selbiges für die kürzeste Rede\n",
    "\n",
    "df.loc[df.loc[:, 'ntokens'].idxmin(), :]"
   ]
  },
  {
   "cell_type": "code",
   "execution_count": null,
   "metadata": {},
   "outputs": [],
   "source": [
    "# Noch mal Einblicke in statistisches Profil des Datensatzes \n",
    "\n",
    "df.describe()"
   ]
  },
  {
   "cell_type": "markdown",
   "metadata": {},
   "source": [
    "## Datenabfragen gestalten mit booleschen Masken "
   ]
  },
  {
   "cell_type": "code",
   "execution_count": null,
   "metadata": {},
   "outputs": [],
   "source": [
    "# Mit der Funktion contains() alle diejenigen Zellen einer Spalte ermitteln, \n",
    "# die die Zeichenfolge \"Ukraine\" enthalten\n",
    "# sum() wiederum gibt die Gesamtanzahl der Zellen zurück \n",
    "\n",
    "query = df.loc[:, \"text\"].str.contains(\"Ukraine\").sum()\n",
    "query"
   ]
  },
  {
   "cell_type": "code",
   "execution_count": null,
   "metadata": {},
   "outputs": [],
   "source": [
    "# Boolesche Maske, da für jede Zeile des df angegeben wird, ob die Zelle den gesuchten Wert enthält (True)\n",
    "# oder nicht (False)\n",
    "df.loc[:, \"text\"].str.contains(\"Ukraine\")"
   ]
  },
  {
   "cell_type": "code",
   "execution_count": null,
   "metadata": {},
   "outputs": [],
   "source": [
    "# Prüfen, in welchen Zellen der Spalte \"person\" der Wert der Zeichenkette \"Gerhard Schröder\" entspricht\n",
    "\n",
    "mask = df.loc[:, \"person\"] == \"Gerhard Schröder\"\n",
    "mask"
   ]
  },
  {
   "cell_type": "code",
   "execution_count": null,
   "metadata": {},
   "outputs": [],
   "source": [
    "# Boolesche Masken nutzen, um Ausschnitte aus dem Dataframe zusammenzustellen\n",
    "\n",
    "df_schroeder = df.loc[mask, :]\n",
    "df_schroeder.head()"
   ]
  },
  {
   "cell_type": "code",
   "execution_count": null,
   "metadata": {},
   "outputs": [],
   "source": [
    "# Analog dazu für die Schlagwortsuche\n",
    "\n",
    "mask = df.loc[:, \"text\"].str.contains(\"Ukraine\")    # Schlagwortsuche\n",
    "df_ukraine = df.loc[mask, :]                        # Parsen des Datensatzes entsprechend der booleschen Maske\n",
    "\n",
    "print(df_ukraine.shape)         # shape des neuen Dataframes\n",
    "df_ukraine.head()               # Kopf des neuen Dataframes"
   ]
  },
  {
   "cell_type": "markdown",
   "metadata": {},
   "source": [
    "### Genaueren Einblick in die Suchergebnisse erhalten"
   ]
  },
  {
   "cell_type": "code",
   "execution_count": null,
   "metadata": {},
   "outputs": [],
   "source": [
    "# Mit dem Kontextmanager und der Funktion \"option_context\" kann temporär der Inhalt von Spalten \n",
    "# unabhängig von der Länge vollständig angezeigt werden\n",
    "# Funktion display() sorgt für die Anzeige im Notebook\n",
    "\n",
    "with pd.option_context(\"display.max_colwidth\", None):\n",
    "    #df_ukraine.loc[:, [\"date\", \"title\"]].head(3)\n",
    "    display(df_ukraine.loc[:, [\"date\", \"title\"]].head(3))"
   ]
  },
  {
   "cell_type": "markdown",
   "metadata": {},
   "source": [
    "### Komplexere Abfragen gestalten durch Nutzung logischer Operatoren"
   ]
  },
  {
   "cell_type": "code",
   "execution_count": null,
   "metadata": {},
   "outputs": [],
   "source": [
    "# Prüfung der Zellen in der Spalte \"text\" dahingehend, ob sie die Zeichenketten\n",
    "# \"Ukraine\" UND \"Russland\" enthalten\n",
    "# Sonderzeichen \"\\\" \n",
    "\n",
    "mask = (df.loc[:, \"text\"].str.contains(\"Ukraine\")) \\\n",
    "      & (df.loc[:, \"text\"].str.contains(\"Russland\"))\n",
    "\n",
    "df_uk_ru = df.loc[mask,:]     # auf Basis der booleschen Maske kann wieder ein Subset erzeugt werden\n",
    "print(df_uk_ru.shape)\n",
    "df_uk_ru.tail()"
   ]
  },
  {
   "cell_type": "code",
   "execution_count": null,
   "metadata": {},
   "outputs": [],
   "source": [
    "# Suchanfragen lassen sich beliebig verketten (auch über unterschiedliche Spalten hinweg)\n",
    "\n",
    "mask = (df.loc[:, \"text\"].str.contains(\"Ukraine\")) \\\n",
    "      & (df.loc[:, \"text\"].str.contains(\"Russland\")) \\\n",
    "      & (df.loc[:, \"person\"] == \"Angela Merkel\") \\\n",
    "      & (df.loc[:, \"date\"].dt.year == 2014)        \n",
    "\n",
    "df_uk_ru_2 = df.loc[mask,:]\n",
    "print(df_uk_ru_2.shape)\n",
    "df_uk_ru_2.tail()"
   ]
  },
  {
   "cell_type": "code",
   "execution_count": null,
   "metadata": {},
   "outputs": [],
   "source": [
    "# detailliertere Einblicke erhalten\n",
    "\n",
    "with pd.option_context(\"display.max_colwidth\", None):\n",
    "    display(df_uk_ru_2.loc[:, [\"date\", \"person\", \"text\"]].head(3))"
   ]
  },
  {
   "cell_type": "markdown",
   "metadata": {},
   "source": [
    "### 📝 **JETZT:** Aufgabe 3 - Datenabfragen gestalten\n",
    "\n",
    "Erkunden Sie das Korpus von Reden von Angehörigen der Bundesregierung, um ein tieferes Verständnis verschiedener thematischer Schwerpunkte und die Nutzung spezifischer Begrifflichkeiten über die Zeit zu gewinnen. \n",
    "\n",
    "1. Extrahieren Sie alle Reden, die im Jahr 2001 gehalten wurden.\n",
    "2. Ermitteln Sie die Anzahl der Reden, die das Wort \"Europa\" enthalten.\n",
    "3. Identifizieren Sie Reden, die den Begriff \"digital\" und \"Digitalisierung\" enthalten. \n",
    "4. Suchen Sie nach Reden, die zwischen 2000 und 2010 gehalten wurden, die sich auf Umweltthemen beziehen. In Frage kommen hierfür Begriffe wie \"Umwelt\", \"Klima\", \"Nachhaltigkeit\" oder ähnliches. Formulieren Sie eine Abfrage, die mehrere dieser Begriffe berücksichtigt. Achten Sie ggf. darauf, wie die Bedingungen mit runden Klammern gruppiert werden müssen.\n",
    "\n",
    "Hinweise:\n",
    "- Für diese Aufgabe benötigen Sie die logischen Operatoren für *UND* (`&`) und *ODER* (`|`) - letzteres ist je nach Tastatur auf einer anderen Taste. Wichtig: In Python hat der logische Operator `&` eine höhere Priorität als `|`. Bei Abfragen, die beide Operatoren verwenden, muss also darauf geachtet werden, wie die Abfragebestandteile mit runden Klammern gruppiert werden.\n",
    "- Die Funktion `contains()` arbeitet standardmäßig case-sensitiv. Wenn Sie eine case-insensitive Suche durchführen möchten, können Sie den Parameter `case=False` ergänzen.\n",
    "\n",
    "⏳ 20 Minuten"
   ]
  },
  {
   "cell_type": "code",
   "execution_count": null,
   "metadata": {},
   "outputs": [],
   "source": [
    "# gemeinsame Lösung"
   ]
  }
 ],
 "metadata": {
  "interpreter": {
   "hash": "88af0ede569fe5c04062aeb490d0f03883bc9347bee31fbe08a2787a335dbcd5"
  },
  "kernelspec": {
   "display_name": "Python 3.8.12 ('base')",
   "language": "python",
   "name": "python3"
  },
  "language_info": {
   "codemirror_mode": {
    "name": "ipython",
    "version": 3
   },
   "file_extension": ".py",
   "mimetype": "text/x-python",
   "name": "python",
   "nbconvert_exporter": "python",
   "pygments_lexer": "ipython3",
   "version": "3.11.7"
  },
  "orig_nbformat": 4
 },
 "nbformat": 4,
 "nbformat_minor": 2
}
